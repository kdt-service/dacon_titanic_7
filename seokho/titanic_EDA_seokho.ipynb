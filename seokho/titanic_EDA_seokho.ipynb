{
  "cells": [
    {
      "cell_type": "code",
      "execution_count": 184,
      "metadata": {
        "id": "VtsaN1rKUGKF"
      },
      "outputs": [],
      "source": [
        "import pandas as pd\n",
        "import matplotlib.pyplot as plt\n",
        "import seaborn as sns\n",
        "plt.style.use('ggplot')\n",
        "\n",
        "from pylab import rcParams\n",
        "rcParams['figure.figsize'] = 15,10\n",
        "\n",
        "import warnings\n",
        "warnings.filterwarnings('ignore')\n"
      ]
    },
    {
      "cell_type": "code",
      "execution_count": 355,
      "metadata": {
        "id": "pzJBdbaFUYYT"
      },
      "outputs": [],
      "source": [
        "train_path = '/content/drive/MyDrive/ds_study/ML/02.titanic/train.csv'\n",
        "test_path = '/content/drive/MyDrive/ds_study/ML/02.titanic/test.csv'"
      ]
    },
    {
      "cell_type": "code",
      "execution_count": 404,
      "metadata": {
        "id": "kguAMOM2UgG_"
      },
      "outputs": [],
      "source": [
        "train_df = pd.read_csv(train_path)\n",
        "test_df = pd.read_csv(test_path)"
      ]
    },
    {
      "cell_type": "code",
      "execution_count": null,
      "metadata": {
        "colab": {
          "base_uri": "https://localhost:8080/",
          "height": 424
        },
        "id": "nAk5rqxmVeqd",
        "outputId": "6d6b347b-9de8-4fb6-d430-30f974d7e955"
      },
      "outputs": [
        {
          "data": {
            "text/html": [
              "\n",
              "  <div id=\"df-5453ec94-a2b0-44f4-8924-5e7645c905f4\">\n",
              "    <div class=\"colab-df-container\">\n",
              "      <div>\n",
              "<style scoped>\n",
              "    .dataframe tbody tr th:only-of-type {\n",
              "        vertical-align: middle;\n",
              "    }\n",
              "\n",
              "    .dataframe tbody tr th {\n",
              "        vertical-align: top;\n",
              "    }\n",
              "\n",
              "    .dataframe thead th {\n",
              "        text-align: right;\n",
              "    }\n",
              "</style>\n",
              "<table border=\"1\" class=\"dataframe\">\n",
              "  <thead>\n",
              "    <tr style=\"text-align: right;\">\n",
              "      <th></th>\n",
              "      <th>PassengerId</th>\n",
              "      <th>Survived</th>\n",
              "      <th>Pclass</th>\n",
              "      <th>Name</th>\n",
              "      <th>Sex</th>\n",
              "      <th>Age</th>\n",
              "      <th>SibSp</th>\n",
              "      <th>Parch</th>\n",
              "      <th>Ticket</th>\n",
              "      <th>Fare</th>\n",
              "      <th>Cabin</th>\n",
              "      <th>Embarked</th>\n",
              "    </tr>\n",
              "  </thead>\n",
              "  <tbody>\n",
              "    <tr>\n",
              "      <th>0</th>\n",
              "      <td>1</td>\n",
              "      <td>0</td>\n",
              "      <td>3</td>\n",
              "      <td>Braund, Mr. Owen Harris</td>\n",
              "      <td>male</td>\n",
              "      <td>22.0</td>\n",
              "      <td>1</td>\n",
              "      <td>0</td>\n",
              "      <td>A/5 21171</td>\n",
              "      <td>7.2500</td>\n",
              "      <td>NaN</td>\n",
              "      <td>S</td>\n",
              "    </tr>\n",
              "    <tr>\n",
              "      <th>1</th>\n",
              "      <td>2</td>\n",
              "      <td>1</td>\n",
              "      <td>1</td>\n",
              "      <td>Cumings, Mrs. John Bradley (Florence Briggs Th...</td>\n",
              "      <td>female</td>\n",
              "      <td>38.0</td>\n",
              "      <td>1</td>\n",
              "      <td>0</td>\n",
              "      <td>PC 17599</td>\n",
              "      <td>71.2833</td>\n",
              "      <td>C85</td>\n",
              "      <td>C</td>\n",
              "    </tr>\n",
              "    <tr>\n",
              "      <th>2</th>\n",
              "      <td>3</td>\n",
              "      <td>1</td>\n",
              "      <td>3</td>\n",
              "      <td>Heikkinen, Miss. Laina</td>\n",
              "      <td>female</td>\n",
              "      <td>26.0</td>\n",
              "      <td>0</td>\n",
              "      <td>0</td>\n",
              "      <td>STON/O2. 3101282</td>\n",
              "      <td>7.9250</td>\n",
              "      <td>NaN</td>\n",
              "      <td>S</td>\n",
              "    </tr>\n",
              "    <tr>\n",
              "      <th>3</th>\n",
              "      <td>4</td>\n",
              "      <td>1</td>\n",
              "      <td>1</td>\n",
              "      <td>Futrelle, Mrs. Jacques Heath (Lily May Peel)</td>\n",
              "      <td>female</td>\n",
              "      <td>35.0</td>\n",
              "      <td>1</td>\n",
              "      <td>0</td>\n",
              "      <td>113803</td>\n",
              "      <td>53.1000</td>\n",
              "      <td>C123</td>\n",
              "      <td>S</td>\n",
              "    </tr>\n",
              "    <tr>\n",
              "      <th>4</th>\n",
              "      <td>5</td>\n",
              "      <td>0</td>\n",
              "      <td>3</td>\n",
              "      <td>Allen, Mr. William Henry</td>\n",
              "      <td>male</td>\n",
              "      <td>35.0</td>\n",
              "      <td>0</td>\n",
              "      <td>0</td>\n",
              "      <td>373450</td>\n",
              "      <td>8.0500</td>\n",
              "      <td>NaN</td>\n",
              "      <td>S</td>\n",
              "    </tr>\n",
              "    <tr>\n",
              "      <th>...</th>\n",
              "      <td>...</td>\n",
              "      <td>...</td>\n",
              "      <td>...</td>\n",
              "      <td>...</td>\n",
              "      <td>...</td>\n",
              "      <td>...</td>\n",
              "      <td>...</td>\n",
              "      <td>...</td>\n",
              "      <td>...</td>\n",
              "      <td>...</td>\n",
              "      <td>...</td>\n",
              "      <td>...</td>\n",
              "    </tr>\n",
              "    <tr>\n",
              "      <th>886</th>\n",
              "      <td>887</td>\n",
              "      <td>0</td>\n",
              "      <td>2</td>\n",
              "      <td>Montvila, Rev. Juozas</td>\n",
              "      <td>male</td>\n",
              "      <td>27.0</td>\n",
              "      <td>0</td>\n",
              "      <td>0</td>\n",
              "      <td>211536</td>\n",
              "      <td>13.0000</td>\n",
              "      <td>NaN</td>\n",
              "      <td>S</td>\n",
              "    </tr>\n",
              "    <tr>\n",
              "      <th>887</th>\n",
              "      <td>888</td>\n",
              "      <td>1</td>\n",
              "      <td>1</td>\n",
              "      <td>Graham, Miss. Margaret Edith</td>\n",
              "      <td>female</td>\n",
              "      <td>19.0</td>\n",
              "      <td>0</td>\n",
              "      <td>0</td>\n",
              "      <td>112053</td>\n",
              "      <td>30.0000</td>\n",
              "      <td>B42</td>\n",
              "      <td>S</td>\n",
              "    </tr>\n",
              "    <tr>\n",
              "      <th>888</th>\n",
              "      <td>889</td>\n",
              "      <td>0</td>\n",
              "      <td>3</td>\n",
              "      <td>Johnston, Miss. Catherine Helen \"Carrie\"</td>\n",
              "      <td>female</td>\n",
              "      <td>NaN</td>\n",
              "      <td>1</td>\n",
              "      <td>2</td>\n",
              "      <td>W./C. 6607</td>\n",
              "      <td>23.4500</td>\n",
              "      <td>NaN</td>\n",
              "      <td>S</td>\n",
              "    </tr>\n",
              "    <tr>\n",
              "      <th>889</th>\n",
              "      <td>890</td>\n",
              "      <td>1</td>\n",
              "      <td>1</td>\n",
              "      <td>Behr, Mr. Karl Howell</td>\n",
              "      <td>male</td>\n",
              "      <td>26.0</td>\n",
              "      <td>0</td>\n",
              "      <td>0</td>\n",
              "      <td>111369</td>\n",
              "      <td>30.0000</td>\n",
              "      <td>C148</td>\n",
              "      <td>C</td>\n",
              "    </tr>\n",
              "    <tr>\n",
              "      <th>890</th>\n",
              "      <td>891</td>\n",
              "      <td>0</td>\n",
              "      <td>3</td>\n",
              "      <td>Dooley, Mr. Patrick</td>\n",
              "      <td>male</td>\n",
              "      <td>32.0</td>\n",
              "      <td>0</td>\n",
              "      <td>0</td>\n",
              "      <td>370376</td>\n",
              "      <td>7.7500</td>\n",
              "      <td>NaN</td>\n",
              "      <td>Q</td>\n",
              "    </tr>\n",
              "  </tbody>\n",
              "</table>\n",
              "<p>891 rows × 12 columns</p>\n",
              "</div>\n",
              "      <button class=\"colab-df-convert\" onclick=\"convertToInteractive('df-5453ec94-a2b0-44f4-8924-5e7645c905f4')\"\n",
              "              title=\"Convert this dataframe to an interactive table.\"\n",
              "              style=\"display:none;\">\n",
              "        \n",
              "  <svg xmlns=\"http://www.w3.org/2000/svg\" height=\"24px\"viewBox=\"0 0 24 24\"\n",
              "       width=\"24px\">\n",
              "    <path d=\"M0 0h24v24H0V0z\" fill=\"none\"/>\n",
              "    <path d=\"M18.56 5.44l.94 2.06.94-2.06 2.06-.94-2.06-.94-.94-2.06-.94 2.06-2.06.94zm-11 1L8.5 8.5l.94-2.06 2.06-.94-2.06-.94L8.5 2.5l-.94 2.06-2.06.94zm10 10l.94 2.06.94-2.06 2.06-.94-2.06-.94-.94-2.06-.94 2.06-2.06.94z\"/><path d=\"M17.41 7.96l-1.37-1.37c-.4-.4-.92-.59-1.43-.59-.52 0-1.04.2-1.43.59L10.3 9.45l-7.72 7.72c-.78.78-.78 2.05 0 2.83L4 21.41c.39.39.9.59 1.41.59.51 0 1.02-.2 1.41-.59l7.78-7.78 2.81-2.81c.8-.78.8-2.07 0-2.86zM5.41 20L4 18.59l7.72-7.72 1.47 1.35L5.41 20z\"/>\n",
              "  </svg>\n",
              "      </button>\n",
              "      \n",
              "  <style>\n",
              "    .colab-df-container {\n",
              "      display:flex;\n",
              "      flex-wrap:wrap;\n",
              "      gap: 12px;\n",
              "    }\n",
              "\n",
              "    .colab-df-convert {\n",
              "      background-color: #E8F0FE;\n",
              "      border: none;\n",
              "      border-radius: 50%;\n",
              "      cursor: pointer;\n",
              "      display: none;\n",
              "      fill: #1967D2;\n",
              "      height: 32px;\n",
              "      padding: 0 0 0 0;\n",
              "      width: 32px;\n",
              "    }\n",
              "\n",
              "    .colab-df-convert:hover {\n",
              "      background-color: #E2EBFA;\n",
              "      box-shadow: 0px 1px 2px rgba(60, 64, 67, 0.3), 0px 1px 3px 1px rgba(60, 64, 67, 0.15);\n",
              "      fill: #174EA6;\n",
              "    }\n",
              "\n",
              "    [theme=dark] .colab-df-convert {\n",
              "      background-color: #3B4455;\n",
              "      fill: #D2E3FC;\n",
              "    }\n",
              "\n",
              "    [theme=dark] .colab-df-convert:hover {\n",
              "      background-color: #434B5C;\n",
              "      box-shadow: 0px 1px 3px 1px rgba(0, 0, 0, 0.15);\n",
              "      filter: drop-shadow(0px 1px 2px rgba(0, 0, 0, 0.3));\n",
              "      fill: #FFFFFF;\n",
              "    }\n",
              "  </style>\n",
              "\n",
              "      <script>\n",
              "        const buttonEl =\n",
              "          document.querySelector('#df-5453ec94-a2b0-44f4-8924-5e7645c905f4 button.colab-df-convert');\n",
              "        buttonEl.style.display =\n",
              "          google.colab.kernel.accessAllowed ? 'block' : 'none';\n",
              "\n",
              "        async function convertToInteractive(key) {\n",
              "          const element = document.querySelector('#df-5453ec94-a2b0-44f4-8924-5e7645c905f4');\n",
              "          const dataTable =\n",
              "            await google.colab.kernel.invokeFunction('convertToInteractive',\n",
              "                                                     [key], {});\n",
              "          if (!dataTable) return;\n",
              "\n",
              "          const docLinkHtml = 'Like what you see? Visit the ' +\n",
              "            '<a target=\"_blank\" href=https://colab.research.google.com/notebooks/data_table.ipynb>data table notebook</a>'\n",
              "            + ' to learn more about interactive tables.';\n",
              "          element.innerHTML = '';\n",
              "          dataTable['output_type'] = 'display_data';\n",
              "          await google.colab.output.renderOutput(dataTable, element);\n",
              "          const docLink = document.createElement('div');\n",
              "          docLink.innerHTML = docLinkHtml;\n",
              "          element.appendChild(docLink);\n",
              "        }\n",
              "      </script>\n",
              "    </div>\n",
              "  </div>\n",
              "  "
            ],
            "text/plain": [
              "     PassengerId  Survived  Pclass  \\\n",
              "0              1         0       3   \n",
              "1              2         1       1   \n",
              "2              3         1       3   \n",
              "3              4         1       1   \n",
              "4              5         0       3   \n",
              "..           ...       ...     ...   \n",
              "886          887         0       2   \n",
              "887          888         1       1   \n",
              "888          889         0       3   \n",
              "889          890         1       1   \n",
              "890          891         0       3   \n",
              "\n",
              "                                                  Name     Sex   Age  SibSp  \\\n",
              "0                              Braund, Mr. Owen Harris    male  22.0      1   \n",
              "1    Cumings, Mrs. John Bradley (Florence Briggs Th...  female  38.0      1   \n",
              "2                               Heikkinen, Miss. Laina  female  26.0      0   \n",
              "3         Futrelle, Mrs. Jacques Heath (Lily May Peel)  female  35.0      1   \n",
              "4                             Allen, Mr. William Henry    male  35.0      0   \n",
              "..                                                 ...     ...   ...    ...   \n",
              "886                              Montvila, Rev. Juozas    male  27.0      0   \n",
              "887                       Graham, Miss. Margaret Edith  female  19.0      0   \n",
              "888           Johnston, Miss. Catherine Helen \"Carrie\"  female   NaN      1   \n",
              "889                              Behr, Mr. Karl Howell    male  26.0      0   \n",
              "890                                Dooley, Mr. Patrick    male  32.0      0   \n",
              "\n",
              "     Parch            Ticket     Fare Cabin Embarked  \n",
              "0        0         A/5 21171   7.2500   NaN        S  \n",
              "1        0          PC 17599  71.2833   C85        C  \n",
              "2        0  STON/O2. 3101282   7.9250   NaN        S  \n",
              "3        0            113803  53.1000  C123        S  \n",
              "4        0            373450   8.0500   NaN        S  \n",
              "..     ...               ...      ...   ...      ...  \n",
              "886      0            211536  13.0000   NaN        S  \n",
              "887      0            112053  30.0000   B42        S  \n",
              "888      2        W./C. 6607  23.4500   NaN        S  \n",
              "889      0            111369  30.0000  C148        C  \n",
              "890      0            370376   7.7500   NaN        Q  \n",
              "\n",
              "[891 rows x 12 columns]"
            ]
          },
          "execution_count": 6,
          "metadata": {},
          "output_type": "execute_result"
        }
      ],
      "source": [
        "train_df"
      ]
    },
    {
      "cell_type": "code",
      "source": [
        "from google.colab import drive\n",
        "drive.mount('/content/drive')"
      ],
      "metadata": {
        "colab": {
          "base_uri": "https://localhost:8080/"
        },
        "id": "qrK3tdjuyKQ7",
        "outputId": "da94e7be-f073-47be-9370-20caad31ce9a"
      },
      "execution_count": 4,
      "outputs": [
        {
          "output_type": "stream",
          "name": "stdout",
          "text": [
            "Mounted at /content/drive\n"
          ]
        }
      ]
    },
    {
      "cell_type": "code",
      "execution_count": null,
      "metadata": {
        "colab": {
          "base_uri": "https://localhost:8080/"
        },
        "id": "N0iedTEOVgQa",
        "outputId": "e8149057-6fb5-49a7-cd8d-570b47eddf5b"
      },
      "outputs": [
        {
          "name": "stdout",
          "output_type": "stream",
          "text": [
            "<class 'pandas.core.frame.DataFrame'>\n",
            "RangeIndex: 891 entries, 0 to 890\n",
            "Data columns (total 12 columns):\n",
            " #   Column       Non-Null Count  Dtype  \n",
            "---  ------       --------------  -----  \n",
            " 0   PassengerId  891 non-null    int64  \n",
            " 1   Survived     891 non-null    int64  \n",
            " 2   Pclass       891 non-null    int64  \n",
            " 3   Name         891 non-null    object \n",
            " 4   Sex          891 non-null    object \n",
            " 5   Age          714 non-null    float64\n",
            " 6   SibSp        891 non-null    int64  \n",
            " 7   Parch        891 non-null    int64  \n",
            " 8   Ticket       891 non-null    object \n",
            " 9   Fare         891 non-null    float64\n",
            " 10  Cabin        204 non-null    object \n",
            " 11  Embarked     889 non-null    object \n",
            "dtypes: float64(2), int64(5), object(5)\n",
            "memory usage: 83.7+ KB\n"
          ]
        }
      ],
      "source": [
        "train_df.info()"
      ]
    },
    {
      "cell_type": "code",
      "execution_count": null,
      "metadata": {
        "colab": {
          "base_uri": "https://localhost:8080/"
        },
        "id": "C3juWaFgVicn",
        "outputId": "bad5a191-1b89-4564-ac3c-8665058311af"
      },
      "outputs": [
        {
          "data": {
            "text/plain": [
              "PassengerId      0\n",
              "Survived         0\n",
              "Pclass           0\n",
              "Name             0\n",
              "Sex              0\n",
              "Age            177\n",
              "SibSp            0\n",
              "Parch            0\n",
              "Ticket           0\n",
              "Fare             0\n",
              "Cabin          687\n",
              "Embarked         2\n",
              "dtype: int64"
            ]
          },
          "execution_count": 9,
          "metadata": {},
          "output_type": "execute_result"
        }
      ],
      "source": [
        "train_df.isnull().sum()"
      ]
    },
    {
      "cell_type": "code",
      "execution_count": null,
      "metadata": {
        "colab": {
          "base_uri": "https://localhost:8080/"
        },
        "id": "SdoeUbLhVmqz",
        "outputId": "394c9655-e4e8-472f-c762-bbf26e7bbd77"
      },
      "outputs": [
        {
          "data": {
            "text/plain": [
              "Index(['PassengerId', 'Survived', 'Pclass', 'Name', 'Sex', 'Age', 'SibSp',\n",
              "       'Parch', 'Ticket', 'Fare', 'Cabin', 'Embarked'],\n",
              "      dtype='object')"
            ]
          },
          "execution_count": 10,
          "metadata": {},
          "output_type": "execute_result"
        }
      ],
      "source": [
        "train_df.columns"
      ]
    },
    {
      "cell_type": "code",
      "execution_count": 6,
      "metadata": {
        "id": "sakNnvOzVwOa"
      },
      "outputs": [],
      "source": [
        "view_cols = ['Pclass', 'Sex', 'Age', 'SibSp',\n",
        "       'Parch', 'Fare', 'Embarked']"
      ]
    },
    {
      "cell_type": "markdown",
      "metadata": {
        "id": "dkW1G1royBLW"
      },
      "source": [
        "\n",
        "#### Pclass</br>\n",
        ": 등급이 높을수록 생존률이 높다.\n",
        "</br></br>\n",
        "\n",
        "#### Sex</br>\n",
        ": 여성의 생존률이 압도적으로 높다.\n",
        "</br></br>\n",
        "\n",
        "#### Age</br>\n",
        ": 10세이하, 77~78세 이상일 경우 생존률이 높다.\n",
        "</br></br>\n",
        "\n",
        "#### SipSp</br>\n",
        ": 가족의 동행자가 1명일 경우가 생존률이 가장 높다.\n",
        "</br></br>\n",
        "\n",
        "#### Parch</br>\n",
        ": 동승한 부모 혹은 자식 수 1~3의 비슷한 수준의 생존률을 보여주었다.\n",
        "</br></br>\n",
        "\n",
        "#### Fare</br>\n",
        ": 요금 단위의 100 이하에 사망자들이 몰려있는 것으로 보인다.\n",
        "</br></br>\n",
        "\n",
        "#### Embarked</br>\n",
        ": C 항구에서 탑승한 승객의 생존률이 높다.\n"
      ]
    },
    {
      "cell_type": "code",
      "execution_count": 7,
      "metadata": {
        "colab": {
          "base_uri": "https://localhost:8080/",
          "height": 729
        },
        "id": "oN0C2doUV5_m",
        "outputId": "00949b1b-b1f1-4831-917d-f2a793236515"
      },
      "outputs": [
        {
          "output_type": "display_data",
          "data": {
            "text/plain": [
              "<Figure size 1080x720 with 8 Axes>"
            ],
            "image/png": "[encoded data removed]"
          },
          "metadata": {}
        }
      ],
      "source": [
        "fig, axes = plt.subplots(4,2)\n",
        "for idx, col in enumerate(view_cols):\n",
        "  ax = axes[idx//2, idx%2]\n",
        "  target_df = train_df[[col, 'Survived']]\n",
        "  if col in ['Pclass', 'SibSp', 'Parch']:\n",
        "    target_df[col] = target_df[col].astype(str)\n",
        "    target_df.sort_values(col, inplace=True)\n",
        "  sns.histplot(data = target_df, x = col, label=col, hue = 'Survived', ax = ax, multiple='fill')\n",
        "  ax.set_title(col+\"'s HistPlot\")\n",
        "\n",
        "plt.tight_layout()\n",
        "plt.show()"
      ]
    },
    {
      "cell_type": "code",
      "execution_count": 8,
      "metadata": {
        "id": "EK_iAiIdWvI6"
      },
      "outputs": [],
      "source": [
        "categorical_cols = ['Name', 'Ticket', 'Cabin']"
      ]
    },
    {
      "cell_type": "code",
      "execution_count": 9,
      "metadata": {
        "colab": {
          "base_uri": "https://localhost:8080/"
        },
        "id": "AGc5evHGX8Wu",
        "outputId": "df7fdf11-4522-4e3b-cda4-37d5b427826f"
      },
      "outputs": [
        {
          "output_type": "execute_result",
          "data": {
            "text/plain": [
              "0                                Braund, Mr. Owen Harris\n",
              "1      Cumings, Mrs. John Bradley (Florence Briggs Th...\n",
              "2                                 Heikkinen, Miss. Laina\n",
              "3           Futrelle, Mrs. Jacques Heath (Lily May Peel)\n",
              "4                               Allen, Mr. William Henry\n",
              "                             ...                        \n",
              "886                                Montvila, Rev. Juozas\n",
              "887                         Graham, Miss. Margaret Edith\n",
              "888             Johnston, Miss. Catherine Helen \"Carrie\"\n",
              "889                                Behr, Mr. Karl Howell\n",
              "890                                  Dooley, Mr. Patrick\n",
              "Name: Name, Length: 891, dtype: object"
            ]
          },
          "metadata": {},
          "execution_count": 9
        }
      ],
      "source": [
        "train_df['Name']"
      ]
    },
    {
      "cell_type": "code",
      "execution_count": 57,
      "metadata": {
        "id": "TzUDULMGX_wy"
      },
      "outputs": [],
      "source": [
        "# Mr., Mrs., Miss, Unknown 4가지로 분류 후 시각화\n",
        "\n",
        "def containString(value):\n",
        "  if 'Mrs' in value:\n",
        "    return 'Mrs'\n",
        "  elif 'Miss' in value:\n",
        "    return 'Miss'\n",
        "  elif 'Mr' in value:\n",
        "    return 'Mr'\n",
        "  else:\n",
        "    return 'Unknown'\n",
        "\n",
        "train_df['NameDiv'] = train_df['Name'].apply(containString)\n"
      ]
    },
    {
      "cell_type": "code",
      "execution_count": 58,
      "metadata": {
        "colab": {
          "base_uri": "https://localhost:8080/"
        },
        "id": "trHHGz8dcjZ4",
        "outputId": "5ac8da30-58e0-4e87-bbd2-8c8aadb71b37"
      },
      "outputs": [
        {
          "output_type": "execute_result",
          "data": {
            "text/plain": [
              "Mr         518\n",
              "Miss       180\n",
              "Mrs        129\n",
              "Unknown     64\n",
              "Name: NameDiv, dtype: int64"
            ]
          },
          "metadata": {},
          "execution_count": 58
        }
      ],
      "source": [
        "train_df['NameDiv'].value_counts()"
      ]
    },
    {
      "cell_type": "markdown",
      "metadata": {
        "id": "SDUq2-p-yBLh"
      },
      "source": [
        "#### Name</br>\n",
        ": 다양한 이름을 분류하기 위해 Mr, Miss, Mrs, 그 외 4가지로 분류 진행.</br>\n",
        "Mr : 518, \n",
        "Miss : 180,\n",
        "Mrs : 129,\n",
        "Unknown : 64으로 분류 됐다.</br>\n",
        "Mr(남성)의 생존률이 굉장히 낮았다. 여성의 경우 Mrs일 경우 생존률이 더 높았다.\n"
      ]
    },
    {
      "cell_type": "code",
      "execution_count": 12,
      "metadata": {
        "colab": {
          "base_uri": "https://localhost:8080/",
          "height": 441
        },
        "id": "tXpCRjtwY2YH",
        "outputId": "b3ec433f-8752-40d0-ddbf-1c3a0e002a43"
      },
      "outputs": [
        {
          "output_type": "display_data",
          "data": {
            "text/plain": [
              "<Figure size 576x432 with 1 Axes>"
            ],
            "image/png": "[encoded data removed]"
          },
          "metadata": {}
        }
      ],
      "source": [
        "plt.figure(figsize=(8,6))\n",
        "sns.histplot(data = train_df , x= 'NameDiv', hue = 'Survived', label='NameDiv', multiple='fill')\n",
        "plt.title(\"NameDiv's HistPlot\")\n",
        "plt.tight_layout()\n",
        "plt.show()"
      ]
    },
    {
      "cell_type": "code",
      "execution_count": 13,
      "metadata": {
        "colab": {
          "base_uri": "https://localhost:8080/"
        },
        "id": "lzN7QOn0Y3VO",
        "outputId": "7d0662c8-88c5-4d6e-b0a1-42197ec5e578"
      },
      "outputs": [
        {
          "output_type": "execute_result",
          "data": {
            "text/plain": [
              "0             A/5 21171\n",
              "1              PC 17599\n",
              "2      STON/O2. 3101282\n",
              "3                113803\n",
              "4                373450\n",
              "             ...       \n",
              "886              211536\n",
              "887              112053\n",
              "888          W./C. 6607\n",
              "889              111369\n",
              "890              370376\n",
              "Name: Ticket, Length: 891, dtype: object"
            ]
          },
          "metadata": {},
          "execution_count": 13
        }
      ],
      "source": [
        "# 티켓\n",
        "train_df['Ticket']"
      ]
    },
    {
      "cell_type": "code",
      "execution_count": 59,
      "metadata": {
        "id": "G5CI_vdQZwQk"
      },
      "outputs": [],
      "source": [
        "# 숫자라벨만 있는 티켓과 없는 티켓?\n",
        "import re\n",
        "\n",
        "def divTicket(value):\n",
        "  if re.search('[a-zA-z]*', value).group(0):\n",
        "    return 'Mixed'\n",
        "  else:\n",
        "    return 'Number'\n"
      ]
    },
    {
      "cell_type": "code",
      "execution_count": 60,
      "metadata": {
        "id": "lGDgE6-Gc-u6"
      },
      "outputs": [],
      "source": [
        "train_df['divTicket'] = train_df['Ticket'].apply(divTicket)"
      ]
    },
    {
      "cell_type": "code",
      "execution_count": 16,
      "metadata": {
        "colab": {
          "base_uri": "https://localhost:8080/"
        },
        "id": "otevs8cWeoCr",
        "outputId": "06d6d6d2-3cf4-45f5-8a7c-2f412a1e567b"
      },
      "outputs": [
        {
          "output_type": "execute_result",
          "data": {
            "text/plain": [
              "Number    661\n",
              "Mixed     230\n",
              "Name: divTicket, dtype: int64"
            ]
          },
          "metadata": {},
          "execution_count": 16
        }
      ],
      "source": [
        "train_df['divTicket'].value_counts()"
      ]
    },
    {
      "cell_type": "markdown",
      "metadata": {
        "id": "3OSPDXqyyBLk"
      },
      "source": [
        "\n",
        "#### Ticket</br>\n",
        ": 티켓에 대한 분류 방법이 보이지 않아 숫자만 있는 티켓과 혼합된 티켓으로 분류.</br>\n",
        "Number : 661, \n",
        "Mixed : 230</br>\n",
        "티켓이 생존 구분하는데 영향을 줄 수 있는지 알 수 없었다. 다른 분류 방법이 있는지 찾아봐야할 듯.\n"
      ]
    },
    {
      "cell_type": "code",
      "execution_count": 17,
      "metadata": {
        "colab": {
          "base_uri": "https://localhost:8080/",
          "height": 441
        },
        "id": "mv7g0tPXehXp",
        "outputId": "92f33600-a7f7-4f26-e596-61a807ac3557"
      },
      "outputs": [
        {
          "output_type": "display_data",
          "data": {
            "text/plain": [
              "<Figure size 576x432 with 1 Axes>"
            ],
            "image/png": "[encoded data removed]"
          },
          "metadata": {}
        }
      ],
      "source": [
        "plt.figure(figsize=(8,6))\n",
        "sns.histplot(data = train_df , x= 'divTicket', hue = 'Survived', label='divTicket', multiple='fill')\n",
        "plt.title(\"divTicket's HistPlot\")\n",
        "plt.tight_layout()\n",
        "plt.show()"
      ]
    },
    {
      "cell_type": "code",
      "execution_count": 18,
      "metadata": {
        "colab": {
          "base_uri": "https://localhost:8080/"
        },
        "id": "HMNQZTCxelIu",
        "outputId": "e18721b3-635e-4f8d-d8e6-050434296746"
      },
      "outputs": [
        {
          "output_type": "execute_result",
          "data": {
            "text/plain": [
              "B96 B98        4\n",
              "G6             4\n",
              "C23 C25 C27    4\n",
              "C22 C26        3\n",
              "F33            3\n",
              "              ..\n",
              "E34            1\n",
              "C7             1\n",
              "C54            1\n",
              "E36            1\n",
              "C148           1\n",
              "Name: Cabin, Length: 147, dtype: int64"
            ]
          },
          "metadata": {},
          "execution_count": 18
        }
      ],
      "source": [
        "train_df['Cabin'].value_counts()"
      ]
    },
    {
      "cell_type": "code",
      "execution_count": 61,
      "metadata": {
        "id": "8FZRL4iXevtf"
      },
      "outputs": [],
      "source": [
        "# 첫번째 알파벳 기준으로 객실 구분해보기 숫자만 있으면 None\n",
        "\n",
        "def divCabin(value):\n",
        "  try:\n",
        "    if re.search('^[A-z]*', value).group(0):\n",
        "      return str(re.search('^[A-z]*', value).group(0))\n",
        "    else:\n",
        "      return 'None'\n",
        "  except:\n",
        "    return 'None'"
      ]
    },
    {
      "cell_type": "code",
      "execution_count": 62,
      "metadata": {
        "id": "RLuGMQEOfKWM"
      },
      "outputs": [],
      "source": [
        "train_df['divCabin'] = train_df['Cabin'].apply(divCabin)"
      ]
    },
    {
      "cell_type": "code",
      "execution_count": 21,
      "metadata": {
        "colab": {
          "base_uri": "https://localhost:8080/"
        },
        "id": "sjSd5afzfRHB",
        "outputId": "30801952-61bd-48f1-dc0d-5798902bf2d2"
      },
      "outputs": [
        {
          "output_type": "execute_result",
          "data": {
            "text/plain": [
              "None    687\n",
              "C        59\n",
              "B        47\n",
              "D        33\n",
              "E        32\n",
              "A        15\n",
              "F        13\n",
              "G         4\n",
              "T         1\n",
              "Name: divCabin, dtype: int64"
            ]
          },
          "metadata": {},
          "execution_count": 21
        }
      ],
      "source": [
        "train_df['divCabin'].value_counts()"
      ]
    },
    {
      "cell_type": "markdown",
      "metadata": {
        "id": "JLZUEGkayBLl"
      },
      "source": [
        "\n",
        "#### Cabin</br>\n",
        ": 객실 데이터에서 시작이 알파벳으로 시작하는 것으로 분류</br>\n",
        "\n",
        "---\n",
        "None : 687,</br>\n",
        "C : 59,</br>\n",
        "B : 47,</br>\n",
        "D : 33,</br>\n",
        "E : 32,</br>\n",
        "A : 15,</br>\n",
        "F : 13,</br>\n",
        "G : 4,</br>\n",
        "T : 1</br>\n",
        "\n",
        "---\n",
        "\n",
        "알파벳으로 시작하지 않는 데이터가 많았다. 입석인가라는 생각이 들었지만 그렇게 처리하기에는 너무 많은량이라 고민해봐야할 듯.</br>\n",
        "이러한 점을 제외하고 데이터의 분포만 본다면 객실에 대한 정보가 있을 경우 생존률이 높다고 볼 수 있다.\n"
      ]
    },
    {
      "cell_type": "code",
      "execution_count": 22,
      "metadata": {
        "colab": {
          "base_uri": "https://localhost:8080/",
          "height": 441
        },
        "id": "ZfWWTWEPfqZw",
        "outputId": "6f403451-72a0-451e-b922-928093e76a9d"
      },
      "outputs": [
        {
          "output_type": "display_data",
          "data": {
            "text/plain": [
              "<Figure size 576x432 with 1 Axes>"
            ],
            "image/png": "[encoded data removed]"
          },
          "metadata": {}
        }
      ],
      "source": [
        "plt.figure(figsize=(8,6))\n",
        "sns.histplot(data = train_df , x= 'divCabin', hue = 'Survived', label='divCabin', multiple='fill')\n",
        "plt.title(\"divCabin's HistPlot\")\n",
        "plt.tight_layout()\n",
        "plt.show()"
      ]
    },
    {
      "cell_type": "markdown",
      "metadata": {
        "id": "3vUkq1OkfvMn"
      },
      "source": [
        "## 모델 적용\n",
        "\n",
        "- 결측값이 있는 피처는 사용하지 않음.('Age', 'Fare')\n",
        "- 커스텀 분리 후 생존 예측에 의미있을것이라 추측한 'Cabin', 'Name'은 분류 피처로 사용"
      ]
    },
    {
      "cell_type": "code",
      "source": [
        "test_df['NameDiv'] = test_df['Name'].apply(containString)\n",
        "test_df['divCabin'] = test_df['Cabin'].apply(divCabin)"
      ],
      "metadata": {
        "id": "xO87jjFK5IFS"
      },
      "execution_count": 132,
      "outputs": []
    },
    {
      "cell_type": "code",
      "source": [
        "drop_cols = ['PassengerId', 'Ticket', 'Cabin', 'Name', 'Age', 'Fare', 'divTicket']\n",
        "train_df_modify = train_df.drop(drop_cols, axis=1)\n",
        "\n",
        "test_df_modify = test_df.drop(drop_cols[:-1], axis=1)\n"
      ],
      "metadata": {
        "id": "Q6w5q-IR16uF"
      },
      "execution_count": 171,
      "outputs": []
    },
    {
      "cell_type": "code",
      "source": [
        "from sklearn.preprocessing import LabelEncoder\n",
        "\n",
        "label_col = ['Sex', 'NameDiv', 'divCabin','Embarked']\n",
        "les = []\n",
        "\n",
        "for col in label_col:\n",
        "  le = LabelEncoder()\n",
        "  train_df_modify[col] = le.fit_transform(train_df_modify[col])\n",
        "  test_df_modify[col] = le.transform(test_df_modify[col])\n",
        "  les.append(le)"
      ],
      "metadata": {
        "id": "gvIhXOg50EnO"
      },
      "execution_count": 172,
      "outputs": []
    },
    {
      "cell_type": "code",
      "execution_count": 175,
      "metadata": {
        "id": "pPh9LiVOjggs"
      },
      "outputs": [],
      "source": [
        "from sklearn.tree import DecisionTreeClassifier\n",
        "from sklearn.ensemble import RandomForestClassifier\n",
        "from sklearn.linear_model import LogisticRegression\n",
        "from xgboost import XGBClassifier\n",
        "\n",
        "from sklearn.model_selection import train_test_split\n",
        "\n",
        "X = train_df_modify.drop('Survived', axis=1)\n",
        "y = train_df_modify['Survived']\n",
        "\n",
        "X_train, X_test, y_train, y_test = train_test_split(X, y, test_size=0.2, random_state=52)\n",
        "\n",
        "tree = DecisionTreeClassifier()\n",
        "rf = RandomForestClassifier()\n",
        "xgb = XGBClassifier()\n",
        "logi = LogisticRegression()"
      ]
    },
    {
      "cell_type": "code",
      "execution_count": 176,
      "metadata": {
        "id": "a0Odj_AzyBLm"
      },
      "outputs": [],
      "source": [
        "tree.fit(X_train, y_train)\n",
        "rf.fit(X_train, y_train)\n",
        "xgb.fit(X_train, y_train)\n",
        "logi.fit(X_train, y_train)\n",
        "\n",
        "tree_pred = tree.predict(test_df_modify)\n",
        "rf_pred = rf.predict(test_df_modify)\n",
        "xgb_pred = xgb.predict(test_df_modify)\n",
        "logi_pred = logi.predict(test_df_modify)"
      ]
    },
    {
      "cell_type": "code",
      "source": [
        "from sklearn.metrics import accuracy_score\n",
        "\n",
        "print(\"DecisionTree : {:.2f}%\" .format(tree.score(X_test, y_test)*100))\n",
        "print(\"RandomForest : {:.2f}%\" .format(rf.score(X_test, y_test)*100))\n",
        "print(\"XGBoost : {:.2f}%\" .format(xgb.score(X_test, y_test)*100))\n",
        "print(\"Logisitc : {:.2f}%\" .format(logi.score(X_test, y_test)*100))"
      ],
      "metadata": {
        "colab": {
          "base_uri": "https://localhost:8080/"
        },
        "id": "dKX1ov5P0Aq4",
        "outputId": "72e2cd93-7c8d-4f8e-fe68-a01f94c736f5"
      },
      "execution_count": 177,
      "outputs": [
        {
          "output_type": "stream",
          "name": "stdout",
          "text": [
            "DecisionTree : 81.56%\n",
            "RandomForest : 83.80%\n",
            "XGBoost : 82.12%\n",
            "Logisitc : 80.45%\n"
          ]
        }
      ]
    },
    {
      "cell_type": "code",
      "source": [
        "submission = pd.read_csv('/content/drive/MyDrive/ds_study/ML/02.titanic/submission.csv')"
      ],
      "metadata": {
        "id": "bNxkis8t4fnh"
      },
      "execution_count": 178,
      "outputs": []
    },
    {
      "cell_type": "code",
      "source": [
        "submission['Survived'] = rf_pred"
      ],
      "metadata": {
        "id": "uVyjBwJX8S1k"
      },
      "execution_count": 181,
      "outputs": []
    },
    {
      "cell_type": "code",
      "source": [
        "submission.to_csv('/content/drive/MyDrive/ds_study/ML/02.titanic/submission.csv', index=False)"
      ],
      "metadata": {
        "id": "jLmj6J1a8fhT"
      },
      "execution_count": 182,
      "outputs": []
    },
    {
      "cell_type": "markdown",
      "source": [
        "## 정확도 약 72%\n",
        "\n",
        "![img](data:image/png;base64,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)"
      ],
      "metadata": {
        "id": "KfxMSSoA9CuT"
      }
    },
    {
      "cell_type": "markdown",
      "source": [
        "### 다시 전처리\n",
        "\n",
        "- 전처리 해볼만한 사항\n",
        "  - 이름\n",
        "    - 4가지(Mr, Mrs, Miss, None)보다 더 세분화 분류가 가능한가?\n",
        "  - 나이\n",
        "    - 나이 피처를 사용하기 위해 대체값은 어떻게?\n",
        "      - 평균, 최빈값, 이름 피처로 추측\n",
        "  - 요금\n",
        "    - 요금 피처를 사용하기 위한 대체값은 어떻게?\n",
        "      - 그룹 최빈값?, 평균?\n",
        "      \n"
      ],
      "metadata": {
        "id": "f5iAnjC932WJ"
      }
    },
    {
      "cell_type": "code",
      "source": [
        "train_df.head()"
      ],
      "metadata": {
        "colab": {
          "base_uri": "https://localhost:8080/",
          "height": 206
        },
        "id": "OaU0F3EK-QKQ",
        "outputId": "22038a2e-089b-477f-f060-a2706282fe99"
      },
      "execution_count": 187,
      "outputs": [
        {
          "output_type": "execute_result",
          "data": {
            "text/plain": [
              "   PassengerId  Survived  Pclass  \\\n",
              "0            1         0       3   \n",
              "1            2         1       1   \n",
              "2            3         1       3   \n",
              "3            4         1       1   \n",
              "4            5         0       3   \n",
              "\n",
              "                                                Name     Sex   Age  SibSp  \\\n",
              "0                            Braund, Mr. Owen Harris    male  22.0      1   \n",
              "1  Cumings, Mrs. John Bradley (Florence Briggs Th...  female  38.0      1   \n",
              "2                             Heikkinen, Miss. Laina  female  26.0      0   \n",
              "3       Futrelle, Mrs. Jacques Heath (Lily May Peel)  female  35.0      1   \n",
              "4                           Allen, Mr. William Henry    male  35.0      0   \n",
              "\n",
              "   Parch            Ticket     Fare Cabin Embarked  \n",
              "0      0         A/5 21171   7.2500   NaN        S  \n",
              "1      0          PC 17599  71.2833   C85        C  \n",
              "2      0  STON/O2. 3101282   7.9250   NaN        S  \n",
              "3      0            113803  53.1000  C123        S  \n",
              "4      0            373450   8.0500   NaN        S  "
            ],
            "text/html": [
              "\n",
              "  <div id=\"df-0b765975-07bb-4c9b-a72d-d901c916b59e\">\n",
              "    <div class=\"colab-df-container\">\n",
              "      <div>\n",
              "<style scoped>\n",
              "    .dataframe tbody tr th:only-of-type {\n",
              "        vertical-align: middle;\n",
              "    }\n",
              "\n",
              "    .dataframe tbody tr th {\n",
              "        vertical-align: top;\n",
              "    }\n",
              "\n",
              "    .dataframe thead th {\n",
              "        text-align: right;\n",
              "    }\n",
              "</style>\n",
              "<table border=\"1\" class=\"dataframe\">\n",
              "  <thead>\n",
              "    <tr style=\"text-align: right;\">\n",
              "      <th></th>\n",
              "      <th>PassengerId</th>\n",
              "      <th>Survived</th>\n",
              "      <th>Pclass</th>\n",
              "      <th>Name</th>\n",
              "      <th>Sex</th>\n",
              "      <th>Age</th>\n",
              "      <th>SibSp</th>\n",
              "      <th>Parch</th>\n",
              "      <th>Ticket</th>\n",
              "      <th>Fare</th>\n",
              "      <th>Cabin</th>\n",
              "      <th>Embarked</th>\n",
              "    </tr>\n",
              "  </thead>\n",
              "  <tbody>\n",
              "    <tr>\n",
              "      <th>0</th>\n",
              "      <td>1</td>\n",
              "      <td>0</td>\n",
              "      <td>3</td>\n",
              "      <td>Braund, Mr. Owen Harris</td>\n",
              "      <td>male</td>\n",
              "      <td>22.0</td>\n",
              "      <td>1</td>\n",
              "      <td>0</td>\n",
              "      <td>A/5 21171</td>\n",
              "      <td>7.2500</td>\n",
              "      <td>NaN</td>\n",
              "      <td>S</td>\n",
              "    </tr>\n",
              "    <tr>\n",
              "      <th>1</th>\n",
              "      <td>2</td>\n",
              "      <td>1</td>\n",
              "      <td>1</td>\n",
              "      <td>Cumings, Mrs. John Bradley (Florence Briggs Th...</td>\n",
              "      <td>female</td>\n",
              "      <td>38.0</td>\n",
              "      <td>1</td>\n",
              "      <td>0</td>\n",
              "      <td>PC 17599</td>\n",
              "      <td>71.2833</td>\n",
              "      <td>C85</td>\n",
              "      <td>C</td>\n",
              "    </tr>\n",
              "    <tr>\n",
              "      <th>2</th>\n",
              "      <td>3</td>\n",
              "      <td>1</td>\n",
              "      <td>3</td>\n",
              "      <td>Heikkinen, Miss. Laina</td>\n",
              "      <td>female</td>\n",
              "      <td>26.0</td>\n",
              "      <td>0</td>\n",
              "      <td>0</td>\n",
              "      <td>STON/O2. 3101282</td>\n",
              "      <td>7.9250</td>\n",
              "      <td>NaN</td>\n",
              "      <td>S</td>\n",
              "    </tr>\n",
              "    <tr>\n",
              "      <th>3</th>\n",
              "      <td>4</td>\n",
              "      <td>1</td>\n",
              "      <td>1</td>\n",
              "      <td>Futrelle, Mrs. Jacques Heath (Lily May Peel)</td>\n",
              "      <td>female</td>\n",
              "      <td>35.0</td>\n",
              "      <td>1</td>\n",
              "      <td>0</td>\n",
              "      <td>113803</td>\n",
              "      <td>53.1000</td>\n",
              "      <td>C123</td>\n",
              "      <td>S</td>\n",
              "    </tr>\n",
              "    <tr>\n",
              "      <th>4</th>\n",
              "      <td>5</td>\n",
              "      <td>0</td>\n",
              "      <td>3</td>\n",
              "      <td>Allen, Mr. William Henry</td>\n",
              "      <td>male</td>\n",
              "      <td>35.0</td>\n",
              "      <td>0</td>\n",
              "      <td>0</td>\n",
              "      <td>373450</td>\n",
              "      <td>8.0500</td>\n",
              "      <td>NaN</td>\n",
              "      <td>S</td>\n",
              "    </tr>\n",
              "  </tbody>\n",
              "</table>\n",
              "</div>\n",
              "      <button class=\"colab-df-convert\" onclick=\"convertToInteractive('df-0b765975-07bb-4c9b-a72d-d901c916b59e')\"\n",
              "              title=\"Convert this dataframe to an interactive table.\"\n",
              "              style=\"display:none;\">\n",
              "        \n",
              "  <svg xmlns=\"http://www.w3.org/2000/svg\" height=\"24px\"viewBox=\"0 0 24 24\"\n",
              "       width=\"24px\">\n",
              "    <path d=\"M0 0h24v24H0V0z\" fill=\"none\"/>\n",
              "    <path d=\"M18.56 5.44l.94 2.06.94-2.06 2.06-.94-2.06-.94-.94-2.06-.94 2.06-2.06.94zm-11 1L8.5 8.5l.94-2.06 2.06-.94-2.06-.94L8.5 2.5l-.94 2.06-2.06.94zm10 10l.94 2.06.94-2.06 2.06-.94-2.06-.94-.94-2.06-.94 2.06-2.06.94z\"/><path d=\"M17.41 7.96l-1.37-1.37c-.4-.4-.92-.59-1.43-.59-.52 0-1.04.2-1.43.59L10.3 9.45l-7.72 7.72c-.78.78-.78 2.05 0 2.83L4 21.41c.39.39.9.59 1.41.59.51 0 1.02-.2 1.41-.59l7.78-7.78 2.81-2.81c.8-.78.8-2.07 0-2.86zM5.41 20L4 18.59l7.72-7.72 1.47 1.35L5.41 20z\"/>\n",
              "  </svg>\n",
              "      </button>\n",
              "      \n",
              "  <style>\n",
              "    .colab-df-container {\n",
              "      display:flex;\n",
              "      flex-wrap:wrap;\n",
              "      gap: 12px;\n",
              "    }\n",
              "\n",
              "    .colab-df-convert {\n",
              "      background-color: #E8F0FE;\n",
              "      border: none;\n",
              "      border-radius: 50%;\n",
              "      cursor: pointer;\n",
              "      display: none;\n",
              "      fill: #1967D2;\n",
              "      height: 32px;\n",
              "      padding: 0 0 0 0;\n",
              "      width: 32px;\n",
              "    }\n",
              "\n",
              "    .colab-df-convert:hover {\n",
              "      background-color: #E2EBFA;\n",
              "      box-shadow: 0px 1px 2px rgba(60, 64, 67, 0.3), 0px 1px 3px 1px rgba(60, 64, 67, 0.15);\n",
              "      fill: #174EA6;\n",
              "    }\n",
              "\n",
              "    [theme=dark] .colab-df-convert {\n",
              "      background-color: #3B4455;\n",
              "      fill: #D2E3FC;\n",
              "    }\n",
              "\n",
              "    [theme=dark] .colab-df-convert:hover {\n",
              "      background-color: #434B5C;\n",
              "      box-shadow: 0px 1px 3px 1px rgba(0, 0, 0, 0.15);\n",
              "      filter: drop-shadow(0px 1px 2px rgba(0, 0, 0, 0.3));\n",
              "      fill: #FFFFFF;\n",
              "    }\n",
              "  </style>\n",
              "\n",
              "      <script>\n",
              "        const buttonEl =\n",
              "          document.querySelector('#df-0b765975-07bb-4c9b-a72d-d901c916b59e button.colab-df-convert');\n",
              "        buttonEl.style.display =\n",
              "          google.colab.kernel.accessAllowed ? 'block' : 'none';\n",
              "\n",
              "        async function convertToInteractive(key) {\n",
              "          const element = document.querySelector('#df-0b765975-07bb-4c9b-a72d-d901c916b59e');\n",
              "          const dataTable =\n",
              "            await google.colab.kernel.invokeFunction('convertToInteractive',\n",
              "                                                     [key], {});\n",
              "          if (!dataTable) return;\n",
              "\n",
              "          const docLinkHtml = 'Like what you see? Visit the ' +\n",
              "            '<a target=\"_blank\" href=https://colab.research.google.com/notebooks/data_table.ipynb>data table notebook</a>'\n",
              "            + ' to learn more about interactive tables.';\n",
              "          element.innerHTML = '';\n",
              "          dataTable['output_type'] = 'display_data';\n",
              "          await google.colab.output.renderOutput(dataTable, element);\n",
              "          const docLink = document.createElement('div');\n",
              "          docLink.innerHTML = docLinkHtml;\n",
              "          element.appendChild(docLink);\n",
              "        }\n",
              "      </script>\n",
              "    </div>\n",
              "  </div>\n",
              "  "
            ]
          },
          "metadata": {},
          "execution_count": 187
        }
      ]
    },
    {
      "cell_type": "markdown",
      "source": [
        "#### 별칭 부분의 끝이 모두 '.'으로 끝나 이부분만 추출해보기로함"
      ],
      "metadata": {
        "id": "PecgrcaS-7Qj"
      }
    },
    {
      "cell_type": "code",
      "source": [
        "import re \n",
        "\n",
        "def divName(value):\n",
        "  return re.search('([A-Za-z]*[.]+)', value).group(1)[:-1]"
      ],
      "metadata": {
        "id": "70FUKBHL_NhJ"
      },
      "execution_count": 250,
      "outputs": []
    },
    {
      "cell_type": "code",
      "source": [
        "train_df_modify = train_df.copy()\n",
        "test2_df = test_df.copy()\n",
        "\n",
        "train_df_modify['divName'] = train_df_modify['Name'].apply(divName)\n",
        "test2_df['divName'] = test2_df['Name'].apply(divName)"
      ],
      "metadata": {
        "id": "A5jRABEG_bH9"
      },
      "execution_count": 429,
      "outputs": []
    },
    {
      "cell_type": "code",
      "source": [
        "train_df_modify['divName'].unique()"
      ],
      "metadata": {
        "colab": {
          "base_uri": "https://localhost:8080/"
        },
        "id": "627qHDEY_5ld",
        "outputId": "dd5277a8-5dea-4ae0-9e3e-e6cdc684c586"
      },
      "execution_count": 430,
      "outputs": [
        {
          "output_type": "execute_result",
          "data": {
            "text/plain": [
              "array(['Mr', 'Mrs', 'Miss', 'Master', 'Don', 'Rev', 'Dr', 'Mme', 'Ms',\n",
              "       'Major', 'Lady', 'Sir', 'Mlle', 'Col', 'Capt', 'Countess',\n",
              "       'Jonkheer'], dtype=object)"
            ]
          },
          "metadata": {},
          "execution_count": 430
        }
      ]
    },
    {
      "cell_type": "markdown",
      "source": [
        "### 별칭 분류 \n",
        "- 분류가 너무 큰 범주로 이뤄져 있었음. 새롭게 별칭을 분류\n",
        "\n",
        "- Mr, Mrs, Master, Miss\n",
        "  - Mr(성인 남자), Mrs(성인 여자)\n",
        "  - Master(어린 남자), Miss(어린 여자)\n",
        "\n",
        "- 그 외\n",
        "  - 'Ms'는 20 ~ 40대 여성을 부르긴 하지만 20 ~ 30대에게 주로 사용한 다는 점에서 Miss로 사용\n",
        "  - 'Mme'는 프랑스에서 마담을 부르는 별칭으로 'Mrs'로 대체\n",
        "  - 'Major'는 법적으로 성년을 나타내는 의미. 남자는 Master, 여자는 Miss로 대체\n",
        "  - 'Lady' 젊은 여성을 부른는 말로 'Miss'로 대체\n",
        "  - 'Sir'는 남성을 존경하는 의미 높임말로 Mr로 대체\n",
        "  - 'Mlle'는 프랑스에서 어른 남자아이를 부르는 말로 'Master'로 대체\n",
        "\n",
        "- 이 조건에 포함되지 않는 별칭은 구분이 불가능하므로 Unkown 사용\n"
      ],
      "metadata": {
        "id": "qB_BW2Wx_6pr"
      }
    },
    {
      "cell_type": "code",
      "source": [
        "# Mr., Mrs., Miss, Unknown 4가지로 분류 후 시각화\n",
        "\n",
        "def divName_keyword1(value):\n",
        "  if 'Mrs' in value:\n",
        "    return 'Mrs'\n",
        "  elif 'Miss' in value:\n",
        "    return 'Miss'\n",
        "  elif 'Mr' in value:\n",
        "    return 'Mr'\n",
        "  else:\n",
        "    return 'Unknown'\n",
        "\n",
        "\n",
        "def divName_keyword2(name, sex):\n",
        "  \n",
        "  text_Mr = ['Mr', 'Sir']\n",
        "  text_Mrs = ['Mrs', 'Mme']\n",
        "  text_Master = ['Master', 'Mlle']\n",
        "  text_Miss = ['Miss', 'Lady', 'Ms']\n",
        "\n",
        "  if name in text_Mr:\n",
        "    return 'Mr'\n",
        "\n",
        "  elif name in text_Mrs:\n",
        "    return 'Mrs'\n",
        "  \n",
        "  elif name in text_Master:\n",
        "    return 'Master'\n",
        "    \n",
        "  elif name in text_Miss:\n",
        "    return 'Miss'\n",
        "  \n",
        "  elif name == 'Major':\n",
        "    if sex == 'male':\n",
        "      return 'Master'\n",
        "    else:\n",
        "      return 'Miss'\n",
        "\n",
        "  else:\n",
        "    return 'Unknown'\n",
        "    "
      ],
      "metadata": {
        "id": "TvQlIrl8EBtR"
      },
      "execution_count": 431,
      "outputs": []
    },
    {
      "cell_type": "code",
      "source": [
        "train_df_modify['divName_keyword1'] = train_df_modify['Name'].apply(divName_keyword1)\n",
        "train_df_modify['divName_keyword2'] = train_df_modify.apply(lambda x : divName_keyword2(x['divName'], x['Sex']), axis=1)\n",
        "\n",
        "test2_df['divName_keyword1'] = test2_df['Name'].apply(divName_keyword1)\n",
        "test2_df['divName_keyword2'] = test2_df.apply(lambda x : divName_keyword2(x['divName'], x['Sex']), axis=1)"
      ],
      "metadata": {
        "id": "NbEsflB6FuGw"
      },
      "execution_count": 432,
      "outputs": []
    },
    {
      "cell_type": "code",
      "source": [
        "train_df_modify['divName_keyword2'].value_counts()"
      ],
      "metadata": {
        "colab": {
          "base_uri": "https://localhost:8080/"
        },
        "id": "SjDQ-B9lF01B",
        "outputId": "cd0fcf0d-affa-478d-ad0c-e139f82c0109"
      },
      "execution_count": 433,
      "outputs": [
        {
          "output_type": "execute_result",
          "data": {
            "text/plain": [
              "Mr         518\n",
              "Miss       184\n",
              "Mrs        126\n",
              "Master      44\n",
              "Unknown     19\n",
              "Name: divName_keyword2, dtype: int64"
            ]
          },
          "metadata": {},
          "execution_count": 433
        }
      ]
    },
    {
      "cell_type": "code",
      "source": [
        "fig, ax = plt.subplots(1,2)\n",
        "\n",
        "sns.histplot(data = train_df_modify , x= 'divName_keyword1', hue = 'Survived', label='divName1', multiple='fill', ax= ax[0])\n",
        "sns.histplot(data = train_df_modify , x= 'divName_keyword2', hue = 'Survived', label='divName2', multiple='fill', ax = ax[1])\n",
        "\n",
        "plt.title(\"divName2's HistPlot\")\n",
        "plt.tight_layout()\n",
        "plt.show()"
      ],
      "metadata": {
        "colab": {
          "base_uri": "https://localhost:8080/",
          "height": 729
        },
        "id": "VE7AcDVYF2nA",
        "outputId": "ac2ca485-15b3-4ca5-a522-31f3d8df3390"
      },
      "execution_count": 434,
      "outputs": [
        {
          "output_type": "display_data",
          "data": {
            "text/plain": [
              "<Figure size 1080x720 with 2 Axes>"
            ],
            "image/png": "[encoded data removed]"
          },
          "metadata": {}
        }
      ]
    },
    {
      "cell_type": "markdown",
      "source": [
        "### 새로운 분류 후 비교\n",
        "- 성인 남자, 여자, 젊은 여성의 생존률에는 큰 변화가 없었음.\n",
        "- 50% 정도 되던 알 수 없는 생존자들의 대부분이 젊은 남성이었던 것으로 보임\n",
        "- 이전 분류보다 생존자 분류에 의미가 있어 보임.\n"
      ],
      "metadata": {
        "id": "Hueoao66HxNB"
      }
    },
    {
      "cell_type": "markdown",
      "source": [
        "#### 나이"
      ],
      "metadata": {
        "id": "ASyWCGqzMAjV"
      }
    },
    {
      "cell_type": "code",
      "source": [
        "sns.histplot(data= train_df_modify, x='Age', hue='Survived', multiple='fill')"
      ],
      "metadata": {
        "colab": {
          "base_uri": "https://localhost:8080/",
          "height": 631
        },
        "id": "fJGnf4HMMQ2r",
        "outputId": "d9239c98-e3b0-44bc-84c6-83054c7eabf9"
      },
      "execution_count": 435,
      "outputs": [
        {
          "output_type": "execute_result",
          "data": {
            "text/plain": [
              "<AxesSubplot:xlabel='Age', ylabel='Count'>"
            ]
          },
          "metadata": {},
          "execution_count": 435
        },
        {
          "output_type": "display_data",
          "data": {
            "text/plain": [
              "<Figure size 1080x720 with 1 Axes>"
            ],
            "image/png": "[encoded data removed]"
          },
          "metadata": {}
        }
      ]
    },
    {
      "cell_type": "code",
      "source": [
        "train_df_modify['Age'].isnull().sum()"
      ],
      "metadata": {
        "colab": {
          "base_uri": "https://localhost:8080/"
        },
        "id": "Qy-PBhjTMScl",
        "outputId": "d1d280d7-b9d4-4f16-baa5-e3539c26dda6"
      },
      "execution_count": 436,
      "outputs": [
        {
          "output_type": "execute_result",
          "data": {
            "text/plain": [
              "177"
            ]
          },
          "metadata": {},
          "execution_count": 436
        }
      ]
    },
    {
      "cell_type": "code",
      "source": [
        "test2_df['Age'].isnull().sum()"
      ],
      "metadata": {
        "colab": {
          "base_uri": "https://localhost:8080/"
        },
        "id": "xNI3Zl9WTEn7",
        "outputId": "ad0c650f-3b2a-4847-a849-147883437c5b"
      },
      "execution_count": 437,
      "outputs": [
        {
          "output_type": "execute_result",
          "data": {
            "text/plain": [
              "86"
            ]
          },
          "metadata": {},
          "execution_count": 437
        }
      ]
    },
    {
      "cell_type": "code",
      "source": [
        "# 나이를 모르는 데이터 \n",
        "target = train_df_modify[train_df_modify['Age'].isnull()]\n",
        "\n",
        "for key in train_df_modify['divName_keyword2'].unique():\n",
        "  print(key, \" : \", len(target[target['divName_keyword2'] == key]))"
      ],
      "metadata": {
        "colab": {
          "base_uri": "https://localhost:8080/"
        },
        "id": "1rlh1SrKMbr7",
        "outputId": "b9c32dcc-0277-468d-ca2b-3b711eb29cd9"
      },
      "execution_count": 438,
      "outputs": [
        {
          "output_type": "stream",
          "name": "stdout",
          "text": [
            "Mr  :  119\n",
            "Mrs  :  17\n",
            "Miss  :  36\n",
            "Master  :  4\n",
            "Unknown  :  1\n"
          ]
        }
      ]
    },
    {
      "cell_type": "code",
      "source": [
        "# 나이를 아는 데이터\n",
        "target = train_df_modify[~train_df_modify['Age'].isnull()]\n",
        "for key in train_df_modify['divName_keyword2'].unique():\n",
        "  print(key)\n",
        "  print(target[target['divName_keyword2'] == key]['Age'].describe())\n",
        "  print()"
      ],
      "metadata": {
        "colab": {
          "base_uri": "https://localhost:8080/"
        },
        "id": "JT8EsfY6MgE1",
        "outputId": "38c9d6c2-408b-4720-897a-60700a8f5714"
      },
      "execution_count": 439,
      "outputs": [
        {
          "output_type": "stream",
          "name": "stdout",
          "text": [
            "Mr\n",
            "count    399.000000\n",
            "mean      32.409774\n",
            "std       12.720098\n",
            "min       11.000000\n",
            "25%       23.000000\n",
            "50%       30.000000\n",
            "75%       39.000000\n",
            "max       80.000000\n",
            "Name: Age, dtype: float64\n",
            "\n",
            "Mrs\n",
            "count    109.000000\n",
            "mean      35.788991\n",
            "std       11.437490\n",
            "min       14.000000\n",
            "25%       27.000000\n",
            "50%       35.000000\n",
            "75%       44.000000\n",
            "max       63.000000\n",
            "Name: Age, dtype: float64\n",
            "\n",
            "Miss\n",
            "count    148.000000\n",
            "mean      21.993243\n",
            "std       13.089921\n",
            "min        0.750000\n",
            "25%       14.375000\n",
            "50%       21.000000\n",
            "75%       30.000000\n",
            "max       63.000000\n",
            "Name: Age, dtype: float64\n",
            "\n",
            "Master\n",
            "count    40.000000\n",
            "mean      7.741750\n",
            "std      10.972532\n",
            "min       0.420000\n",
            "25%       1.750000\n",
            "50%       4.000000\n",
            "75%       9.000000\n",
            "max      52.000000\n",
            "Name: Age, dtype: float64\n",
            "\n",
            "Unknown\n",
            "count    18.000000\n",
            "mean     44.888889\n",
            "std      12.942810\n",
            "min      23.000000\n",
            "25%      34.250000\n",
            "50%      46.500000\n",
            "75%      54.000000\n",
            "max      70.000000\n",
            "Name: Age, dtype: float64\n",
            "\n"
          ]
        }
      ]
    },
    {
      "cell_type": "markdown",
      "source": [
        "- 별칭에 대한 분류가 완벽하지 않음이 보였음. 따라서 평균값보다는 중간값을 사용하는게 맞다고 판단함."
      ],
      "metadata": {
        "id": "uFuX8HdTN3oy"
      }
    },
    {
      "cell_type": "code",
      "source": [
        "for key in train_df_modify['divName_keyword2'].unique():\n",
        "  print(key)\n",
        "  print(target[target['divName_keyword2'] == key]['Age'].median())\n",
        "  print()"
      ],
      "metadata": {
        "colab": {
          "base_uri": "https://localhost:8080/"
        },
        "id": "idjdaycFNIY3",
        "outputId": "0e6b72e0-c0a1-4238-e52e-0d498bf7c698"
      },
      "execution_count": 440,
      "outputs": [
        {
          "output_type": "stream",
          "name": "stdout",
          "text": [
            "Mr\n",
            "30.0\n",
            "\n",
            "Mrs\n",
            "35.0\n",
            "\n",
            "Miss\n",
            "21.0\n",
            "\n",
            "Master\n",
            "4.0\n",
            "\n",
            "Unknown\n",
            "46.5\n",
            "\n"
          ]
        }
      ]
    },
    {
      "cell_type": "code",
      "source": [
        "target = train_df_modify[train_df_modify['Age'].isnull()]\n",
        "target2 = test2_df[test2_df['Age'].isnull()]\n",
        "\n",
        "for key in train_df_modify['divName_keyword2'].unique():\n",
        "  modify_index = target[target['divName_keyword2'] == key].index\n",
        "  modify_index2 = target2[target2['divName_keyword2'] == key].index\n",
        "\n",
        "  if key =='Mr':\n",
        "    train_df_modify['Age'].loc[modify_index] = 30\n",
        "    test2_df['Age'].loc[modify_index2] = 30\n",
        "\n",
        "  elif key == 'Mrs':\n",
        "    train_df_modify['Age'].loc[modify_index] = 35\n",
        "    test2_df['Age'].loc[modify_index2] = 35\n",
        "  \n",
        "  elif key == 'Miss':\n",
        "    train_df_modify['Age'].loc[modify_index] = 21\n",
        "    test2_df['Age'].loc[modify_index2] = 21\n",
        "\n",
        "  elif key == 'Master':\n",
        "    train_df_modify['Age'].loc[modify_index] = 4\n",
        "    test2_df['Age'].loc[modify_index2] = 4\n",
        "\n",
        "  elif key == 'Unknown':\n",
        "    train_df_modify['Age'].loc[modify_index] = 46\n",
        "    test2_df['Age'].loc[modify_index2] = 46"
      ],
      "metadata": {
        "id": "tEaW1KFgN1u5"
      },
      "execution_count": 441,
      "outputs": []
    },
    {
      "cell_type": "code",
      "source": [
        "train_df_modify['Age'].isnull().sum(), test2_df['Age'].isnull().sum() "
      ],
      "metadata": {
        "colab": {
          "base_uri": "https://localhost:8080/"
        },
        "id": "IRiS2YZtOoDU",
        "outputId": "9a4e4ac9-04b9-4b9b-8be2-091bc87bb929"
      },
      "execution_count": 442,
      "outputs": [
        {
          "output_type": "execute_result",
          "data": {
            "text/plain": [
              "(0, 0)"
            ]
          },
          "metadata": {},
          "execution_count": 442
        }
      ]
    },
    {
      "cell_type": "code",
      "source": [
        "sns.histplot(data= train_df_modify, x='Age', hue='Survived', multiple='fill')"
      ],
      "metadata": {
        "colab": {
          "base_uri": "https://localhost:8080/",
          "height": 631
        },
        "id": "6CUKS1FqOqYS",
        "outputId": "86019a54-88e1-43f6-9b7a-419724c5549b"
      },
      "execution_count": 443,
      "outputs": [
        {
          "output_type": "execute_result",
          "data": {
            "text/plain": [
              "<AxesSubplot:xlabel='Age', ylabel='Count'>"
            ]
          },
          "metadata": {},
          "execution_count": 443
        },
        {
          "output_type": "display_data",
          "data": {
            "text/plain": [
              "<Figure size 1080x720 with 1 Axes>"
            ],
            "image/png": "[encoded data removed]"
          },
          "metadata": {}
        }
      ]
    },
    {
      "cell_type": "code",
      "source": [
        "test_df[test_df['Fare'].isnull()]"
      ],
      "metadata": {
        "colab": {
          "base_uri": "https://localhost:8080/",
          "height": 49
        },
        "id": "a-4kvB75Ouq1",
        "outputId": "baf9b78c-f1f8-485d-f5ca-549de575052a"
      },
      "execution_count": 444,
      "outputs": [
        {
          "output_type": "execute_result",
          "data": {
            "text/plain": [
              "Empty DataFrame\n",
              "Columns: [PassengerId, Pclass, Name, Sex, Age, SibSp, Parch, Ticket, Fare, Cabin, Embarked]\n",
              "Index: []"
            ],
            "text/html": [
              "\n",
              "  <div id=\"df-61d41a03-641c-4685-b0a7-362d12e112ce\">\n",
              "    <div class=\"colab-df-container\">\n",
              "      <div>\n",
              "<style scoped>\n",
              "    .dataframe tbody tr th:only-of-type {\n",
              "        vertical-align: middle;\n",
              "    }\n",
              "\n",
              "    .dataframe tbody tr th {\n",
              "        vertical-align: top;\n",
              "    }\n",
              "\n",
              "    .dataframe thead th {\n",
              "        text-align: right;\n",
              "    }\n",
              "</style>\n",
              "<table border=\"1\" class=\"dataframe\">\n",
              "  <thead>\n",
              "    <tr style=\"text-align: right;\">\n",
              "      <th></th>\n",
              "      <th>PassengerId</th>\n",
              "      <th>Pclass</th>\n",
              "      <th>Name</th>\n",
              "      <th>Sex</th>\n",
              "      <th>Age</th>\n",
              "      <th>SibSp</th>\n",
              "      <th>Parch</th>\n",
              "      <th>Ticket</th>\n",
              "      <th>Fare</th>\n",
              "      <th>Cabin</th>\n",
              "      <th>Embarked</th>\n",
              "    </tr>\n",
              "  </thead>\n",
              "  <tbody>\n",
              "  </tbody>\n",
              "</table>\n",
              "</div>\n",
              "      <button class=\"colab-df-convert\" onclick=\"convertToInteractive('df-61d41a03-641c-4685-b0a7-362d12e112ce')\"\n",
              "              title=\"Convert this dataframe to an interactive table.\"\n",
              "              style=\"display:none;\">\n",
              "        \n",
              "  <svg xmlns=\"http://www.w3.org/2000/svg\" height=\"24px\"viewBox=\"0 0 24 24\"\n",
              "       width=\"24px\">\n",
              "    <path d=\"M0 0h24v24H0V0z\" fill=\"none\"/>\n",
              "    <path d=\"M18.56 5.44l.94 2.06.94-2.06 2.06-.94-2.06-.94-.94-2.06-.94 2.06-2.06.94zm-11 1L8.5 8.5l.94-2.06 2.06-.94-2.06-.94L8.5 2.5l-.94 2.06-2.06.94zm10 10l.94 2.06.94-2.06 2.06-.94-2.06-.94-.94-2.06-.94 2.06-2.06.94z\"/><path d=\"M17.41 7.96l-1.37-1.37c-.4-.4-.92-.59-1.43-.59-.52 0-1.04.2-1.43.59L10.3 9.45l-7.72 7.72c-.78.78-.78 2.05 0 2.83L4 21.41c.39.39.9.59 1.41.59.51 0 1.02-.2 1.41-.59l7.78-7.78 2.81-2.81c.8-.78.8-2.07 0-2.86zM5.41 20L4 18.59l7.72-7.72 1.47 1.35L5.41 20z\"/>\n",
              "  </svg>\n",
              "      </button>\n",
              "      \n",
              "  <style>\n",
              "    .colab-df-container {\n",
              "      display:flex;\n",
              "      flex-wrap:wrap;\n",
              "      gap: 12px;\n",
              "    }\n",
              "\n",
              "    .colab-df-convert {\n",
              "      background-color: #E8F0FE;\n",
              "      border: none;\n",
              "      border-radius: 50%;\n",
              "      cursor: pointer;\n",
              "      display: none;\n",
              "      fill: #1967D2;\n",
              "      height: 32px;\n",
              "      padding: 0 0 0 0;\n",
              "      width: 32px;\n",
              "    }\n",
              "\n",
              "    .colab-df-convert:hover {\n",
              "      background-color: #E2EBFA;\n",
              "      box-shadow: 0px 1px 2px rgba(60, 64, 67, 0.3), 0px 1px 3px 1px rgba(60, 64, 67, 0.15);\n",
              "      fill: #174EA6;\n",
              "    }\n",
              "\n",
              "    [theme=dark] .colab-df-convert {\n",
              "      background-color: #3B4455;\n",
              "      fill: #D2E3FC;\n",
              "    }\n",
              "\n",
              "    [theme=dark] .colab-df-convert:hover {\n",
              "      background-color: #434B5C;\n",
              "      box-shadow: 0px 1px 3px 1px rgba(0, 0, 0, 0.15);\n",
              "      filter: drop-shadow(0px 1px 2px rgba(0, 0, 0, 0.3));\n",
              "      fill: #FFFFFF;\n",
              "    }\n",
              "  </style>\n",
              "\n",
              "      <script>\n",
              "        const buttonEl =\n",
              "          document.querySelector('#df-61d41a03-641c-4685-b0a7-362d12e112ce button.colab-df-convert');\n",
              "        buttonEl.style.display =\n",
              "          google.colab.kernel.accessAllowed ? 'block' : 'none';\n",
              "\n",
              "        async function convertToInteractive(key) {\n",
              "          const element = document.querySelector('#df-61d41a03-641c-4685-b0a7-362d12e112ce');\n",
              "          const dataTable =\n",
              "            await google.colab.kernel.invokeFunction('convertToInteractive',\n",
              "                                                     [key], {});\n",
              "          if (!dataTable) return;\n",
              "\n",
              "          const docLinkHtml = 'Like what you see? Visit the ' +\n",
              "            '<a target=\"_blank\" href=https://colab.research.google.com/notebooks/data_table.ipynb>data table notebook</a>'\n",
              "            + ' to learn more about interactive tables.';\n",
              "          element.innerHTML = '';\n",
              "          dataTable['output_type'] = 'display_data';\n",
              "          await google.colab.output.renderOutput(dataTable, element);\n",
              "          const docLink = document.createElement('div');\n",
              "          docLink.innerHTML = docLinkHtml;\n",
              "          element.appendChild(docLink);\n",
              "        }\n",
              "      </script>\n",
              "    </div>\n",
              "  </div>\n",
              "  "
            ]
          },
          "metadata": {},
          "execution_count": 444
        }
      ]
    },
    {
      "cell_type": "code",
      "source": [
        "train_df_modify[train_df_modify['Pclass']==3][train_df_modify[train_df_modify['Pclass']==3]['Age']>60]['Fare'].mean()"
      ],
      "metadata": {
        "colab": {
          "base_uri": "https://localhost:8080/"
        },
        "id": "9k_d7KyKQTrh",
        "outputId": "5e7c62b7-7442-4337-81d5-a5be4ecf96e2"
      },
      "execution_count": 445,
      "outputs": [
        {
          "output_type": "execute_result",
          "data": {
            "text/plain": [
              "7.82"
            ]
          },
          "metadata": {},
          "execution_count": 445
        }
      ]
    },
    {
      "cell_type": "markdown",
      "source": [
        "- 요금에 대한 결측값은 최종 테스트 데이터에 한 개만 존재하여 훈련 데이터에서 등급이 같고 나이가 60세 이상인 사람(4명)의 평균 요금으로 대체"
      ],
      "metadata": {
        "id": "Hq5vWx0RQels"
      }
    },
    {
      "cell_type": "code",
      "source": [
        "test_df['Fare'].loc[152] = 7.82"
      ],
      "metadata": {
        "id": "Q3caI2BlQpeG"
      },
      "execution_count": 446,
      "outputs": []
    },
    {
      "cell_type": "code",
      "source": [
        "train_df_modify['divCabin'] = train_df_modify['Cabin'].apply(divCabin)\n",
        "test2_df['divCabin'] = test2_df['Cabin'].apply(divCabin)"
      ],
      "metadata": {
        "id": "UKBvU8YmSGNR"
      },
      "execution_count": 447,
      "outputs": []
    },
    {
      "cell_type": "code",
      "source": [
        "train_df_modify.head(1)"
      ],
      "metadata": {
        "colab": {
          "base_uri": "https://localhost:8080/",
          "height": 142
        },
        "id": "-brzloOIRkDr",
        "outputId": "abd1af41-1e99-49b4-812c-c0b32c1bb2ed"
      },
      "execution_count": 448,
      "outputs": [
        {
          "output_type": "execute_result",
          "data": {
            "text/plain": [
              "   PassengerId  Survived  Pclass                     Name   Sex   Age  SibSp  \\\n",
              "0            1         0       3  Braund, Mr. Owen Harris  male  22.0      1   \n",
              "\n",
              "   Parch     Ticket  Fare Cabin Embarked divName divName_keyword1  \\\n",
              "0      0  A/5 21171  7.25   NaN        S      Mr               Mr   \n",
              "\n",
              "  divName_keyword2 divCabin  \n",
              "0               Mr     None  "
            ],
            "text/html": [
              "\n",
              "  <div id=\"df-c835a672-5256-497e-b6d9-c01511fa5aad\">\n",
              "    <div class=\"colab-df-container\">\n",
              "      <div>\n",
              "<style scoped>\n",
              "    .dataframe tbody tr th:only-of-type {\n",
              "        vertical-align: middle;\n",
              "    }\n",
              "\n",
              "    .dataframe tbody tr th {\n",
              "        vertical-align: top;\n",
              "    }\n",
              "\n",
              "    .dataframe thead th {\n",
              "        text-align: right;\n",
              "    }\n",
              "</style>\n",
              "<table border=\"1\" class=\"dataframe\">\n",
              "  <thead>\n",
              "    <tr style=\"text-align: right;\">\n",
              "      <th></th>\n",
              "      <th>PassengerId</th>\n",
              "      <th>Survived</th>\n",
              "      <th>Pclass</th>\n",
              "      <th>Name</th>\n",
              "      <th>Sex</th>\n",
              "      <th>Age</th>\n",
              "      <th>SibSp</th>\n",
              "      <th>Parch</th>\n",
              "      <th>Ticket</th>\n",
              "      <th>Fare</th>\n",
              "      <th>Cabin</th>\n",
              "      <th>Embarked</th>\n",
              "      <th>divName</th>\n",
              "      <th>divName_keyword1</th>\n",
              "      <th>divName_keyword2</th>\n",
              "      <th>divCabin</th>\n",
              "    </tr>\n",
              "  </thead>\n",
              "  <tbody>\n",
              "    <tr>\n",
              "      <th>0</th>\n",
              "      <td>1</td>\n",
              "      <td>0</td>\n",
              "      <td>3</td>\n",
              "      <td>Braund, Mr. Owen Harris</td>\n",
              "      <td>male</td>\n",
              "      <td>22.0</td>\n",
              "      <td>1</td>\n",
              "      <td>0</td>\n",
              "      <td>A/5 21171</td>\n",
              "      <td>7.25</td>\n",
              "      <td>NaN</td>\n",
              "      <td>S</td>\n",
              "      <td>Mr</td>\n",
              "      <td>Mr</td>\n",
              "      <td>Mr</td>\n",
              "      <td>None</td>\n",
              "    </tr>\n",
              "  </tbody>\n",
              "</table>\n",
              "</div>\n",
              "      <button class=\"colab-df-convert\" onclick=\"convertToInteractive('df-c835a672-5256-497e-b6d9-c01511fa5aad')\"\n",
              "              title=\"Convert this dataframe to an interactive table.\"\n",
              "              style=\"display:none;\">\n",
              "        \n",
              "  <svg xmlns=\"http://www.w3.org/2000/svg\" height=\"24px\"viewBox=\"0 0 24 24\"\n",
              "       width=\"24px\">\n",
              "    <path d=\"M0 0h24v24H0V0z\" fill=\"none\"/>\n",
              "    <path d=\"M18.56 5.44l.94 2.06.94-2.06 2.06-.94-2.06-.94-.94-2.06-.94 2.06-2.06.94zm-11 1L8.5 8.5l.94-2.06 2.06-.94-2.06-.94L8.5 2.5l-.94 2.06-2.06.94zm10 10l.94 2.06.94-2.06 2.06-.94-2.06-.94-.94-2.06-.94 2.06-2.06.94z\"/><path d=\"M17.41 7.96l-1.37-1.37c-.4-.4-.92-.59-1.43-.59-.52 0-1.04.2-1.43.59L10.3 9.45l-7.72 7.72c-.78.78-.78 2.05 0 2.83L4 21.41c.39.39.9.59 1.41.59.51 0 1.02-.2 1.41-.59l7.78-7.78 2.81-2.81c.8-.78.8-2.07 0-2.86zM5.41 20L4 18.59l7.72-7.72 1.47 1.35L5.41 20z\"/>\n",
              "  </svg>\n",
              "      </button>\n",
              "      \n",
              "  <style>\n",
              "    .colab-df-container {\n",
              "      display:flex;\n",
              "      flex-wrap:wrap;\n",
              "      gap: 12px;\n",
              "    }\n",
              "\n",
              "    .colab-df-convert {\n",
              "      background-color: #E8F0FE;\n",
              "      border: none;\n",
              "      border-radius: 50%;\n",
              "      cursor: pointer;\n",
              "      display: none;\n",
              "      fill: #1967D2;\n",
              "      height: 32px;\n",
              "      padding: 0 0 0 0;\n",
              "      width: 32px;\n",
              "    }\n",
              "\n",
              "    .colab-df-convert:hover {\n",
              "      background-color: #E2EBFA;\n",
              "      box-shadow: 0px 1px 2px rgba(60, 64, 67, 0.3), 0px 1px 3px 1px rgba(60, 64, 67, 0.15);\n",
              "      fill: #174EA6;\n",
              "    }\n",
              "\n",
              "    [theme=dark] .colab-df-convert {\n",
              "      background-color: #3B4455;\n",
              "      fill: #D2E3FC;\n",
              "    }\n",
              "\n",
              "    [theme=dark] .colab-df-convert:hover {\n",
              "      background-color: #434B5C;\n",
              "      box-shadow: 0px 1px 3px 1px rgba(0, 0, 0, 0.15);\n",
              "      filter: drop-shadow(0px 1px 2px rgba(0, 0, 0, 0.3));\n",
              "      fill: #FFFFFF;\n",
              "    }\n",
              "  </style>\n",
              "\n",
              "      <script>\n",
              "        const buttonEl =\n",
              "          document.querySelector('#df-c835a672-5256-497e-b6d9-c01511fa5aad button.colab-df-convert');\n",
              "        buttonEl.style.display =\n",
              "          google.colab.kernel.accessAllowed ? 'block' : 'none';\n",
              "\n",
              "        async function convertToInteractive(key) {\n",
              "          const element = document.querySelector('#df-c835a672-5256-497e-b6d9-c01511fa5aad');\n",
              "          const dataTable =\n",
              "            await google.colab.kernel.invokeFunction('convertToInteractive',\n",
              "                                                     [key], {});\n",
              "          if (!dataTable) return;\n",
              "\n",
              "          const docLinkHtml = 'Like what you see? Visit the ' +\n",
              "            '<a target=\"_blank\" href=https://colab.research.google.com/notebooks/data_table.ipynb>data table notebook</a>'\n",
              "            + ' to learn more about interactive tables.';\n",
              "          element.innerHTML = '';\n",
              "          dataTable['output_type'] = 'display_data';\n",
              "          await google.colab.output.renderOutput(dataTable, element);\n",
              "          const docLink = document.createElement('div');\n",
              "          docLink.innerHTML = docLinkHtml;\n",
              "          element.appendChild(docLink);\n",
              "        }\n",
              "      </script>\n",
              "    </div>\n",
              "  </div>\n",
              "  "
            ]
          },
          "metadata": {},
          "execution_count": 448
        }
      ]
    },
    {
      "cell_type": "code",
      "source": [
        "test2_df.head(1)"
      ],
      "metadata": {
        "colab": {
          "base_uri": "https://localhost:8080/",
          "height": 81
        },
        "id": "mRBOUnHjRmDz",
        "outputId": "d06f2eac-5c60-4862-ca4a-6d55e994efd6"
      },
      "execution_count": 449,
      "outputs": [
        {
          "output_type": "execute_result",
          "data": {
            "text/plain": [
              "   PassengerId  Pclass              Name   Sex   Age  SibSp  Parch  Ticket  \\\n",
              "0          892       3  Kelly, Mr. James  male  34.5      0      0  330911   \n",
              "\n",
              "     Fare Cabin Embarked divName divName_keyword1 divName_keyword2 divCabin  \n",
              "0  7.8292   NaN        Q      Mr               Mr               Mr     None  "
            ],
            "text/html": [
              "\n",
              "  <div id=\"df-1fc16701-ecc9-4b41-bc77-a900cf261aba\">\n",
              "    <div class=\"colab-df-container\">\n",
              "      <div>\n",
              "<style scoped>\n",
              "    .dataframe tbody tr th:only-of-type {\n",
              "        vertical-align: middle;\n",
              "    }\n",
              "\n",
              "    .dataframe tbody tr th {\n",
              "        vertical-align: top;\n",
              "    }\n",
              "\n",
              "    .dataframe thead th {\n",
              "        text-align: right;\n",
              "    }\n",
              "</style>\n",
              "<table border=\"1\" class=\"dataframe\">\n",
              "  <thead>\n",
              "    <tr style=\"text-align: right;\">\n",
              "      <th></th>\n",
              "      <th>PassengerId</th>\n",
              "      <th>Pclass</th>\n",
              "      <th>Name</th>\n",
              "      <th>Sex</th>\n",
              "      <th>Age</th>\n",
              "      <th>SibSp</th>\n",
              "      <th>Parch</th>\n",
              "      <th>Ticket</th>\n",
              "      <th>Fare</th>\n",
              "      <th>Cabin</th>\n",
              "      <th>Embarked</th>\n",
              "      <th>divName</th>\n",
              "      <th>divName_keyword1</th>\n",
              "      <th>divName_keyword2</th>\n",
              "      <th>divCabin</th>\n",
              "    </tr>\n",
              "  </thead>\n",
              "  <tbody>\n",
              "    <tr>\n",
              "      <th>0</th>\n",
              "      <td>892</td>\n",
              "      <td>3</td>\n",
              "      <td>Kelly, Mr. James</td>\n",
              "      <td>male</td>\n",
              "      <td>34.5</td>\n",
              "      <td>0</td>\n",
              "      <td>0</td>\n",
              "      <td>330911</td>\n",
              "      <td>7.8292</td>\n",
              "      <td>NaN</td>\n",
              "      <td>Q</td>\n",
              "      <td>Mr</td>\n",
              "      <td>Mr</td>\n",
              "      <td>Mr</td>\n",
              "      <td>None</td>\n",
              "    </tr>\n",
              "  </tbody>\n",
              "</table>\n",
              "</div>\n",
              "      <button class=\"colab-df-convert\" onclick=\"convertToInteractive('df-1fc16701-ecc9-4b41-bc77-a900cf261aba')\"\n",
              "              title=\"Convert this dataframe to an interactive table.\"\n",
              "              style=\"display:none;\">\n",
              "        \n",
              "  <svg xmlns=\"http://www.w3.org/2000/svg\" height=\"24px\"viewBox=\"0 0 24 24\"\n",
              "       width=\"24px\">\n",
              "    <path d=\"M0 0h24v24H0V0z\" fill=\"none\"/>\n",
              "    <path d=\"M18.56 5.44l.94 2.06.94-2.06 2.06-.94-2.06-.94-.94-2.06-.94 2.06-2.06.94zm-11 1L8.5 8.5l.94-2.06 2.06-.94-2.06-.94L8.5 2.5l-.94 2.06-2.06.94zm10 10l.94 2.06.94-2.06 2.06-.94-2.06-.94-.94-2.06-.94 2.06-2.06.94z\"/><path d=\"M17.41 7.96l-1.37-1.37c-.4-.4-.92-.59-1.43-.59-.52 0-1.04.2-1.43.59L10.3 9.45l-7.72 7.72c-.78.78-.78 2.05 0 2.83L4 21.41c.39.39.9.59 1.41.59.51 0 1.02-.2 1.41-.59l7.78-7.78 2.81-2.81c.8-.78.8-2.07 0-2.86zM5.41 20L4 18.59l7.72-7.72 1.47 1.35L5.41 20z\"/>\n",
              "  </svg>\n",
              "      </button>\n",
              "      \n",
              "  <style>\n",
              "    .colab-df-container {\n",
              "      display:flex;\n",
              "      flex-wrap:wrap;\n",
              "      gap: 12px;\n",
              "    }\n",
              "\n",
              "    .colab-df-convert {\n",
              "      background-color: #E8F0FE;\n",
              "      border: none;\n",
              "      border-radius: 50%;\n",
              "      cursor: pointer;\n",
              "      display: none;\n",
              "      fill: #1967D2;\n",
              "      height: 32px;\n",
              "      padding: 0 0 0 0;\n",
              "      width: 32px;\n",
              "    }\n",
              "\n",
              "    .colab-df-convert:hover {\n",
              "      background-color: #E2EBFA;\n",
              "      box-shadow: 0px 1px 2px rgba(60, 64, 67, 0.3), 0px 1px 3px 1px rgba(60, 64, 67, 0.15);\n",
              "      fill: #174EA6;\n",
              "    }\n",
              "\n",
              "    [theme=dark] .colab-df-convert {\n",
              "      background-color: #3B4455;\n",
              "      fill: #D2E3FC;\n",
              "    }\n",
              "\n",
              "    [theme=dark] .colab-df-convert:hover {\n",
              "      background-color: #434B5C;\n",
              "      box-shadow: 0px 1px 3px 1px rgba(0, 0, 0, 0.15);\n",
              "      filter: drop-shadow(0px 1px 2px rgba(0, 0, 0, 0.3));\n",
              "      fill: #FFFFFF;\n",
              "    }\n",
              "  </style>\n",
              "\n",
              "      <script>\n",
              "        const buttonEl =\n",
              "          document.querySelector('#df-1fc16701-ecc9-4b41-bc77-a900cf261aba button.colab-df-convert');\n",
              "        buttonEl.style.display =\n",
              "          google.colab.kernel.accessAllowed ? 'block' : 'none';\n",
              "\n",
              "        async function convertToInteractive(key) {\n",
              "          const element = document.querySelector('#df-1fc16701-ecc9-4b41-bc77-a900cf261aba');\n",
              "          const dataTable =\n",
              "            await google.colab.kernel.invokeFunction('convertToInteractive',\n",
              "                                                     [key], {});\n",
              "          if (!dataTable) return;\n",
              "\n",
              "          const docLinkHtml = 'Like what you see? Visit the ' +\n",
              "            '<a target=\"_blank\" href=https://colab.research.google.com/notebooks/data_table.ipynb>data table notebook</a>'\n",
              "            + ' to learn more about interactive tables.';\n",
              "          element.innerHTML = '';\n",
              "          dataTable['output_type'] = 'display_data';\n",
              "          await google.colab.output.renderOutput(dataTable, element);\n",
              "          const docLink = document.createElement('div');\n",
              "          docLink.innerHTML = docLinkHtml;\n",
              "          element.appendChild(docLink);\n",
              "        }\n",
              "      </script>\n",
              "    </div>\n",
              "  </div>\n",
              "  "
            ]
          },
          "metadata": {},
          "execution_count": 449
        }
      ]
    },
    {
      "cell_type": "markdown",
      "source": [
        "#### 다시 모델 적용"
      ],
      "metadata": {
        "id": "KgBOAPZYUFxY"
      }
    },
    {
      "cell_type": "code",
      "source": [
        "drop_cols = ['PassengerId', 'Ticket', 'Cabin', 'Name', 'divName_keyword1', 'divName']\n",
        "\n",
        "train_df_modify = train_df_modify.drop(drop_cols, axis=1)\n",
        "test2_df = test2_df.drop(drop_cols, axis=1)\n"
      ],
      "metadata": {
        "id": "bfP64cEeT6Px"
      },
      "execution_count": 450,
      "outputs": []
    },
    {
      "cell_type": "code",
      "source": [
        "label_col = ['Sex', 'divName_keyword2', 'divCabin','Embarked']\n",
        "les = []\n",
        "\n",
        "for col in label_col:\n",
        "  le = LabelEncoder()\n",
        "  train_df_modify[col] = le.fit_transform(train_df_modify[col])\n",
        "  test2_df[col] = le.transform(test2_df[col])\n",
        "  les.append(le)\n",
        "\n"
      ],
      "metadata": {
        "id": "yhYGVbOBRP2A"
      },
      "execution_count": 451,
      "outputs": []
    },
    {
      "cell_type": "code",
      "source": [
        "X = train_df_modify.drop('Survived', axis=1)\n",
        "y = train_df_modify['Survived']\n",
        "\n",
        "X_train, X_test, y_train, y_test = train_test_split(X, y, test_size=0.2, random_state=52)\n",
        "\n",
        "tree = DecisionTreeClassifier()\n",
        "rf = RandomForestClassifier()\n",
        "xgb = XGBClassifier()\n",
        "logi = LogisticRegression()\n",
        "\n",
        "tree.fit(X_train, y_train)\n",
        "rf.fit(X_train, y_train)\n",
        "xgb.fit(X_train, y_train)\n",
        "logi.fit(X_train, y_train)\n",
        "\n",
        "tree_pred = tree.predict(test2_df)\n",
        "rf_pred = rf.predict(test2_df)\n",
        "xgb_pred = xgb.predict(test2_df)\n",
        "logi_pred = logi.predict(test2_df)\n",
        "\n",
        "print(\"DecisionTree : {:.2f}%\" .format(tree.score(X_test, y_test)*100))\n",
        "print(\"RandomForest : {:.2f}%\" .format(rf.score(X_test, y_test)*100))\n",
        "print(\"XGBoost : {:.2f}%\" .format(xgb.score(X_test, y_test)*100))\n",
        "print(\"Logisitc : {:.2f}%\" .format(logi.score(X_test, y_test)*100))"
      ],
      "metadata": {
        "colab": {
          "base_uri": "https://localhost:8080/"
        },
        "id": "8_h5zoUaUJxh",
        "outputId": "fc6d0c7e-e54a-4da3-9d44-d5a20892adf1"
      },
      "execution_count": 453,
      "outputs": [
        {
          "output_type": "stream",
          "name": "stdout",
          "text": [
            "DecisionTree : 75.42%\n",
            "RandomForest : 79.89%\n",
            "XGBoost : 81.01%\n",
            "Logisitc : 80.45%\n"
          ]
        }
      ]
    },
    {
      "cell_type": "code",
      "source": [
        "submission['Survived'] = xgb_pred\n",
        "submission.to_csv('/content/drive/MyDrive/ds_study/ML/02.titanic/submission2.csv', index=False)"
      ],
      "metadata": {
        "id": "kg3ZhajmVFab"
      },
      "execution_count": 455,
      "outputs": []
    },
    {
      "cell_type": "markdown",
      "source": [
        "#### 소폭 상승\n",
        "![스크린샷 2023-03-12 오후 7.22.02.png](data:image/png;base64,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)"
      ],
      "metadata": {
        "id": "mpeFFxfFVS6H"
      }
    },
    {
      "cell_type": "markdown",
      "source": [
        "#### 객실에 대한 데이터가 부실했으니 없이 ..?"
      ],
      "metadata": {
        "id": "x3dgHDKkV9QA"
      }
    },
    {
      "cell_type": "code",
      "source": [
        "X_train.columns"
      ],
      "metadata": {
        "colab": {
          "base_uri": "https://localhost:8080/"
        },
        "id": "MZpNIsnhWVfP",
        "outputId": "0827a121-54bb-4f18-b1fe-82d80b948de0"
      },
      "execution_count": 457,
      "outputs": [
        {
          "output_type": "execute_result",
          "data": {
            "text/plain": [
              "Index(['Pclass', 'Sex', 'Age', 'SibSp', 'Parch', 'Fare', 'Embarked',\n",
              "       'divName_keyword2', 'divCabin'],\n",
              "      dtype='object')"
            ]
          },
          "metadata": {},
          "execution_count": 457
        }
      ]
    },
    {
      "cell_type": "code",
      "source": [
        "X = train_df_modify.drop(['Survived','divCabin'], axis=1)\n",
        "y = train_df_modify['Survived']\n",
        "\n",
        "X_train, X_test, y_train, y_test = train_test_split(X, y, test_size=0.2, random_state=52)\n",
        "\n",
        "tree = DecisionTreeClassifier()\n",
        "rf = RandomForestClassifier()\n",
        "xgb = XGBClassifier()\n",
        "logi = LogisticRegression()\n",
        "\n",
        "tree.fit(X_train, y_train)\n",
        "rf.fit(X_train, y_train)\n",
        "xgb.fit(X_train, y_train)\n",
        "logi.fit(X_train, y_train)\n",
        "\n",
        "tree_pred = tree.predict(test2_df.drop('divCabin', axis=1))\n",
        "rf_pred = rf.predict(test2_df.drop('divCabin', axis=1))\n",
        "xgb_pred = xgb.predict(test2_df.drop('divCabin', axis=1))\n",
        "logi_pred = logi.predict(test2_df.drop('divCabin', axis=1))\n",
        "\n",
        "print(\"DecisionTree : {:.2f}%\" .format(tree.score(X_test, y_test)*100))\n",
        "print(\"RandomForest : {:.2f}%\" .format(rf.score(X_test, y_test)*100))\n",
        "print(\"XGBoost : {:.2f}%\" .format(xgb.score(X_test, y_test)*100))\n",
        "print(\"Logisitc : {:.2f}%\" .format(logi.score(X_test, y_test)*100))"
      ],
      "metadata": {
        "colab": {
          "base_uri": "https://localhost:8080/"
        },
        "id": "TYkpSa5LWGd7",
        "outputId": "b8a5c482-c00c-4511-cb92-1f3add723409"
      },
      "execution_count": 458,
      "outputs": [
        {
          "output_type": "stream",
          "name": "stdout",
          "text": [
            "DecisionTree : 75.42%\n",
            "RandomForest : 81.01%\n",
            "XGBoost : 82.12%\n",
            "Logisitc : 81.01%\n"
          ]
        }
      ]
    },
    {
      "cell_type": "code",
      "source": [
        "submission['Survived'] = xgb_pred\n",
        "submission.to_csv('/content/drive/MyDrive/ds_study/ML/02.titanic/submission2.csv', index=False)"
      ],
      "metadata": {
        "id": "ztgLUMzkWLKu"
      },
      "execution_count": 459,
      "outputs": []
    },
    {
      "cell_type": "markdown",
      "source": [
        "#### 훈련, 테스트 모두 큰 변화는 없었음 최종 데이터에는 0.2% 하락.. 의미있는 분류는 아니었음\n",
        "\n",
        "![스크린샷 2023-03-12 오후 7.27.32.png](data:image/png;base64,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)"
      ],
      "metadata": {
        "id": "uw6NX_ltWkCN"
      }
    },
    {
      "cell_type": "code",
      "source": [],
      "metadata": {
        "id": "J5PIXRgfXDo1"
      },
      "execution_count": null,
      "outputs": []
    }
  ],
  "metadata": {
    "colab": {
      "provenance": []
    },
    "kernelspec": {
      "display_name": "Python 3",
      "name": "python3"
    },
    "language_info": {
      "codemirror_mode": {
        "name": "ipython",
        "version": 3
      },
      "file_extension": ".py",
      "mimetype": "text/x-python",
      "name": "python",
      "nbconvert_exporter": "python",
      "pygments_lexer": "ipython3",
      "version": "3.7.16"
    }
  },
  "nbformat": 4,
  "nbformat_minor": 0
}