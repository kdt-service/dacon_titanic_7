{
  "cells": [
    {
      "cell_type": "code",
      "execution_count": 1,
      "metadata": {
        "id": "VtsaN1rKUGKF"
      },
      "outputs": [],
      "source": [
        "import pandas as pd\n",
        "import matplotlib.pyplot as plt\n",
        "import seaborn as sns\n",
        "plt.style.use('ggplot')\n",
        "\n",
        "from pylab import rcParams\n",
        "rcParams['figure.figsize'] = 15,10\n",
        "\n",
        "import warnings\n",
        "warnings.filterwarnings('ignore')\n"
      ]
    },
    {
      "cell_type": "code",
      "source": [
        "from sklearn.tree import DecisionTreeClassifier\n",
        "from sklearn.ensemble import RandomForestClassifier\n",
        "from sklearn.linear_model import LogisticRegression\n",
        "from xgboost import XGBClassifier\n",
        "\n",
        "from sklearn.model_selection import train_test_split\n",
        "from sklearn.preprocessing import LabelEncoder"
      ],
      "metadata": {
        "id": "bBpPjYSIXjAw"
      },
      "execution_count": null,
      "outputs": []
    },
    {
      "cell_type": "code",
      "execution_count": 2,
      "metadata": {
        "id": "pzJBdbaFUYYT"
      },
      "outputs": [],
      "source": [
        "train_path = '/content/drive/MyDrive/ds_study/ML/02.titanic/train.csv'\n",
        "test_path = '/content/drive/MyDrive/ds_study/ML/02.titanic/test.csv'"
      ]
    },
    {
      "cell_type": "code",
      "execution_count": 6,
      "metadata": {
        "id": "kguAMOM2UgG_"
      },
      "outputs": [],
      "source": [
        "train_df = pd.read_csv(train_path)\n",
        "test_df = pd.read_csv(test_path)"
      ]
    },
    {
      "cell_type": "code",
      "execution_count": null,
      "metadata": {
        "colab": {
          "base_uri": "https://localhost:8080/",
          "height": 424
        },
        "id": "nAk5rqxmVeqd",
        "outputId": "6d6b347b-9de8-4fb6-d430-30f974d7e955"
      },
      "outputs": [
        {
          "data": {
            "text/html": [
              "\n",
              "  <div id=\"df-5453ec94-a2b0-44f4-8924-5e7645c905f4\">\n",
              "    <div class=\"colab-df-container\">\n",
              "      <div>\n",
              "<style scoped>\n",
              "    .dataframe tbody tr th:only-of-type {\n",
              "        vertical-align: middle;\n",
              "    }\n",
              "\n",
              "    .dataframe tbody tr th {\n",
              "        vertical-align: top;\n",
              "    }\n",
              "\n",
              "    .dataframe thead th {\n",
              "        text-align: right;\n",
              "    }\n",
              "</style>\n",
              "<table border=\"1\" class=\"dataframe\">\n",
              "  <thead>\n",
              "    <tr style=\"text-align: right;\">\n",
              "      <th></th>\n",
              "      <th>PassengerId</th>\n",
              "      <th>Survived</th>\n",
              "      <th>Pclass</th>\n",
              "      <th>Name</th>\n",
              "      <th>Sex</th>\n",
              "      <th>Age</th>\n",
              "      <th>SibSp</th>\n",
              "      <th>Parch</th>\n",
              "      <th>Ticket</th>\n",
              "      <th>Fare</th>\n",
              "      <th>Cabin</th>\n",
              "      <th>Embarked</th>\n",
              "    </tr>\n",
              "  </thead>\n",
              "  <tbody>\n",
              "    <tr>\n",
              "      <th>0</th>\n",
              "      <td>1</td>\n",
              "      <td>0</td>\n",
              "      <td>3</td>\n",
              "      <td>Braund, Mr. Owen Harris</td>\n",
              "      <td>male</td>\n",
              "      <td>22.0</td>\n",
              "      <td>1</td>\n",
              "      <td>0</td>\n",
              "      <td>A/5 21171</td>\n",
              "      <td>7.2500</td>\n",
              "      <td>NaN</td>\n",
              "      <td>S</td>\n",
              "    </tr>\n",
              "    <tr>\n",
              "      <th>1</th>\n",
              "      <td>2</td>\n",
              "      <td>1</td>\n",
              "      <td>1</td>\n",
              "      <td>Cumings, Mrs. John Bradley (Florence Briggs Th...</td>\n",
              "      <td>female</td>\n",
              "      <td>38.0</td>\n",
              "      <td>1</td>\n",
              "      <td>0</td>\n",
              "      <td>PC 17599</td>\n",
              "      <td>71.2833</td>\n",
              "      <td>C85</td>\n",
              "      <td>C</td>\n",
              "    </tr>\n",
              "    <tr>\n",
              "      <th>2</th>\n",
              "      <td>3</td>\n",
              "      <td>1</td>\n",
              "      <td>3</td>\n",
              "      <td>Heikkinen, Miss. Laina</td>\n",
              "      <td>female</td>\n",
              "      <td>26.0</td>\n",
              "      <td>0</td>\n",
              "      <td>0</td>\n",
              "      <td>STON/O2. 3101282</td>\n",
              "      <td>7.9250</td>\n",
              "      <td>NaN</td>\n",
              "      <td>S</td>\n",
              "    </tr>\n",
              "    <tr>\n",
              "      <th>3</th>\n",
              "      <td>4</td>\n",
              "      <td>1</td>\n",
              "      <td>1</td>\n",
              "      <td>Futrelle, Mrs. Jacques Heath (Lily May Peel)</td>\n",
              "      <td>female</td>\n",
              "      <td>35.0</td>\n",
              "      <td>1</td>\n",
              "      <td>0</td>\n",
              "      <td>113803</td>\n",
              "      <td>53.1000</td>\n",
              "      <td>C123</td>\n",
              "      <td>S</td>\n",
              "    </tr>\n",
              "    <tr>\n",
              "      <th>4</th>\n",
              "      <td>5</td>\n",
              "      <td>0</td>\n",
              "      <td>3</td>\n",
              "      <td>Allen, Mr. William Henry</td>\n",
              "      <td>male</td>\n",
              "      <td>35.0</td>\n",
              "      <td>0</td>\n",
              "      <td>0</td>\n",
              "      <td>373450</td>\n",
              "      <td>8.0500</td>\n",
              "      <td>NaN</td>\n",
              "      <td>S</td>\n",
              "    </tr>\n",
              "    <tr>\n",
              "      <th>...</th>\n",
              "      <td>...</td>\n",
              "      <td>...</td>\n",
              "      <td>...</td>\n",
              "      <td>...</td>\n",
              "      <td>...</td>\n",
              "      <td>...</td>\n",
              "      <td>...</td>\n",
              "      <td>...</td>\n",
              "      <td>...</td>\n",
              "      <td>...</td>\n",
              "      <td>...</td>\n",
              "      <td>...</td>\n",
              "    </tr>\n",
              "    <tr>\n",
              "      <th>886</th>\n",
              "      <td>887</td>\n",
              "      <td>0</td>\n",
              "      <td>2</td>\n",
              "      <td>Montvila, Rev. Juozas</td>\n",
              "      <td>male</td>\n",
              "      <td>27.0</td>\n",
              "      <td>0</td>\n",
              "      <td>0</td>\n",
              "      <td>211536</td>\n",
              "      <td>13.0000</td>\n",
              "      <td>NaN</td>\n",
              "      <td>S</td>\n",
              "    </tr>\n",
              "    <tr>\n",
              "      <th>887</th>\n",
              "      <td>888</td>\n",
              "      <td>1</td>\n",
              "      <td>1</td>\n",
              "      <td>Graham, Miss. Margaret Edith</td>\n",
              "      <td>female</td>\n",
              "      <td>19.0</td>\n",
              "      <td>0</td>\n",
              "      <td>0</td>\n",
              "      <td>112053</td>\n",
              "      <td>30.0000</td>\n",
              "      <td>B42</td>\n",
              "      <td>S</td>\n",
              "    </tr>\n",
              "    <tr>\n",
              "      <th>888</th>\n",
              "      <td>889</td>\n",
              "      <td>0</td>\n",
              "      <td>3</td>\n",
              "      <td>Johnston, Miss. Catherine Helen \"Carrie\"</td>\n",
              "      <td>female</td>\n",
              "      <td>NaN</td>\n",
              "      <td>1</td>\n",
              "      <td>2</td>\n",
              "      <td>W./C. 6607</td>\n",
              "      <td>23.4500</td>\n",
              "      <td>NaN</td>\n",
              "      <td>S</td>\n",
              "    </tr>\n",
              "    <tr>\n",
              "      <th>889</th>\n",
              "      <td>890</td>\n",
              "      <td>1</td>\n",
              "      <td>1</td>\n",
              "      <td>Behr, Mr. Karl Howell</td>\n",
              "      <td>male</td>\n",
              "      <td>26.0</td>\n",
              "      <td>0</td>\n",
              "      <td>0</td>\n",
              "      <td>111369</td>\n",
              "      <td>30.0000</td>\n",
              "      <td>C148</td>\n",
              "      <td>C</td>\n",
              "    </tr>\n",
              "    <tr>\n",
              "      <th>890</th>\n",
              "      <td>891</td>\n",
              "      <td>0</td>\n",
              "      <td>3</td>\n",
              "      <td>Dooley, Mr. Patrick</td>\n",
              "      <td>male</td>\n",
              "      <td>32.0</td>\n",
              "      <td>0</td>\n",
              "      <td>0</td>\n",
              "      <td>370376</td>\n",
              "      <td>7.7500</td>\n",
              "      <td>NaN</td>\n",
              "      <td>Q</td>\n",
              "    </tr>\n",
              "  </tbody>\n",
              "</table>\n",
              "<p>891 rows × 12 columns</p>\n",
              "</div>\n",
              "      <button class=\"colab-df-convert\" onclick=\"convertToInteractive('df-5453ec94-a2b0-44f4-8924-5e7645c905f4')\"\n",
              "              title=\"Convert this dataframe to an interactive table.\"\n",
              "              style=\"display:none;\">\n",
              "        \n",
              "  <svg xmlns=\"http://www.w3.org/2000/svg\" height=\"24px\"viewBox=\"0 0 24 24\"\n",
              "       width=\"24px\">\n",
              "    <path d=\"M0 0h24v24H0V0z\" fill=\"none\"/>\n",
              "    <path d=\"M18.56 5.44l.94 2.06.94-2.06 2.06-.94-2.06-.94-.94-2.06-.94 2.06-2.06.94zm-11 1L8.5 8.5l.94-2.06 2.06-.94-2.06-.94L8.5 2.5l-.94 2.06-2.06.94zm10 10l.94 2.06.94-2.06 2.06-.94-2.06-.94-.94-2.06-.94 2.06-2.06.94z\"/><path d=\"M17.41 7.96l-1.37-1.37c-.4-.4-.92-.59-1.43-.59-.52 0-1.04.2-1.43.59L10.3 9.45l-7.72 7.72c-.78.78-.78 2.05 0 2.83L4 21.41c.39.39.9.59 1.41.59.51 0 1.02-.2 1.41-.59l7.78-7.78 2.81-2.81c.8-.78.8-2.07 0-2.86zM5.41 20L4 18.59l7.72-7.72 1.47 1.35L5.41 20z\"/>\n",
              "  </svg>\n",
              "      </button>\n",
              "      \n",
              "  <style>\n",
              "    .colab-df-container {\n",
              "      display:flex;\n",
              "      flex-wrap:wrap;\n",
              "      gap: 12px;\n",
              "    }\n",
              "\n",
              "    .colab-df-convert {\n",
              "      background-color: #E8F0FE;\n",
              "      border: none;\n",
              "      border-radius: 50%;\n",
              "      cursor: pointer;\n",
              "      display: none;\n",
              "      fill: #1967D2;\n",
              "      height: 32px;\n",
              "      padding: 0 0 0 0;\n",
              "      width: 32px;\n",
              "    }\n",
              "\n",
              "    .colab-df-convert:hover {\n",
              "      background-color: #E2EBFA;\n",
              "      box-shadow: 0px 1px 2px rgba(60, 64, 67, 0.3), 0px 1px 3px 1px rgba(60, 64, 67, 0.15);\n",
              "      fill: #174EA6;\n",
              "    }\n",
              "\n",
              "    [theme=dark] .colab-df-convert {\n",
              "      background-color: #3B4455;\n",
              "      fill: #D2E3FC;\n",
              "    }\n",
              "\n",
              "    [theme=dark] .colab-df-convert:hover {\n",
              "      background-color: #434B5C;\n",
              "      box-shadow: 0px 1px 3px 1px rgba(0, 0, 0, 0.15);\n",
              "      filter: drop-shadow(0px 1px 2px rgba(0, 0, 0, 0.3));\n",
              "      fill: #FFFFFF;\n",
              "    }\n",
              "  </style>\n",
              "\n",
              "      <script>\n",
              "        const buttonEl =\n",
              "          document.querySelector('#df-5453ec94-a2b0-44f4-8924-5e7645c905f4 button.colab-df-convert');\n",
              "        buttonEl.style.display =\n",
              "          google.colab.kernel.accessAllowed ? 'block' : 'none';\n",
              "\n",
              "        async function convertToInteractive(key) {\n",
              "          const element = document.querySelector('#df-5453ec94-a2b0-44f4-8924-5e7645c905f4');\n",
              "          const dataTable =\n",
              "            await google.colab.kernel.invokeFunction('convertToInteractive',\n",
              "                                                     [key], {});\n",
              "          if (!dataTable) return;\n",
              "\n",
              "          const docLinkHtml = 'Like what you see? Visit the ' +\n",
              "            '<a target=\"_blank\" href=https://colab.research.google.com/notebooks/data_table.ipynb>data table notebook</a>'\n",
              "            + ' to learn more about interactive tables.';\n",
              "          element.innerHTML = '';\n",
              "          dataTable['output_type'] = 'display_data';\n",
              "          await google.colab.output.renderOutput(dataTable, element);\n",
              "          const docLink = document.createElement('div');\n",
              "          docLink.innerHTML = docLinkHtml;\n",
              "          element.appendChild(docLink);\n",
              "        }\n",
              "      </script>\n",
              "    </div>\n",
              "  </div>\n",
              "  "
            ],
            "text/plain": [
              "     PassengerId  Survived  Pclass  \\\n",
              "0              1         0       3   \n",
              "1              2         1       1   \n",
              "2              3         1       3   \n",
              "3              4         1       1   \n",
              "4              5         0       3   \n",
              "..           ...       ...     ...   \n",
              "886          887         0       2   \n",
              "887          888         1       1   \n",
              "888          889         0       3   \n",
              "889          890         1       1   \n",
              "890          891         0       3   \n",
              "\n",
              "                                                  Name     Sex   Age  SibSp  \\\n",
              "0                              Braund, Mr. Owen Harris    male  22.0      1   \n",
              "1    Cumings, Mrs. John Bradley (Florence Briggs Th...  female  38.0      1   \n",
              "2                               Heikkinen, Miss. Laina  female  26.0      0   \n",
              "3         Futrelle, Mrs. Jacques Heath (Lily May Peel)  female  35.0      1   \n",
              "4                             Allen, Mr. William Henry    male  35.0      0   \n",
              "..                                                 ...     ...   ...    ...   \n",
              "886                              Montvila, Rev. Juozas    male  27.0      0   \n",
              "887                       Graham, Miss. Margaret Edith  female  19.0      0   \n",
              "888           Johnston, Miss. Catherine Helen \"Carrie\"  female   NaN      1   \n",
              "889                              Behr, Mr. Karl Howell    male  26.0      0   \n",
              "890                                Dooley, Mr. Patrick    male  32.0      0   \n",
              "\n",
              "     Parch            Ticket     Fare Cabin Embarked  \n",
              "0        0         A/5 21171   7.2500   NaN        S  \n",
              "1        0          PC 17599  71.2833   C85        C  \n",
              "2        0  STON/O2. 3101282   7.9250   NaN        S  \n",
              "3        0            113803  53.1000  C123        S  \n",
              "4        0            373450   8.0500   NaN        S  \n",
              "..     ...               ...      ...   ...      ...  \n",
              "886      0            211536  13.0000   NaN        S  \n",
              "887      0            112053  30.0000   B42        S  \n",
              "888      2        W./C. 6607  23.4500   NaN        S  \n",
              "889      0            111369  30.0000  C148        C  \n",
              "890      0            370376   7.7500   NaN        Q  \n",
              "\n",
              "[891 rows x 12 columns]"
            ]
          },
          "execution_count": 6,
          "metadata": {},
          "output_type": "execute_result"
        }
      ],
      "source": [
        "train_df"
      ]
    },
    {
      "cell_type": "code",
      "source": [
        "from google.colab import drive\n",
        "drive.mount('/content/drive')"
      ],
      "metadata": {
        "colab": {
          "base_uri": "https://localhost:8080/"
        },
        "id": "qrK3tdjuyKQ7",
        "outputId": "d8d825b5-51fa-43c7-932d-896111a56108"
      },
      "execution_count": 5,
      "outputs": [
        {
          "output_type": "stream",
          "name": "stdout",
          "text": [
            "Mounted at /content/drive\n"
          ]
        }
      ]
    },
    {
      "cell_type": "code",
      "execution_count": null,
      "metadata": {
        "colab": {
          "base_uri": "https://localhost:8080/"
        },
        "id": "N0iedTEOVgQa",
        "outputId": "e8149057-6fb5-49a7-cd8d-570b47eddf5b"
      },
      "outputs": [
        {
          "name": "stdout",
          "output_type": "stream",
          "text": [
            "<class 'pandas.core.frame.DataFrame'>\n",
            "RangeIndex: 891 entries, 0 to 890\n",
            "Data columns (total 12 columns):\n",
            " #   Column       Non-Null Count  Dtype  \n",
            "---  ------       --------------  -----  \n",
            " 0   PassengerId  891 non-null    int64  \n",
            " 1   Survived     891 non-null    int64  \n",
            " 2   Pclass       891 non-null    int64  \n",
            " 3   Name         891 non-null    object \n",
            " 4   Sex          891 non-null    object \n",
            " 5   Age          714 non-null    float64\n",
            " 6   SibSp        891 non-null    int64  \n",
            " 7   Parch        891 non-null    int64  \n",
            " 8   Ticket       891 non-null    object \n",
            " 9   Fare         891 non-null    float64\n",
            " 10  Cabin        204 non-null    object \n",
            " 11  Embarked     889 non-null    object \n",
            "dtypes: float64(2), int64(5), object(5)\n",
            "memory usage: 83.7+ KB\n"
          ]
        }
      ],
      "source": [
        "train_df.info()"
      ]
    },
    {
      "cell_type": "code",
      "execution_count": null,
      "metadata": {
        "colab": {
          "base_uri": "https://localhost:8080/"
        },
        "id": "C3juWaFgVicn",
        "outputId": "bad5a191-1b89-4564-ac3c-8665058311af"
      },
      "outputs": [
        {
          "data": {
            "text/plain": [
              "PassengerId      0\n",
              "Survived         0\n",
              "Pclass           0\n",
              "Name             0\n",
              "Sex              0\n",
              "Age            177\n",
              "SibSp            0\n",
              "Parch            0\n",
              "Ticket           0\n",
              "Fare             0\n",
              "Cabin          687\n",
              "Embarked         2\n",
              "dtype: int64"
            ]
          },
          "execution_count": 9,
          "metadata": {},
          "output_type": "execute_result"
        }
      ],
      "source": [
        "train_df.isnull().sum()"
      ]
    },
    {
      "cell_type": "code",
      "execution_count": null,
      "metadata": {
        "colab": {
          "base_uri": "https://localhost:8080/"
        },
        "id": "SdoeUbLhVmqz",
        "outputId": "394c9655-e4e8-472f-c762-bbf26e7bbd77"
      },
      "outputs": [
        {
          "data": {
            "text/plain": [
              "Index(['PassengerId', 'Survived', 'Pclass', 'Name', 'Sex', 'Age', 'SibSp',\n",
              "       'Parch', 'Ticket', 'Fare', 'Cabin', 'Embarked'],\n",
              "      dtype='object')"
            ]
          },
          "execution_count": 10,
          "metadata": {},
          "output_type": "execute_result"
        }
      ],
      "source": [
        "train_df.columns"
      ]
    },
    {
      "cell_type": "code",
      "execution_count": null,
      "metadata": {
        "id": "sakNnvOzVwOa"
      },
      "outputs": [],
      "source": [
        "view_cols = ['Pclass', 'Sex', 'Age', 'SibSp',\n",
        "       'Parch', 'Fare', 'Embarked']"
      ]
    },
    {
      "cell_type": "markdown",
      "metadata": {
        "id": "dkW1G1royBLW"
      },
      "source": [
        "\n",
        "#### Pclass</br>\n",
        ": 등급이 높을수록 생존률이 높다.\n",
        "</br></br>\n",
        "\n",
        "#### Sex</br>\n",
        ": 여성의 생존률이 압도적으로 높다.\n",
        "</br></br>\n",
        "\n",
        "#### Age</br>\n",
        ": 10세이하, 77~78세 이상일 경우 생존률이 높다.\n",
        "</br></br>\n",
        "\n",
        "#### SipSp</br>\n",
        ": 가족의 동행자가 1명일 경우가 생존률이 가장 높다.\n",
        "</br></br>\n",
        "\n",
        "#### Parch</br>\n",
        ": 동승한 부모 혹은 자식 수 1~3의 비슷한 수준의 생존률을 보여주었다.\n",
        "</br></br>\n",
        "\n",
        "#### Fare</br>\n",
        ": 요금 단위의 100 이하에 사망자들이 몰려있는 것으로 보인다.\n",
        "</br></br>\n",
        "\n",
        "#### Embarked</br>\n",
        ": C 항구에서 탑승한 승객의 생존률이 높다.\n"
      ]
    },
    {
      "cell_type": "code",
      "execution_count": null,
      "metadata": {
        "colab": {
          "base_uri": "https://localhost:8080/",
          "height": 692
        },
        "id": "oN0C2doUV5_m",
        "outputId": "00949b1b-b1f1-4831-917d-f2a793236515"
      },
      "outputs": [
        {
          "output_type": "display_data",
          "data": {
            "text/plain": [
              "<Figure size 1080x720 with 8 Axes>"
            ],
            "image/png": "[encoded data removed]"
          },
          "metadata": {}
        }
      ],
      "source": [
        "fig, axes = plt.subplots(4,2)\n",
        "for idx, col in enumerate(view_cols):\n",
        "  ax = axes[idx//2, idx%2]\n",
        "  target_df = train_df[[col, 'Survived']]\n",
        "  if col in ['Pclass', 'SibSp', 'Parch']:\n",
        "    target_df[col] = target_df[col].astype(str)\n",
        "    target_df.sort_values(col, inplace=True)\n",
        "  sns.histplot(data = target_df, x = col, label=col, hue = 'Survived', ax = ax, multiple='fill')\n",
        "  ax.set_title(col+\"'s HistPlot\")\n",
        "\n",
        "plt.tight_layout()\n",
        "plt.show()"
      ]
    },
    {
      "cell_type": "code",
      "execution_count": null,
      "metadata": {
        "id": "EK_iAiIdWvI6"
      },
      "outputs": [],
      "source": [
        "categorical_cols = ['Name', 'Ticket', 'Cabin']"
      ]
    },
    {
      "cell_type": "code",
      "execution_count": null,
      "metadata": {
        "colab": {
          "base_uri": "https://localhost:8080/"
        },
        "id": "AGc5evHGX8Wu",
        "outputId": "df7fdf11-4522-4e3b-cda4-37d5b427826f"
      },
      "outputs": [
        {
          "output_type": "execute_result",
          "data": {
            "text/plain": [
              "0                                Braund, Mr. Owen Harris\n",
              "1      Cumings, Mrs. John Bradley (Florence Briggs Th...\n",
              "2                                 Heikkinen, Miss. Laina\n",
              "3           Futrelle, Mrs. Jacques Heath (Lily May Peel)\n",
              "4                               Allen, Mr. William Henry\n",
              "                             ...                        \n",
              "886                                Montvila, Rev. Juozas\n",
              "887                         Graham, Miss. Margaret Edith\n",
              "888             Johnston, Miss. Catherine Helen \"Carrie\"\n",
              "889                                Behr, Mr. Karl Howell\n",
              "890                                  Dooley, Mr. Patrick\n",
              "Name: Name, Length: 891, dtype: object"
            ]
          },
          "metadata": {},
          "execution_count": 9
        }
      ],
      "source": [
        "train_df['Name']"
      ]
    },
    {
      "cell_type": "code",
      "execution_count": null,
      "metadata": {
        "id": "TzUDULMGX_wy"
      },
      "outputs": [],
      "source": [
        "# Mr., Mrs., Miss, Unknown 4가지로 분류 후 시각화\n",
        "\n",
        "def containString(value):\n",
        "  if 'Mrs' in value:\n",
        "    return 'Mrs'\n",
        "  elif 'Miss' in value:\n",
        "    return 'Miss'\n",
        "  elif 'Mr' in value:\n",
        "    return 'Mr'\n",
        "  else:\n",
        "    return 'Unknown'\n",
        "\n",
        "train_df['NameDiv'] = train_df['Name'].apply(containString)\n"
      ]
    },
    {
      "cell_type": "code",
      "execution_count": null,
      "metadata": {
        "colab": {
          "base_uri": "https://localhost:8080/"
        },
        "id": "trHHGz8dcjZ4",
        "outputId": "5ac8da30-58e0-4e87-bbd2-8c8aadb71b37"
      },
      "outputs": [
        {
          "output_type": "execute_result",
          "data": {
            "text/plain": [
              "Mr         518\n",
              "Miss       180\n",
              "Mrs        129\n",
              "Unknown     64\n",
              "Name: NameDiv, dtype: int64"
            ]
          },
          "metadata": {},
          "execution_count": 58
        }
      ],
      "source": [
        "train_df['NameDiv'].value_counts()"
      ]
    },
    {
      "cell_type": "markdown",
      "metadata": {
        "id": "SDUq2-p-yBLh"
      },
      "source": [
        "#### Name</br>\n",
        ": 다양한 이름을 분류하기 위해 Mr, Miss, Mrs, 그 외 4가지로 분류 진행.</br>\n",
        "Mr : 518, \n",
        "Miss : 180,\n",
        "Mrs : 129,\n",
        "Unknown : 64으로 분류 됐다.</br>\n",
        "Mr(남성)의 생존률이 굉장히 낮았다. 여성의 경우 Mrs일 경우 생존률이 더 높았다.\n"
      ]
    },
    {
      "cell_type": "code",
      "execution_count": null,
      "metadata": {
        "colab": {
          "base_uri": "https://localhost:8080/",
          "height": 441
        },
        "id": "tXpCRjtwY2YH",
        "outputId": "b3ec433f-8752-40d0-ddbf-1c3a0e002a43"
      },
      "outputs": [
        {
          "output_type": "display_data",
          "data": {
            "text/plain": [
              "<Figure size 576x432 with 1 Axes>"
            ],
            "image/png": "[encoded data removed]"
          },
          "metadata": {}
        }
      ],
      "source": [
        "plt.figure(figsize=(8,6))\n",
        "sns.histplot(data = train_df , x= 'NameDiv', hue = 'Survived', label='NameDiv', multiple='fill')\n",
        "plt.title(\"NameDiv's HistPlot\")\n",
        "plt.tight_layout()\n",
        "plt.show()"
      ]
    },
    {
      "cell_type": "code",
      "execution_count": null,
      "metadata": {
        "colab": {
          "base_uri": "https://localhost:8080/"
        },
        "id": "lzN7QOn0Y3VO",
        "outputId": "7d0662c8-88c5-4d6e-b0a1-42197ec5e578"
      },
      "outputs": [
        {
          "output_type": "execute_result",
          "data": {
            "text/plain": [
              "0             A/5 21171\n",
              "1              PC 17599\n",
              "2      STON/O2. 3101282\n",
              "3                113803\n",
              "4                373450\n",
              "             ...       \n",
              "886              211536\n",
              "887              112053\n",
              "888          W./C. 6607\n",
              "889              111369\n",
              "890              370376\n",
              "Name: Ticket, Length: 891, dtype: object"
            ]
          },
          "metadata": {},
          "execution_count": 13
        }
      ],
      "source": [
        "# 티켓\n",
        "train_df['Ticket']"
      ]
    },
    {
      "cell_type": "code",
      "execution_count": null,
      "metadata": {
        "id": "G5CI_vdQZwQk"
      },
      "outputs": [],
      "source": [
        "# 숫자라벨만 있는 티켓과 없는 티켓?\n",
        "import re\n",
        "\n",
        "def divTicket(value):\n",
        "  if re.search('[a-zA-z]*', value).group(0):\n",
        "    return 'Mixed'\n",
        "  else:\n",
        "    return 'Number'\n"
      ]
    },
    {
      "cell_type": "code",
      "execution_count": null,
      "metadata": {
        "id": "lGDgE6-Gc-u6"
      },
      "outputs": [],
      "source": [
        "train_df['divTicket'] = train_df['Ticket'].apply(divTicket)"
      ]
    },
    {
      "cell_type": "code",
      "execution_count": null,
      "metadata": {
        "colab": {
          "base_uri": "https://localhost:8080/"
        },
        "id": "otevs8cWeoCr",
        "outputId": "06d6d6d2-3cf4-45f5-8a7c-2f412a1e567b"
      },
      "outputs": [
        {
          "output_type": "execute_result",
          "data": {
            "text/plain": [
              "Number    661\n",
              "Mixed     230\n",
              "Name: divTicket, dtype: int64"
            ]
          },
          "metadata": {},
          "execution_count": 16
        }
      ],
      "source": [
        "train_df['divTicket'].value_counts()"
      ]
    },
    {
      "cell_type": "markdown",
      "metadata": {
        "id": "3OSPDXqyyBLk"
      },
      "source": [
        "\n",
        "#### Ticket</br>\n",
        ": 티켓에 대한 분류 방법이 보이지 않아 숫자만 있는 티켓과 혼합된 티켓으로 분류.</br>\n",
        "Number : 661, \n",
        "Mixed : 230</br>\n",
        "티켓이 생존 구분하는데 영향을 줄 수 있는지 알 수 없었다. 다른 분류 방법이 있는지 찾아봐야할 듯.\n"
      ]
    },
    {
      "cell_type": "code",
      "execution_count": null,
      "metadata": {
        "colab": {
          "base_uri": "https://localhost:8080/",
          "height": 441
        },
        "id": "mv7g0tPXehXp",
        "outputId": "92f33600-a7f7-4f26-e596-61a807ac3557"
      },
      "outputs": [
        {
          "output_type": "display_data",
          "data": {
            "text/plain": [
              "<Figure size 576x432 with 1 Axes>"
            ],
            "image/png": "[encoded data removed]"
          },
          "metadata": {}
        }
      ],
      "source": [
        "plt.figure(figsize=(8,6))\n",
        "sns.histplot(data = train_df , x= 'divTicket', hue = 'Survived', label='divTicket', multiple='fill')\n",
        "plt.title(\"divTicket's HistPlot\")\n",
        "plt.tight_layout()\n",
        "plt.show()"
      ]
    },
    {
      "cell_type": "code",
      "execution_count": null,
      "metadata": {
        "colab": {
          "base_uri": "https://localhost:8080/"
        },
        "id": "HMNQZTCxelIu",
        "outputId": "e18721b3-635e-4f8d-d8e6-050434296746"
      },
      "outputs": [
        {
          "output_type": "execute_result",
          "data": {
            "text/plain": [
              "B96 B98        4\n",
              "G6             4\n",
              "C23 C25 C27    4\n",
              "C22 C26        3\n",
              "F33            3\n",
              "              ..\n",
              "E34            1\n",
              "C7             1\n",
              "C54            1\n",
              "E36            1\n",
              "C148           1\n",
              "Name: Cabin, Length: 147, dtype: int64"
            ]
          },
          "metadata": {},
          "execution_count": 18
        }
      ],
      "source": [
        "train_df['Cabin'].value_counts()"
      ]
    },
    {
      "cell_type": "code",
      "execution_count": null,
      "metadata": {
        "id": "8FZRL4iXevtf"
      },
      "outputs": [],
      "source": [
        "# 첫번째 알파벳 기준으로 객실 구분해보기 숫자만 있으면 None\n",
        "\n",
        "def divCabin(value):\n",
        "  try:\n",
        "    if re.search('^[A-z]*', value).group(0):\n",
        "      return str(re.search('^[A-z]*', value).group(0))\n",
        "    else:\n",
        "      return 'None'\n",
        "  except:\n",
        "    return 'None'"
      ]
    },
    {
      "cell_type": "code",
      "execution_count": null,
      "metadata": {
        "id": "RLuGMQEOfKWM"
      },
      "outputs": [],
      "source": [
        "train_df['divCabin'] = train_df['Cabin'].apply(divCabin)"
      ]
    },
    {
      "cell_type": "code",
      "execution_count": null,
      "metadata": {
        "colab": {
          "base_uri": "https://localhost:8080/"
        },
        "id": "sjSd5afzfRHB",
        "outputId": "30801952-61bd-48f1-dc0d-5798902bf2d2"
      },
      "outputs": [
        {
          "output_type": "execute_result",
          "data": {
            "text/plain": [
              "None    687\n",
              "C        59\n",
              "B        47\n",
              "D        33\n",
              "E        32\n",
              "A        15\n",
              "F        13\n",
              "G         4\n",
              "T         1\n",
              "Name: divCabin, dtype: int64"
            ]
          },
          "metadata": {},
          "execution_count": 21
        }
      ],
      "source": [
        "train_df['divCabin'].value_counts()"
      ]
    },
    {
      "cell_type": "markdown",
      "metadata": {
        "id": "JLZUEGkayBLl"
      },
      "source": [
        "\n",
        "#### Cabin</br>\n",
        ": 객실 데이터에서 시작이 알파벳으로 시작하는 것으로 분류</br>\n",
        "\n",
        "---\n",
        "None : 687,</br>\n",
        "C : 59,</br>\n",
        "B : 47,</br>\n",
        "D : 33,</br>\n",
        "E : 32,</br>\n",
        "A : 15,</br>\n",
        "F : 13,</br>\n",
        "G : 4,</br>\n",
        "T : 1</br>\n",
        "\n",
        "---\n",
        "\n",
        "알파벳으로 시작하지 않는 데이터가 많았다. 입석인가라는 생각이 들었지만 그렇게 처리하기에는 너무 많은량이라 고민해봐야할 듯.</br>\n",
        "이러한 점을 제외하고 데이터의 분포만 본다면 객실에 대한 정보가 있을 경우 생존률이 높다고 볼 수 있다.\n"
      ]
    },
    {
      "cell_type": "code",
      "execution_count": null,
      "metadata": {
        "colab": {
          "base_uri": "https://localhost:8080/",
          "height": 441
        },
        "id": "ZfWWTWEPfqZw",
        "outputId": "6f403451-72a0-451e-b922-928093e76a9d"
      },
      "outputs": [
        {
          "output_type": "display_data",
          "data": {
            "text/plain": [
              "<Figure size 576x432 with 1 Axes>"
            ],
            "image/png": "[encoded data removed]"
          },
          "metadata": {}
        }
      ],
      "source": [
        "plt.figure(figsize=(8,6))\n",
        "sns.histplot(data = train_df , x= 'divCabin', hue = 'Survived', label='divCabin', multiple='fill')\n",
        "plt.title(\"divCabin's HistPlot\")\n",
        "plt.tight_layout()\n",
        "plt.show()"
      ]
    },
    {
      "cell_type": "markdown",
      "metadata": {
        "id": "3vUkq1OkfvMn"
      },
      "source": [
        "## 모델 적용\n",
        "\n",
        "- 결측값이 있는 피처는 사용하지 않음.('Age', 'Fare')\n",
        "- 커스텀 분리 후 생존 예측에 의미있을것이라 추측한 'Cabin', 'Name'은 분류 피처로 사용"
      ]
    },
    {
      "cell_type": "code",
      "source": [
        "test_df['NameDiv'] = test_df['Name'].apply(containString)\n",
        "test_df['divCabin'] = test_df['Cabin'].apply(divCabin)"
      ],
      "metadata": {
        "id": "xO87jjFK5IFS"
      },
      "execution_count": null,
      "outputs": []
    },
    {
      "cell_type": "code",
      "source": [
        "drop_cols = ['PassengerId', 'Ticket', 'Cabin', 'Name', 'Age', 'Fare', 'divTicket']\n",
        "train_df_modify = train_df.drop(drop_cols, axis=1)\n",
        "\n",
        "test_df_modify = test_df.drop(drop_cols[:-1], axis=1)\n"
      ],
      "metadata": {
        "id": "Q6w5q-IR16uF"
      },
      "execution_count": null,
      "outputs": []
    },
    {
      "cell_type": "code",
      "source": [
        "from sklearn.preprocessing import LabelEncoder\n",
        "\n",
        "label_col = ['Sex', 'NameDiv', 'divCabin','Embarked']\n",
        "les = []\n",
        "\n",
        "for col in label_col:\n",
        "  le = LabelEncoder()\n",
        "  train_df_modify[col] = le.fit_transform(train_df_modify[col])\n",
        "  test_df_modify[col] = le.transform(test_df_modify[col])\n",
        "  les.append(le)"
      ],
      "metadata": {
        "id": "gvIhXOg50EnO"
      },
      "execution_count": null,
      "outputs": []
    },
    {
      "cell_type": "code",
      "execution_count": null,
      "metadata": {
        "id": "pPh9LiVOjggs"
      },
      "outputs": [],
      "source": [
        "from sklearn.tree import DecisionTreeClassifier\n",
        "from sklearn.ensemble import RandomForestClassifier\n",
        "from sklearn.linear_model import LogisticRegression\n",
        "from xgboost import XGBClassifier\n",
        "\n",
        "from sklearn.model_selection import train_test_split\n",
        "\n",
        "X = train_df_modify.drop('Survived', axis=1)\n",
        "y = train_df_modify['Survived']\n",
        "\n",
        "X_train, X_test, y_train, y_test = train_test_split(X, y, test_size=0.2, random_state=52)\n",
        "\n",
        "tree = DecisionTreeClassifier()\n",
        "rf = RandomForestClassifier()\n",
        "xgb = XGBClassifier()\n",
        "logi = LogisticRegression()"
      ]
    },
    {
      "cell_type": "code",
      "execution_count": null,
      "metadata": {
        "id": "a0Odj_AzyBLm"
      },
      "outputs": [],
      "source": [
        "tree.fit(X_train, y_train)\n",
        "rf.fit(X_train, y_train)\n",
        "xgb.fit(X_train, y_train)\n",
        "logi.fit(X_train, y_train)\n",
        "\n",
        "tree_pred = tree.predict(test_df_modify)\n",
        "rf_pred = rf.predict(test_df_modify)\n",
        "xgb_pred = xgb.predict(test_df_modify)\n",
        "logi_pred = logi.predict(test_df_modify)"
      ]
    },
    {
      "cell_type": "code",
      "source": [
        "from sklearn.metrics import accuracy_score\n",
        "\n",
        "print(\"DecisionTree : {:.2f}%\" .format(tree.score(X_test, y_test)*100))\n",
        "print(\"RandomForest : {:.2f}%\" .format(rf.score(X_test, y_test)*100))\n",
        "print(\"XGBoost : {:.2f}%\" .format(xgb.score(X_test, y_test)*100))\n",
        "print(\"Logisitc : {:.2f}%\" .format(logi.score(X_test, y_test)*100))"
      ],
      "metadata": {
        "colab": {
          "base_uri": "https://localhost:8080/"
        },
        "id": "dKX1ov5P0Aq4",
        "outputId": "72e2cd93-7c8d-4f8e-fe68-a01f94c736f5"
      },
      "execution_count": null,
      "outputs": [
        {
          "output_type": "stream",
          "name": "stdout",
          "text": [
            "DecisionTree : 81.56%\n",
            "RandomForest : 83.80%\n",
            "XGBoost : 82.12%\n",
            "Logisitc : 80.45%\n"
          ]
        }
      ]
    },
    {
      "cell_type": "code",
      "source": [
        "submission = pd.read_csv('/content/drive/MyDrive/ds_study/ML/02.titanic/submission.csv')"
      ],
      "metadata": {
        "id": "bNxkis8t4fnh"
      },
      "execution_count": null,
      "outputs": []
    },
    {
      "cell_type": "code",
      "source": [
        "submission['Survived'] = rf_pred"
      ],
      "metadata": {
        "id": "uVyjBwJX8S1k"
      },
      "execution_count": null,
      "outputs": []
    },
    {
      "cell_type": "code",
      "source": [
        "submission.to_csv('/content/drive/MyDrive/ds_study/ML/02.titanic/submission.csv', index=False)"
      ],
      "metadata": {
        "id": "jLmj6J1a8fhT"
      },
      "execution_count": null,
      "outputs": []
    },
    {
      "cell_type": "markdown",
      "source": [
        "## 정확도 약 72%\n",
        "\n",
        "![img](data:image/png;base64,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)"
      ],
      "metadata": {
        "id": "KfxMSSoA9CuT"
      }
    },
    {
      "cell_type": "markdown",
      "source": [
        "### 다시 전처리\n",
        "\n",
        "- 전처리 해볼만한 사항\n",
        "  - 이름\n",
        "    - 4가지(Mr, Mrs, Miss, None)보다 더 세분화 분류가 가능한가?\n",
        "  - 나이\n",
        "    - 나이 피처를 사용하기 위해 대체값은 어떻게?\n",
        "      - 평균, 최빈값, 이름 피처로 추측\n",
        "  - 요금\n",
        "    - 요금 피처를 사용하기 위한 대체값은 어떻게?\n",
        "      - 그룹 최빈값?, 평균?\n",
        "      \n"
      ],
      "metadata": {
        "id": "f5iAnjC932WJ"
      }
    },
    {
      "cell_type": "code",
      "source": [
        "train_df.head()"
      ],
      "metadata": {
        "colab": {
          "base_uri": "https://localhost:8080/",
          "height": 302
        },
        "id": "OaU0F3EK-QKQ",
        "outputId": "22038a2e-089b-477f-f060-a2706282fe99"
      },
      "execution_count": null,
      "outputs": [
        {
          "output_type": "execute_result",
          "data": {
            "text/plain": [
              "   PassengerId  Survived  Pclass  \\\n",
              "0            1         0       3   \n",
              "1            2         1       1   \n",
              "2            3         1       3   \n",
              "3            4         1       1   \n",
              "4            5         0       3   \n",
              "\n",
              "                                                Name     Sex   Age  SibSp  \\\n",
              "0                            Braund, Mr. Owen Harris    male  22.0      1   \n",
              "1  Cumings, Mrs. John Bradley (Florence Briggs Th...  female  38.0      1   \n",
              "2                             Heikkinen, Miss. Laina  female  26.0      0   \n",
              "3       Futrelle, Mrs. Jacques Heath (Lily May Peel)  female  35.0      1   \n",
              "4                           Allen, Mr. William Henry    male  35.0      0   \n",
              "\n",
              "   Parch            Ticket     Fare Cabin Embarked  \n",
              "0      0         A/5 21171   7.2500   NaN        S  \n",
              "1      0          PC 17599  71.2833   C85        C  \n",
              "2      0  STON/O2. 3101282   7.9250   NaN        S  \n",
              "3      0            113803  53.1000  C123        S  \n",
              "4      0            373450   8.0500   NaN        S  "
            ],
            "text/html": [
              "\n",
              "  <div id=\"df-0b765975-07bb-4c9b-a72d-d901c916b59e\">\n",
              "    <div class=\"colab-df-container\">\n",
              "      <div>\n",
              "<style scoped>\n",
              "    .dataframe tbody tr th:only-of-type {\n",
              "        vertical-align: middle;\n",
              "    }\n",
              "\n",
              "    .dataframe tbody tr th {\n",
              "        vertical-align: top;\n",
              "    }\n",
              "\n",
              "    .dataframe thead th {\n",
              "        text-align: right;\n",
              "    }\n",
              "</style>\n",
              "<table border=\"1\" class=\"dataframe\">\n",
              "  <thead>\n",
              "    <tr style=\"text-align: right;\">\n",
              "      <th></th>\n",
              "      <th>PassengerId</th>\n",
              "      <th>Survived</th>\n",
              "      <th>Pclass</th>\n",
              "      <th>Name</th>\n",
              "      <th>Sex</th>\n",
              "      <th>Age</th>\n",
              "      <th>SibSp</th>\n",
              "      <th>Parch</th>\n",
              "      <th>Ticket</th>\n",
              "      <th>Fare</th>\n",
              "      <th>Cabin</th>\n",
              "      <th>Embarked</th>\n",
              "    </tr>\n",
              "  </thead>\n",
              "  <tbody>\n",
              "    <tr>\n",
              "      <th>0</th>\n",
              "      <td>1</td>\n",
              "      <td>0</td>\n",
              "      <td>3</td>\n",
              "      <td>Braund, Mr. Owen Harris</td>\n",
              "      <td>male</td>\n",
              "      <td>22.0</td>\n",
              "      <td>1</td>\n",
              "      <td>0</td>\n",
              "      <td>A/5 21171</td>\n",
              "      <td>7.2500</td>\n",
              "      <td>NaN</td>\n",
              "      <td>S</td>\n",
              "    </tr>\n",
              "    <tr>\n",
              "      <th>1</th>\n",
              "      <td>2</td>\n",
              "      <td>1</td>\n",
              "      <td>1</td>\n",
              "      <td>Cumings, Mrs. John Bradley (Florence Briggs Th...</td>\n",
              "      <td>female</td>\n",
              "      <td>38.0</td>\n",
              "      <td>1</td>\n",
              "      <td>0</td>\n",
              "      <td>PC 17599</td>\n",
              "      <td>71.2833</td>\n",
              "      <td>C85</td>\n",
              "      <td>C</td>\n",
              "    </tr>\n",
              "    <tr>\n",
              "      <th>2</th>\n",
              "      <td>3</td>\n",
              "      <td>1</td>\n",
              "      <td>3</td>\n",
              "      <td>Heikkinen, Miss. Laina</td>\n",
              "      <td>female</td>\n",
              "      <td>26.0</td>\n",
              "      <td>0</td>\n",
              "      <td>0</td>\n",
              "      <td>STON/O2. 3101282</td>\n",
              "      <td>7.9250</td>\n",
              "      <td>NaN</td>\n",
              "      <td>S</td>\n",
              "    </tr>\n",
              "    <tr>\n",
              "      <th>3</th>\n",
              "      <td>4</td>\n",
              "      <td>1</td>\n",
              "      <td>1</td>\n",
              "      <td>Futrelle, Mrs. Jacques Heath (Lily May Peel)</td>\n",
              "      <td>female</td>\n",
              "      <td>35.0</td>\n",
              "      <td>1</td>\n",
              "      <td>0</td>\n",
              "      <td>113803</td>\n",
              "      <td>53.1000</td>\n",
              "      <td>C123</td>\n",
              "      <td>S</td>\n",
              "    </tr>\n",
              "    <tr>\n",
              "      <th>4</th>\n",
              "      <td>5</td>\n",
              "      <td>0</td>\n",
              "      <td>3</td>\n",
              "      <td>Allen, Mr. William Henry</td>\n",
              "      <td>male</td>\n",
              "      <td>35.0</td>\n",
              "      <td>0</td>\n",
              "      <td>0</td>\n",
              "      <td>373450</td>\n",
              "      <td>8.0500</td>\n",
              "      <td>NaN</td>\n",
              "      <td>S</td>\n",
              "    </tr>\n",
              "  </tbody>\n",
              "</table>\n",
              "</div>\n",
              "      <button class=\"colab-df-convert\" onclick=\"convertToInteractive('df-0b765975-07bb-4c9b-a72d-d901c916b59e')\"\n",
              "              title=\"Convert this dataframe to an interactive table.\"\n",
              "              style=\"display:none;\">\n",
              "        \n",
              "  <svg xmlns=\"http://www.w3.org/2000/svg\" height=\"24px\"viewBox=\"0 0 24 24\"\n",
              "       width=\"24px\">\n",
              "    <path d=\"M0 0h24v24H0V0z\" fill=\"none\"/>\n",
              "    <path d=\"M18.56 5.44l.94 2.06.94-2.06 2.06-.94-2.06-.94-.94-2.06-.94 2.06-2.06.94zm-11 1L8.5 8.5l.94-2.06 2.06-.94-2.06-.94L8.5 2.5l-.94 2.06-2.06.94zm10 10l.94 2.06.94-2.06 2.06-.94-2.06-.94-.94-2.06-.94 2.06-2.06.94z\"/><path d=\"M17.41 7.96l-1.37-1.37c-.4-.4-.92-.59-1.43-.59-.52 0-1.04.2-1.43.59L10.3 9.45l-7.72 7.72c-.78.78-.78 2.05 0 2.83L4 21.41c.39.39.9.59 1.41.59.51 0 1.02-.2 1.41-.59l7.78-7.78 2.81-2.81c.8-.78.8-2.07 0-2.86zM5.41 20L4 18.59l7.72-7.72 1.47 1.35L5.41 20z\"/>\n",
              "  </svg>\n",
              "      </button>\n",
              "      \n",
              "  <style>\n",
              "    .colab-df-container {\n",
              "      display:flex;\n",
              "      flex-wrap:wrap;\n",
              "      gap: 12px;\n",
              "    }\n",
              "\n",
              "    .colab-df-convert {\n",
              "      background-color: #E8F0FE;\n",
              "      border: none;\n",
              "      border-radius: 50%;\n",
              "      cursor: pointer;\n",
              "      display: none;\n",
              "      fill: #1967D2;\n",
              "      height: 32px;\n",
              "      padding: 0 0 0 0;\n",
              "      width: 32px;\n",
              "    }\n",
              "\n",
              "    .colab-df-convert:hover {\n",
              "      background-color: #E2EBFA;\n",
              "      box-shadow: 0px 1px 2px rgba(60, 64, 67, 0.3), 0px 1px 3px 1px rgba(60, 64, 67, 0.15);\n",
              "      fill: #174EA6;\n",
              "    }\n",
              "\n",
              "    [theme=dark] .colab-df-convert {\n",
              "      background-color: #3B4455;\n",
              "      fill: #D2E3FC;\n",
              "    }\n",
              "\n",
              "    [theme=dark] .colab-df-convert:hover {\n",
              "      background-color: #434B5C;\n",
              "      box-shadow: 0px 1px 3px 1px rgba(0, 0, 0, 0.15);\n",
              "      filter: drop-shadow(0px 1px 2px rgba(0, 0, 0, 0.3));\n",
              "      fill: #FFFFFF;\n",
              "    }\n",
              "  </style>\n",
              "\n",
              "      <script>\n",
              "        const buttonEl =\n",
              "          document.querySelector('#df-0b765975-07bb-4c9b-a72d-d901c916b59e button.colab-df-convert');\n",
              "        buttonEl.style.display =\n",
              "          google.colab.kernel.accessAllowed ? 'block' : 'none';\n",
              "\n",
              "        async function convertToInteractive(key) {\n",
              "          const element = document.querySelector('#df-0b765975-07bb-4c9b-a72d-d901c916b59e');\n",
              "          const dataTable =\n",
              "            await google.colab.kernel.invokeFunction('convertToInteractive',\n",
              "                                                     [key], {});\n",
              "          if (!dataTable) return;\n",
              "\n",
              "          const docLinkHtml = 'Like what you see? Visit the ' +\n",
              "            '<a target=\"_blank\" href=https://colab.research.google.com/notebooks/data_table.ipynb>data table notebook</a>'\n",
              "            + ' to learn more about interactive tables.';\n",
              "          element.innerHTML = '';\n",
              "          dataTable['output_type'] = 'display_data';\n",
              "          await google.colab.output.renderOutput(dataTable, element);\n",
              "          const docLink = document.createElement('div');\n",
              "          docLink.innerHTML = docLinkHtml;\n",
              "          element.appendChild(docLink);\n",
              "        }\n",
              "      </script>\n",
              "    </div>\n",
              "  </div>\n",
              "  "
            ]
          },
          "metadata": {},
          "execution_count": 187
        }
      ]
    },
    {
      "cell_type": "markdown",
      "source": [
        "#### 별칭 부분의 끝이 모두 '.'으로 끝나 이부분만 추출해보기로함"
      ],
      "metadata": {
        "id": "PecgrcaS-7Qj"
      }
    },
    {
      "cell_type": "code",
      "source": [
        "import re \n",
        "\n",
        "def divName(value):\n",
        "  return re.search('([A-Za-z]*[.]+)', value).group(1)[:-1]"
      ],
      "metadata": {
        "id": "70FUKBHL_NhJ"
      },
      "execution_count": 11,
      "outputs": []
    },
    {
      "cell_type": "code",
      "source": [
        "train_df_modify = train_df.copy()\n",
        "test2_df = test_df.copy()\n",
        "\n",
        "train_df_modify['divName'] = train_df_modify['Name'].apply(divName)\n",
        "test2_df['divName'] = test2_df['Name'].apply(divName)"
      ],
      "metadata": {
        "id": "A5jRABEG_bH9"
      },
      "execution_count": null,
      "outputs": []
    },
    {
      "cell_type": "code",
      "source": [
        "train_df_modify['divName'].unique()"
      ],
      "metadata": {
        "colab": {
          "base_uri": "https://localhost:8080/"
        },
        "id": "627qHDEY_5ld",
        "outputId": "dd5277a8-5dea-4ae0-9e3e-e6cdc684c586"
      },
      "execution_count": null,
      "outputs": [
        {
          "output_type": "execute_result",
          "data": {
            "text/plain": [
              "array(['Mr', 'Mrs', 'Miss', 'Master', 'Don', 'Rev', 'Dr', 'Mme', 'Ms',\n",
              "       'Major', 'Lady', 'Sir', 'Mlle', 'Col', 'Capt', 'Countess',\n",
              "       'Jonkheer'], dtype=object)"
            ]
          },
          "metadata": {},
          "execution_count": 430
        }
      ]
    },
    {
      "cell_type": "markdown",
      "source": [
        "### 별칭 분류 \n",
        "- 분류가 너무 큰 범주로 이뤄져 있었음. 새롭게 별칭을 분류\n",
        "\n",
        "- Mr, Mrs, Master, Miss\n",
        "  - Mr(성인 남자), Mrs(성인 여자)\n",
        "  - Master(어린 남자), Miss(어린 여자)\n",
        "\n",
        "- 그 외\n",
        "  - 'Ms'는 20 ~ 40대 여성을 부르긴 하지만 20 ~ 30대에게 주로 사용한 다는 점에서 Miss로 사용\n",
        "  - 'Mme'는 프랑스에서 마담을 부르는 별칭으로 'Mrs'로 대체\n",
        "  - 'Major'는 법적으로 성년을 나타내는 의미. 남자는 Master, 여자는 Miss로 대체\n",
        "  - 'Lady' 젊은 여성을 부른는 말로 'Miss'로 대체\n",
        "  - 'Sir'는 남성을 존경하는 의미 높임말로 Mr로 대체\n",
        "  - 'Mlle'는 프랑스에서 어른 남자아이를 부르는 말로 'Master'로 대체\n",
        "\n",
        "- 이 조건에 포함되지 않는 별칭은 구분이 불가능하므로 Unkown 사용\n"
      ],
      "metadata": {
        "id": "qB_BW2Wx_6pr"
      }
    },
    {
      "cell_type": "code",
      "source": [
        "# Mr., Mrs., Miss, Unknown 4가지로 분류 후 시각화\n",
        "\n",
        "def divName_keyword1(value):\n",
        "  if 'Mrs' in value:\n",
        "    return 'Mrs'\n",
        "  elif 'Miss' in value:\n",
        "    return 'Miss'\n",
        "  elif 'Mr' in value:\n",
        "    return 'Mr'\n",
        "  else:\n",
        "    return 'Unknown'\n",
        "\n",
        "\n",
        "def divName_keyword2(name, sex):\n",
        "  \n",
        "  text_Mr = ['Mr', 'Sir']\n",
        "  text_Mrs = ['Mrs', 'Mme']\n",
        "  text_Master = ['Master', 'Mlle']\n",
        "  text_Miss = ['Miss', 'Lady', 'Ms']\n",
        "\n",
        "  if name in text_Mr:\n",
        "    return 'Mr'\n",
        "\n",
        "  elif name in text_Mrs:\n",
        "    return 'Mrs'\n",
        "  \n",
        "  elif name in text_Master:\n",
        "    return 'Master'\n",
        "    \n",
        "  elif name in text_Miss:\n",
        "    return 'Miss'\n",
        "  \n",
        "  elif name == 'Major':\n",
        "    if sex == 'male':\n",
        "      return 'Master'\n",
        "    else:\n",
        "      return 'Miss'\n",
        "\n",
        "  else:\n",
        "    return 'Unknown'\n",
        "    "
      ],
      "metadata": {
        "id": "TvQlIrl8EBtR"
      },
      "execution_count": null,
      "outputs": []
    },
    {
      "cell_type": "code",
      "source": [
        "train_df_modify['divName_keyword1'] = train_df_modify['Name'].apply(divName_keyword1)\n",
        "train_df_modify['divName_keyword2'] = train_df_modify.apply(lambda x : divName_keyword2(x['divName'], x['Sex']), axis=1)\n",
        "\n",
        "test2_df['divName_keyword1'] = test2_df['Name'].apply(divName_keyword1)\n",
        "test2_df['divName_keyword2'] = test2_df.apply(lambda x : divName_keyword2(x['divName'], x['Sex']), axis=1)"
      ],
      "metadata": {
        "id": "NbEsflB6FuGw"
      },
      "execution_count": null,
      "outputs": []
    },
    {
      "cell_type": "code",
      "source": [
        "train_df_modify['divName_keyword2'].value_counts()"
      ],
      "metadata": {
        "colab": {
          "base_uri": "https://localhost:8080/"
        },
        "id": "SjDQ-B9lF01B",
        "outputId": "cd0fcf0d-affa-478d-ad0c-e139f82c0109"
      },
      "execution_count": null,
      "outputs": [
        {
          "output_type": "execute_result",
          "data": {
            "text/plain": [
              "Mr         518\n",
              "Miss       184\n",
              "Mrs        126\n",
              "Master      44\n",
              "Unknown     19\n",
              "Name: divName_keyword2, dtype: int64"
            ]
          },
          "metadata": {},
          "execution_count": 433
        }
      ]
    },
    {
      "cell_type": "code",
      "source": [
        "fig, ax = plt.subplots(1,2)\n",
        "\n",
        "sns.histplot(data = train_df_modify , x= 'divName_keyword1', hue = 'Survived', label='divName1', multiple='fill', ax= ax[0])\n",
        "sns.histplot(data = train_df_modify , x= 'divName_keyword2', hue = 'Survived', label='divName2', multiple='fill', ax = ax[1])\n",
        "\n",
        "plt.title(\"divName2's HistPlot\")\n",
        "plt.tight_layout()\n",
        "plt.show()"
      ],
      "metadata": {
        "colab": {
          "base_uri": "https://localhost:8080/",
          "height": 692
        },
        "id": "VE7AcDVYF2nA",
        "outputId": "ac2ca485-15b3-4ca5-a522-31f3d8df3390"
      },
      "execution_count": null,
      "outputs": [
        {
          "output_type": "display_data",
          "data": {
            "text/plain": [
              "<Figure size 1080x720 with 2 Axes>"
            ],
            "image/png": "[encoded data removed]"
          },
          "metadata": {}
        }
      ]
    },
    {
      "cell_type": "markdown",
      "source": [
        "### 새로운 분류 후 비교\n",
        "- 성인 남자, 여자, 젊은 여성의 생존률에는 큰 변화가 없었음.\n",
        "- 50% 정도 되던 알 수 없는 생존자들의 대부분이 젊은 남성이었던 것으로 보임\n",
        "- 이전 분류보다 생존자 분류에 의미가 있어 보임.\n"
      ],
      "metadata": {
        "id": "Hueoao66HxNB"
      }
    },
    {
      "cell_type": "markdown",
      "source": [
        "#### 나이"
      ],
      "metadata": {
        "id": "ASyWCGqzMAjV"
      }
    },
    {
      "cell_type": "code",
      "source": [
        "sns.histplot(data= train_df_modify, x='Age', hue='Survived', multiple='fill')"
      ],
      "metadata": {
        "colab": {
          "base_uri": "https://localhost:8080/",
          "height": 631
        },
        "id": "fJGnf4HMMQ2r",
        "outputId": "d9239c98-e3b0-44bc-84c6-83054c7eabf9"
      },
      "execution_count": null,
      "outputs": [
        {
          "output_type": "execute_result",
          "data": {
            "text/plain": [
              "<AxesSubplot:xlabel='Age', ylabel='Count'>"
            ]
          },
          "metadata": {},
          "execution_count": 435
        },
        {
          "output_type": "display_data",
          "data": {
            "text/plain": [
              "<Figure size 1080x720 with 1 Axes>"
            ],
            "image/png": "[encoded data removed]"
          },
          "metadata": {}
        }
      ]
    },
    {
      "cell_type": "code",
      "source": [
        "train_df_modify['Age'].isnull().sum()"
      ],
      "metadata": {
        "colab": {
          "base_uri": "https://localhost:8080/"
        },
        "id": "Qy-PBhjTMScl",
        "outputId": "d1d280d7-b9d4-4f16-baa5-e3539c26dda6"
      },
      "execution_count": null,
      "outputs": [
        {
          "output_type": "execute_result",
          "data": {
            "text/plain": [
              "177"
            ]
          },
          "metadata": {},
          "execution_count": 436
        }
      ]
    },
    {
      "cell_type": "code",
      "source": [
        "test2_df['Age'].isnull().sum()"
      ],
      "metadata": {
        "colab": {
          "base_uri": "https://localhost:8080/"
        },
        "id": "xNI3Zl9WTEn7",
        "outputId": "ad0c650f-3b2a-4847-a849-147883437c5b"
      },
      "execution_count": null,
      "outputs": [
        {
          "output_type": "execute_result",
          "data": {
            "text/plain": [
              "86"
            ]
          },
          "metadata": {},
          "execution_count": 437
        }
      ]
    },
    {
      "cell_type": "code",
      "source": [
        "# 나이를 모르는 데이터 \n",
        "target = train_df_modify[train_df_modify['Age'].isnull()]\n",
        "\n",
        "for key in train_df_modify['divName_keyword2'].unique():\n",
        "  print(key, \" : \", len(target[target['divName_keyword2'] == key]))"
      ],
      "metadata": {
        "colab": {
          "base_uri": "https://localhost:8080/"
        },
        "id": "1rlh1SrKMbr7",
        "outputId": "b9c32dcc-0277-468d-ca2b-3b711eb29cd9"
      },
      "execution_count": null,
      "outputs": [
        {
          "output_type": "stream",
          "name": "stdout",
          "text": [
            "Mr  :  119\n",
            "Mrs  :  17\n",
            "Miss  :  36\n",
            "Master  :  4\n",
            "Unknown  :  1\n"
          ]
        }
      ]
    },
    {
      "cell_type": "code",
      "source": [
        "# 나이를 아는 데이터\n",
        "target = train_df_modify[~train_df_modify['Age'].isnull()]\n",
        "for key in train_df_modify['divName_keyword2'].unique():\n",
        "  print(key)\n",
        "  print(target[target['divName_keyword2'] == key]['Age'].describe())\n",
        "  print()"
      ],
      "metadata": {
        "colab": {
          "base_uri": "https://localhost:8080/"
        },
        "id": "JT8EsfY6MgE1",
        "outputId": "38c9d6c2-408b-4720-897a-60700a8f5714"
      },
      "execution_count": null,
      "outputs": [
        {
          "output_type": "stream",
          "name": "stdout",
          "text": [
            "Mr\n",
            "count    399.000000\n",
            "mean      32.409774\n",
            "std       12.720098\n",
            "min       11.000000\n",
            "25%       23.000000\n",
            "50%       30.000000\n",
            "75%       39.000000\n",
            "max       80.000000\n",
            "Name: Age, dtype: float64\n",
            "\n",
            "Mrs\n",
            "count    109.000000\n",
            "mean      35.788991\n",
            "std       11.437490\n",
            "min       14.000000\n",
            "25%       27.000000\n",
            "50%       35.000000\n",
            "75%       44.000000\n",
            "max       63.000000\n",
            "Name: Age, dtype: float64\n",
            "\n",
            "Miss\n",
            "count    148.000000\n",
            "mean      21.993243\n",
            "std       13.089921\n",
            "min        0.750000\n",
            "25%       14.375000\n",
            "50%       21.000000\n",
            "75%       30.000000\n",
            "max       63.000000\n",
            "Name: Age, dtype: float64\n",
            "\n",
            "Master\n",
            "count    40.000000\n",
            "mean      7.741750\n",
            "std      10.972532\n",
            "min       0.420000\n",
            "25%       1.750000\n",
            "50%       4.000000\n",
            "75%       9.000000\n",
            "max      52.000000\n",
            "Name: Age, dtype: float64\n",
            "\n",
            "Unknown\n",
            "count    18.000000\n",
            "mean     44.888889\n",
            "std      12.942810\n",
            "min      23.000000\n",
            "25%      34.250000\n",
            "50%      46.500000\n",
            "75%      54.000000\n",
            "max      70.000000\n",
            "Name: Age, dtype: float64\n",
            "\n"
          ]
        }
      ]
    },
    {
      "cell_type": "markdown",
      "source": [
        "- 별칭에 대한 분류가 완벽하지 않음이 보였음. 따라서 평균값보다는 중간값을 사용하는게 맞다고 판단함."
      ],
      "metadata": {
        "id": "uFuX8HdTN3oy"
      }
    },
    {
      "cell_type": "code",
      "source": [
        "for key in train_df_modify['divName_keyword2'].unique():\n",
        "  print(key)\n",
        "  print(target[target['divName_keyword2'] == key]['Age'].median())\n",
        "  print()"
      ],
      "metadata": {
        "colab": {
          "base_uri": "https://localhost:8080/"
        },
        "id": "idjdaycFNIY3",
        "outputId": "0e6b72e0-c0a1-4238-e52e-0d498bf7c698"
      },
      "execution_count": null,
      "outputs": [
        {
          "output_type": "stream",
          "name": "stdout",
          "text": [
            "Mr\n",
            "30.0\n",
            "\n",
            "Mrs\n",
            "35.0\n",
            "\n",
            "Miss\n",
            "21.0\n",
            "\n",
            "Master\n",
            "4.0\n",
            "\n",
            "Unknown\n",
            "46.5\n",
            "\n"
          ]
        }
      ]
    },
    {
      "cell_type": "code",
      "source": [
        "target = train_df_modify[train_df_modify['Age'].isnull()]\n",
        "target2 = test2_df[test2_df['Age'].isnull()]\n",
        "\n",
        "for key in train_df_modify['divName_keyword2'].unique():\n",
        "  modify_index = target[target['divName_keyword2'] == key].index\n",
        "  modify_index2 = target2[target2['divName_keyword2'] == key].index\n",
        "\n",
        "  if key =='Mr':\n",
        "    train_df_modify['Age'].loc[modify_index] = 30\n",
        "    test2_df['Age'].loc[modify_index2] = 30\n",
        "\n",
        "  elif key == 'Mrs':\n",
        "    train_df_modify['Age'].loc[modify_index] = 35\n",
        "    test2_df['Age'].loc[modify_index2] = 35\n",
        "  \n",
        "  elif key == 'Miss':\n",
        "    train_df_modify['Age'].loc[modify_index] = 21\n",
        "    test2_df['Age'].loc[modify_index2] = 21\n",
        "\n",
        "  elif key == 'Master':\n",
        "    train_df_modify['Age'].loc[modify_index] = 4\n",
        "    test2_df['Age'].loc[modify_index2] = 4\n",
        "\n",
        "  elif key == 'Unknown':\n",
        "    train_df_modify['Age'].loc[modify_index] = 46\n",
        "    test2_df['Age'].loc[modify_index2] = 46"
      ],
      "metadata": {
        "id": "tEaW1KFgN1u5"
      },
      "execution_count": null,
      "outputs": []
    },
    {
      "cell_type": "code",
      "source": [
        "train_df_modify['Age'].isnull().sum(), test2_df['Age'].isnull().sum() "
      ],
      "metadata": {
        "colab": {
          "base_uri": "https://localhost:8080/"
        },
        "id": "IRiS2YZtOoDU",
        "outputId": "9a4e4ac9-04b9-4b9b-8be2-091bc87bb929"
      },
      "execution_count": null,
      "outputs": [
        {
          "output_type": "execute_result",
          "data": {
            "text/plain": [
              "(0, 0)"
            ]
          },
          "metadata": {},
          "execution_count": 442
        }
      ]
    },
    {
      "cell_type": "code",
      "source": [
        "sns.histplot(data= train_df_modify, x='Age', hue='Survived', multiple='fill')"
      ],
      "metadata": {
        "colab": {
          "base_uri": "https://localhost:8080/",
          "height": 631
        },
        "id": "6CUKS1FqOqYS",
        "outputId": "86019a54-88e1-43f6-9b7a-419724c5549b"
      },
      "execution_count": null,
      "outputs": [
        {
          "output_type": "execute_result",
          "data": {
            "text/plain": [
              "<AxesSubplot:xlabel='Age', ylabel='Count'>"
            ]
          },
          "metadata": {},
          "execution_count": 443
        },
        {
          "output_type": "display_data",
          "data": {
            "text/plain": [
              "<Figure size 1080x720 with 1 Axes>"
            ],
            "image/png": "[encoded data removed]"
          },
          "metadata": {}
        }
      ]
    },
    {
      "cell_type": "code",
      "source": [
        "test_df[test_df['Fare'].isnull()]"
      ],
      "metadata": {
        "colab": {
          "base_uri": "https://localhost:8080/",
          "height": 49
        },
        "id": "a-4kvB75Ouq1",
        "outputId": "baf9b78c-f1f8-485d-f5ca-549de575052a"
      },
      "execution_count": null,
      "outputs": [
        {
          "output_type": "execute_result",
          "data": {
            "text/plain": [
              "Empty DataFrame\n",
              "Columns: [PassengerId, Pclass, Name, Sex, Age, SibSp, Parch, Ticket, Fare, Cabin, Embarked]\n",
              "Index: []"
            ],
            "text/html": [
              "\n",
              "  <div id=\"df-61d41a03-641c-4685-b0a7-362d12e112ce\">\n",
              "    <div class=\"colab-df-container\">\n",
              "      <div>\n",
              "<style scoped>\n",
              "    .dataframe tbody tr th:only-of-type {\n",
              "        vertical-align: middle;\n",
              "    }\n",
              "\n",
              "    .dataframe tbody tr th {\n",
              "        vertical-align: top;\n",
              "    }\n",
              "\n",
              "    .dataframe thead th {\n",
              "        text-align: right;\n",
              "    }\n",
              "</style>\n",
              "<table border=\"1\" class=\"dataframe\">\n",
              "  <thead>\n",
              "    <tr style=\"text-align: right;\">\n",
              "      <th></th>\n",
              "      <th>PassengerId</th>\n",
              "      <th>Pclass</th>\n",
              "      <th>Name</th>\n",
              "      <th>Sex</th>\n",
              "      <th>Age</th>\n",
              "      <th>SibSp</th>\n",
              "      <th>Parch</th>\n",
              "      <th>Ticket</th>\n",
              "      <th>Fare</th>\n",
              "      <th>Cabin</th>\n",
              "      <th>Embarked</th>\n",
              "    </tr>\n",
              "  </thead>\n",
              "  <tbody>\n",
              "  </tbody>\n",
              "</table>\n",
              "</div>\n",
              "      <button class=\"colab-df-convert\" onclick=\"convertToInteractive('df-61d41a03-641c-4685-b0a7-362d12e112ce')\"\n",
              "              title=\"Convert this dataframe to an interactive table.\"\n",
              "              style=\"display:none;\">\n",
              "        \n",
              "  <svg xmlns=\"http://www.w3.org/2000/svg\" height=\"24px\"viewBox=\"0 0 24 24\"\n",
              "       width=\"24px\">\n",
              "    <path d=\"M0 0h24v24H0V0z\" fill=\"none\"/>\n",
              "    <path d=\"M18.56 5.44l.94 2.06.94-2.06 2.06-.94-2.06-.94-.94-2.06-.94 2.06-2.06.94zm-11 1L8.5 8.5l.94-2.06 2.06-.94-2.06-.94L8.5 2.5l-.94 2.06-2.06.94zm10 10l.94 2.06.94-2.06 2.06-.94-2.06-.94-.94-2.06-.94 2.06-2.06.94z\"/><path d=\"M17.41 7.96l-1.37-1.37c-.4-.4-.92-.59-1.43-.59-.52 0-1.04.2-1.43.59L10.3 9.45l-7.72 7.72c-.78.78-.78 2.05 0 2.83L4 21.41c.39.39.9.59 1.41.59.51 0 1.02-.2 1.41-.59l7.78-7.78 2.81-2.81c.8-.78.8-2.07 0-2.86zM5.41 20L4 18.59l7.72-7.72 1.47 1.35L5.41 20z\"/>\n",
              "  </svg>\n",
              "      </button>\n",
              "      \n",
              "  <style>\n",
              "    .colab-df-container {\n",
              "      display:flex;\n",
              "      flex-wrap:wrap;\n",
              "      gap: 12px;\n",
              "    }\n",
              "\n",
              "    .colab-df-convert {\n",
              "      background-color: #E8F0FE;\n",
              "      border: none;\n",
              "      border-radius: 50%;\n",
              "      cursor: pointer;\n",
              "      display: none;\n",
              "      fill: #1967D2;\n",
              "      height: 32px;\n",
              "      padding: 0 0 0 0;\n",
              "      width: 32px;\n",
              "    }\n",
              "\n",
              "    .colab-df-convert:hover {\n",
              "      background-color: #E2EBFA;\n",
              "      box-shadow: 0px 1px 2px rgba(60, 64, 67, 0.3), 0px 1px 3px 1px rgba(60, 64, 67, 0.15);\n",
              "      fill: #174EA6;\n",
              "    }\n",
              "\n",
              "    [theme=dark] .colab-df-convert {\n",
              "      background-color: #3B4455;\n",
              "      fill: #D2E3FC;\n",
              "    }\n",
              "\n",
              "    [theme=dark] .colab-df-convert:hover {\n",
              "      background-color: #434B5C;\n",
              "      box-shadow: 0px 1px 3px 1px rgba(0, 0, 0, 0.15);\n",
              "      filter: drop-shadow(0px 1px 2px rgba(0, 0, 0, 0.3));\n",
              "      fill: #FFFFFF;\n",
              "    }\n",
              "  </style>\n",
              "\n",
              "      <script>\n",
              "        const buttonEl =\n",
              "          document.querySelector('#df-61d41a03-641c-4685-b0a7-362d12e112ce button.colab-df-convert');\n",
              "        buttonEl.style.display =\n",
              "          google.colab.kernel.accessAllowed ? 'block' : 'none';\n",
              "\n",
              "        async function convertToInteractive(key) {\n",
              "          const element = document.querySelector('#df-61d41a03-641c-4685-b0a7-362d12e112ce');\n",
              "          const dataTable =\n",
              "            await google.colab.kernel.invokeFunction('convertToInteractive',\n",
              "                                                     [key], {});\n",
              "          if (!dataTable) return;\n",
              "\n",
              "          const docLinkHtml = 'Like what you see? Visit the ' +\n",
              "            '<a target=\"_blank\" href=https://colab.research.google.com/notebooks/data_table.ipynb>data table notebook</a>'\n",
              "            + ' to learn more about interactive tables.';\n",
              "          element.innerHTML = '';\n",
              "          dataTable['output_type'] = 'display_data';\n",
              "          await google.colab.output.renderOutput(dataTable, element);\n",
              "          const docLink = document.createElement('div');\n",
              "          docLink.innerHTML = docLinkHtml;\n",
              "          element.appendChild(docLink);\n",
              "        }\n",
              "      </script>\n",
              "    </div>\n",
              "  </div>\n",
              "  "
            ]
          },
          "metadata": {},
          "execution_count": 444
        }
      ]
    },
    {
      "cell_type": "code",
      "source": [
        "train_df_modify[train_df_modify['Pclass']==3][train_df_modify[train_df_modify['Pclass']==3]['Age']>60]['Fare'].mean()"
      ],
      "metadata": {
        "colab": {
          "base_uri": "https://localhost:8080/"
        },
        "id": "9k_d7KyKQTrh",
        "outputId": "5e7c62b7-7442-4337-81d5-a5be4ecf96e2"
      },
      "execution_count": null,
      "outputs": [
        {
          "output_type": "execute_result",
          "data": {
            "text/plain": [
              "7.82"
            ]
          },
          "metadata": {},
          "execution_count": 445
        }
      ]
    },
    {
      "cell_type": "markdown",
      "source": [
        "- 요금에 대한 결측값은 최종 테스트 데이터에 한 개만 존재하여 훈련 데이터에서 등급이 같고 나이가 60세 이상인 사람(4명)의 평균 요금으로 대체"
      ],
      "metadata": {
        "id": "Hq5vWx0RQels"
      }
    },
    {
      "cell_type": "code",
      "source": [
        "test_df['Fare'].loc[152] = 7.82"
      ],
      "metadata": {
        "id": "Q3caI2BlQpeG"
      },
      "execution_count": null,
      "outputs": []
    },
    {
      "cell_type": "code",
      "source": [
        "train_df_modify['divCabin'] = train_df_modify['Cabin'].apply(divCabin)\n",
        "test2_df['divCabin'] = test2_df['Cabin'].apply(divCabin)"
      ],
      "metadata": {
        "id": "UKBvU8YmSGNR"
      },
      "execution_count": null,
      "outputs": []
    },
    {
      "cell_type": "code",
      "source": [
        "train_df_modify.head(1)"
      ],
      "metadata": {
        "colab": {
          "base_uri": "https://localhost:8080/",
          "height": 197
        },
        "id": "-brzloOIRkDr",
        "outputId": "abd1af41-1e99-49b4-812c-c0b32c1bb2ed"
      },
      "execution_count": null,
      "outputs": [
        {
          "output_type": "execute_result",
          "data": {
            "text/plain": [
              "   PassengerId  Survived  Pclass                     Name   Sex   Age  SibSp  \\\n",
              "0            1         0       3  Braund, Mr. Owen Harris  male  22.0      1   \n",
              "\n",
              "   Parch     Ticket  Fare Cabin Embarked divName divName_keyword1  \\\n",
              "0      0  A/5 21171  7.25   NaN        S      Mr               Mr   \n",
              "\n",
              "  divName_keyword2 divCabin  \n",
              "0               Mr     None  "
            ],
            "text/html": [
              "\n",
              "  <div id=\"df-c835a672-5256-497e-b6d9-c01511fa5aad\">\n",
              "    <div class=\"colab-df-container\">\n",
              "      <div>\n",
              "<style scoped>\n",
              "    .dataframe tbody tr th:only-of-type {\n",
              "        vertical-align: middle;\n",
              "    }\n",
              "\n",
              "    .dataframe tbody tr th {\n",
              "        vertical-align: top;\n",
              "    }\n",
              "\n",
              "    .dataframe thead th {\n",
              "        text-align: right;\n",
              "    }\n",
              "</style>\n",
              "<table border=\"1\" class=\"dataframe\">\n",
              "  <thead>\n",
              "    <tr style=\"text-align: right;\">\n",
              "      <th></th>\n",
              "      <th>PassengerId</th>\n",
              "      <th>Survived</th>\n",
              "      <th>Pclass</th>\n",
              "      <th>Name</th>\n",
              "      <th>Sex</th>\n",
              "      <th>Age</th>\n",
              "      <th>SibSp</th>\n",
              "      <th>Parch</th>\n",
              "      <th>Ticket</th>\n",
              "      <th>Fare</th>\n",
              "      <th>Cabin</th>\n",
              "      <th>Embarked</th>\n",
              "      <th>divName</th>\n",
              "      <th>divName_keyword1</th>\n",
              "      <th>divName_keyword2</th>\n",
              "      <th>divCabin</th>\n",
              "    </tr>\n",
              "  </thead>\n",
              "  <tbody>\n",
              "    <tr>\n",
              "      <th>0</th>\n",
              "      <td>1</td>\n",
              "      <td>0</td>\n",
              "      <td>3</td>\n",
              "      <td>Braund, Mr. Owen Harris</td>\n",
              "      <td>male</td>\n",
              "      <td>22.0</td>\n",
              "      <td>1</td>\n",
              "      <td>0</td>\n",
              "      <td>A/5 21171</td>\n",
              "      <td>7.25</td>\n",
              "      <td>NaN</td>\n",
              "      <td>S</td>\n",
              "      <td>Mr</td>\n",
              "      <td>Mr</td>\n",
              "      <td>Mr</td>\n",
              "      <td>None</td>\n",
              "    </tr>\n",
              "  </tbody>\n",
              "</table>\n",
              "</div>\n",
              "      <button class=\"colab-df-convert\" onclick=\"convertToInteractive('df-c835a672-5256-497e-b6d9-c01511fa5aad')\"\n",
              "              title=\"Convert this dataframe to an interactive table.\"\n",
              "              style=\"display:none;\">\n",
              "        \n",
              "  <svg xmlns=\"http://www.w3.org/2000/svg\" height=\"24px\"viewBox=\"0 0 24 24\"\n",
              "       width=\"24px\">\n",
              "    <path d=\"M0 0h24v24H0V0z\" fill=\"none\"/>\n",
              "    <path d=\"M18.56 5.44l.94 2.06.94-2.06 2.06-.94-2.06-.94-.94-2.06-.94 2.06-2.06.94zm-11 1L8.5 8.5l.94-2.06 2.06-.94-2.06-.94L8.5 2.5l-.94 2.06-2.06.94zm10 10l.94 2.06.94-2.06 2.06-.94-2.06-.94-.94-2.06-.94 2.06-2.06.94z\"/><path d=\"M17.41 7.96l-1.37-1.37c-.4-.4-.92-.59-1.43-.59-.52 0-1.04.2-1.43.59L10.3 9.45l-7.72 7.72c-.78.78-.78 2.05 0 2.83L4 21.41c.39.39.9.59 1.41.59.51 0 1.02-.2 1.41-.59l7.78-7.78 2.81-2.81c.8-.78.8-2.07 0-2.86zM5.41 20L4 18.59l7.72-7.72 1.47 1.35L5.41 20z\"/>\n",
              "  </svg>\n",
              "      </button>\n",
              "      \n",
              "  <style>\n",
              "    .colab-df-container {\n",
              "      display:flex;\n",
              "      flex-wrap:wrap;\n",
              "      gap: 12px;\n",
              "    }\n",
              "\n",
              "    .colab-df-convert {\n",
              "      background-color: #E8F0FE;\n",
              "      border: none;\n",
              "      border-radius: 50%;\n",
              "      cursor: pointer;\n",
              "      display: none;\n",
              "      fill: #1967D2;\n",
              "      height: 32px;\n",
              "      padding: 0 0 0 0;\n",
              "      width: 32px;\n",
              "    }\n",
              "\n",
              "    .colab-df-convert:hover {\n",
              "      background-color: #E2EBFA;\n",
              "      box-shadow: 0px 1px 2px rgba(60, 64, 67, 0.3), 0px 1px 3px 1px rgba(60, 64, 67, 0.15);\n",
              "      fill: #174EA6;\n",
              "    }\n",
              "\n",
              "    [theme=dark] .colab-df-convert {\n",
              "      background-color: #3B4455;\n",
              "      fill: #D2E3FC;\n",
              "    }\n",
              "\n",
              "    [theme=dark] .colab-df-convert:hover {\n",
              "      background-color: #434B5C;\n",
              "      box-shadow: 0px 1px 3px 1px rgba(0, 0, 0, 0.15);\n",
              "      filter: drop-shadow(0px 1px 2px rgba(0, 0, 0, 0.3));\n",
              "      fill: #FFFFFF;\n",
              "    }\n",
              "  </style>\n",
              "\n",
              "      <script>\n",
              "        const buttonEl =\n",
              "          document.querySelector('#df-c835a672-5256-497e-b6d9-c01511fa5aad button.colab-df-convert');\n",
              "        buttonEl.style.display =\n",
              "          google.colab.kernel.accessAllowed ? 'block' : 'none';\n",
              "\n",
              "        async function convertToInteractive(key) {\n",
              "          const element = document.querySelector('#df-c835a672-5256-497e-b6d9-c01511fa5aad');\n",
              "          const dataTable =\n",
              "            await google.colab.kernel.invokeFunction('convertToInteractive',\n",
              "                                                     [key], {});\n",
              "          if (!dataTable) return;\n",
              "\n",
              "          const docLinkHtml = 'Like what you see? Visit the ' +\n",
              "            '<a target=\"_blank\" href=https://colab.research.google.com/notebooks/data_table.ipynb>data table notebook</a>'\n",
              "            + ' to learn more about interactive tables.';\n",
              "          element.innerHTML = '';\n",
              "          dataTable['output_type'] = 'display_data';\n",
              "          await google.colab.output.renderOutput(dataTable, element);\n",
              "          const docLink = document.createElement('div');\n",
              "          docLink.innerHTML = docLinkHtml;\n",
              "          element.appendChild(docLink);\n",
              "        }\n",
              "      </script>\n",
              "    </div>\n",
              "  </div>\n",
              "  "
            ]
          },
          "metadata": {},
          "execution_count": 448
        }
      ]
    },
    {
      "cell_type": "code",
      "source": [
        "test2_df.head(1)"
      ],
      "metadata": {
        "colab": {
          "base_uri": "https://localhost:8080/",
          "height": 179
        },
        "id": "mRBOUnHjRmDz",
        "outputId": "d06f2eac-5c60-4862-ca4a-6d55e994efd6"
      },
      "execution_count": null,
      "outputs": [
        {
          "output_type": "execute_result",
          "data": {
            "text/plain": [
              "   PassengerId  Pclass              Name   Sex   Age  SibSp  Parch  Ticket  \\\n",
              "0          892       3  Kelly, Mr. James  male  34.5      0      0  330911   \n",
              "\n",
              "     Fare Cabin Embarked divName divName_keyword1 divName_keyword2 divCabin  \n",
              "0  7.8292   NaN        Q      Mr               Mr               Mr     None  "
            ],
            "text/html": [
              "\n",
              "  <div id=\"df-1fc16701-ecc9-4b41-bc77-a900cf261aba\">\n",
              "    <div class=\"colab-df-container\">\n",
              "      <div>\n",
              "<style scoped>\n",
              "    .dataframe tbody tr th:only-of-type {\n",
              "        vertical-align: middle;\n",
              "    }\n",
              "\n",
              "    .dataframe tbody tr th {\n",
              "        vertical-align: top;\n",
              "    }\n",
              "\n",
              "    .dataframe thead th {\n",
              "        text-align: right;\n",
              "    }\n",
              "</style>\n",
              "<table border=\"1\" class=\"dataframe\">\n",
              "  <thead>\n",
              "    <tr style=\"text-align: right;\">\n",
              "      <th></th>\n",
              "      <th>PassengerId</th>\n",
              "      <th>Pclass</th>\n",
              "      <th>Name</th>\n",
              "      <th>Sex</th>\n",
              "      <th>Age</th>\n",
              "      <th>SibSp</th>\n",
              "      <th>Parch</th>\n",
              "      <th>Ticket</th>\n",
              "      <th>Fare</th>\n",
              "      <th>Cabin</th>\n",
              "      <th>Embarked</th>\n",
              "      <th>divName</th>\n",
              "      <th>divName_keyword1</th>\n",
              "      <th>divName_keyword2</th>\n",
              "      <th>divCabin</th>\n",
              "    </tr>\n",
              "  </thead>\n",
              "  <tbody>\n",
              "    <tr>\n",
              "      <th>0</th>\n",
              "      <td>892</td>\n",
              "      <td>3</td>\n",
              "      <td>Kelly, Mr. James</td>\n",
              "      <td>male</td>\n",
              "      <td>34.5</td>\n",
              "      <td>0</td>\n",
              "      <td>0</td>\n",
              "      <td>330911</td>\n",
              "      <td>7.8292</td>\n",
              "      <td>NaN</td>\n",
              "      <td>Q</td>\n",
              "      <td>Mr</td>\n",
              "      <td>Mr</td>\n",
              "      <td>Mr</td>\n",
              "      <td>None</td>\n",
              "    </tr>\n",
              "  </tbody>\n",
              "</table>\n",
              "</div>\n",
              "      <button class=\"colab-df-convert\" onclick=\"convertToInteractive('df-1fc16701-ecc9-4b41-bc77-a900cf261aba')\"\n",
              "              title=\"Convert this dataframe to an interactive table.\"\n",
              "              style=\"display:none;\">\n",
              "        \n",
              "  <svg xmlns=\"http://www.w3.org/2000/svg\" height=\"24px\"viewBox=\"0 0 24 24\"\n",
              "       width=\"24px\">\n",
              "    <path d=\"M0 0h24v24H0V0z\" fill=\"none\"/>\n",
              "    <path d=\"M18.56 5.44l.94 2.06.94-2.06 2.06-.94-2.06-.94-.94-2.06-.94 2.06-2.06.94zm-11 1L8.5 8.5l.94-2.06 2.06-.94-2.06-.94L8.5 2.5l-.94 2.06-2.06.94zm10 10l.94 2.06.94-2.06 2.06-.94-2.06-.94-.94-2.06-.94 2.06-2.06.94z\"/><path d=\"M17.41 7.96l-1.37-1.37c-.4-.4-.92-.59-1.43-.59-.52 0-1.04.2-1.43.59L10.3 9.45l-7.72 7.72c-.78.78-.78 2.05 0 2.83L4 21.41c.39.39.9.59 1.41.59.51 0 1.02-.2 1.41-.59l7.78-7.78 2.81-2.81c.8-.78.8-2.07 0-2.86zM5.41 20L4 18.59l7.72-7.72 1.47 1.35L5.41 20z\"/>\n",
              "  </svg>\n",
              "      </button>\n",
              "      \n",
              "  <style>\n",
              "    .colab-df-container {\n",
              "      display:flex;\n",
              "      flex-wrap:wrap;\n",
              "      gap: 12px;\n",
              "    }\n",
              "\n",
              "    .colab-df-convert {\n",
              "      background-color: #E8F0FE;\n",
              "      border: none;\n",
              "      border-radius: 50%;\n",
              "      cursor: pointer;\n",
              "      display: none;\n",
              "      fill: #1967D2;\n",
              "      height: 32px;\n",
              "      padding: 0 0 0 0;\n",
              "      width: 32px;\n",
              "    }\n",
              "\n",
              "    .colab-df-convert:hover {\n",
              "      background-color: #E2EBFA;\n",
              "      box-shadow: 0px 1px 2px rgba(60, 64, 67, 0.3), 0px 1px 3px 1px rgba(60, 64, 67, 0.15);\n",
              "      fill: #174EA6;\n",
              "    }\n",
              "\n",
              "    [theme=dark] .colab-df-convert {\n",
              "      background-color: #3B4455;\n",
              "      fill: #D2E3FC;\n",
              "    }\n",
              "\n",
              "    [theme=dark] .colab-df-convert:hover {\n",
              "      background-color: #434B5C;\n",
              "      box-shadow: 0px 1px 3px 1px rgba(0, 0, 0, 0.15);\n",
              "      filter: drop-shadow(0px 1px 2px rgba(0, 0, 0, 0.3));\n",
              "      fill: #FFFFFF;\n",
              "    }\n",
              "  </style>\n",
              "\n",
              "      <script>\n",
              "        const buttonEl =\n",
              "          document.querySelector('#df-1fc16701-ecc9-4b41-bc77-a900cf261aba button.colab-df-convert');\n",
              "        buttonEl.style.display =\n",
              "          google.colab.kernel.accessAllowed ? 'block' : 'none';\n",
              "\n",
              "        async function convertToInteractive(key) {\n",
              "          const element = document.querySelector('#df-1fc16701-ecc9-4b41-bc77-a900cf261aba');\n",
              "          const dataTable =\n",
              "            await google.colab.kernel.invokeFunction('convertToInteractive',\n",
              "                                                     [key], {});\n",
              "          if (!dataTable) return;\n",
              "\n",
              "          const docLinkHtml = 'Like what you see? Visit the ' +\n",
              "            '<a target=\"_blank\" href=https://colab.research.google.com/notebooks/data_table.ipynb>data table notebook</a>'\n",
              "            + ' to learn more about interactive tables.';\n",
              "          element.innerHTML = '';\n",
              "          dataTable['output_type'] = 'display_data';\n",
              "          await google.colab.output.renderOutput(dataTable, element);\n",
              "          const docLink = document.createElement('div');\n",
              "          docLink.innerHTML = docLinkHtml;\n",
              "          element.appendChild(docLink);\n",
              "        }\n",
              "      </script>\n",
              "    </div>\n",
              "  </div>\n",
              "  "
            ]
          },
          "metadata": {},
          "execution_count": 449
        }
      ]
    },
    {
      "cell_type": "markdown",
      "source": [
        "#### 다시 모델 적용"
      ],
      "metadata": {
        "id": "KgBOAPZYUFxY"
      }
    },
    {
      "cell_type": "code",
      "source": [
        "drop_cols = ['PassengerId', 'Ticket', 'Cabin', 'Name', 'divName_keyword1', 'divName']\n",
        "\n",
        "train_df_modify = train_df_modify.drop(drop_cols, axis=1)\n",
        "test2_df = test2_df.drop(drop_cols, axis=1)\n"
      ],
      "metadata": {
        "id": "bfP64cEeT6Px"
      },
      "execution_count": null,
      "outputs": []
    },
    {
      "cell_type": "code",
      "source": [
        "label_col = ['Sex', 'divName_keyword2', 'divCabin','Embarked']\n",
        "les = []\n",
        "\n",
        "for col in label_col:\n",
        "  le = LabelEncoder()\n",
        "  train_df_modify[col] = le.fit_transform(train_df_modify[col])\n",
        "  test2_df[col] = le.transform(test2_df[col])\n",
        "  les.append(le)\n",
        "\n"
      ],
      "metadata": {
        "id": "yhYGVbOBRP2A"
      },
      "execution_count": null,
      "outputs": []
    },
    {
      "cell_type": "code",
      "source": [
        "X = train_df_modify.drop('Survived', axis=1)\n",
        "y = train_df_modify['Survived']\n",
        "\n",
        "X_train, X_test, y_train, y_test = train_test_split(X, y, test_size=0.2, random_state=52)\n",
        "\n",
        "tree = DecisionTreeClassifier()\n",
        "rf = RandomForestClassifier()\n",
        "xgb = XGBClassifier()\n",
        "logi = LogisticRegression()\n",
        "\n",
        "tree.fit(X_train, y_train)\n",
        "rf.fit(X_train, y_train)\n",
        "xgb.fit(X_train, y_train)\n",
        "logi.fit(X_train, y_train)\n",
        "\n",
        "tree_pred = tree.predict(test2_df)\n",
        "rf_pred = rf.predict(test2_df)\n",
        "xgb_pred = xgb.predict(test2_df)\n",
        "logi_pred = logi.predict(test2_df)\n",
        "\n",
        "print(\"DecisionTree : {:.2f}%\" .format(tree.score(X_test, y_test)*100))\n",
        "print(\"RandomForest : {:.2f}%\" .format(rf.score(X_test, y_test)*100))\n",
        "print(\"XGBoost : {:.2f}%\" .format(xgb.score(X_test, y_test)*100))\n",
        "print(\"Logisitc : {:.2f}%\" .format(logi.score(X_test, y_test)*100))"
      ],
      "metadata": {
        "colab": {
          "base_uri": "https://localhost:8080/"
        },
        "id": "8_h5zoUaUJxh",
        "outputId": "fc6d0c7e-e54a-4da3-9d44-d5a20892adf1"
      },
      "execution_count": null,
      "outputs": [
        {
          "output_type": "stream",
          "name": "stdout",
          "text": [
            "DecisionTree : 75.42%\n",
            "RandomForest : 79.89%\n",
            "XGBoost : 81.01%\n",
            "Logisitc : 80.45%\n"
          ]
        }
      ]
    },
    {
      "cell_type": "code",
      "source": [
        "submission['Survived'] = xgb_pred\n",
        "submission.to_csv('/content/drive/MyDrive/ds_study/ML/02.titanic/submission2.csv', index=False)"
      ],
      "metadata": {
        "id": "kg3ZhajmVFab"
      },
      "execution_count": null,
      "outputs": []
    },
    {
      "cell_type": "markdown",
      "source": [
        "#### 소폭 상승\n",
        "![스크린샷 2023-03-12 오후 7.22.02.png](data:image/png;base64,iVBORw0KGgoAAAANSUhEUgAABvQAAABwCAYAAADBu5dzAAABYWlDQ1BrQ0dDb2xvclNwYWNlRGlzcGxheVAzAAAokWNgYFJJLCjIYWFgYMjNKykKcndSiIiMUmB/yMAOhLwMYgwKicnFBY4BAT5AJQwwGhV8u8bACKIv64LMOiU1tUm1XsDXYqbw1YuvRJsw1aMArpTU4mQg/QeIU5MLikoYGBhTgGzl8pICELsDyBYpAjoKyJ4DYqdD2BtA7CQI+whYTUiQM5B9A8hWSM5IBJrB+API1klCEk9HYkPtBQFul8zigpzESoUAYwKuJQOUpFaUgGjn/ILKosz0jBIFR2AopSp45iXr6SgYGRiaMzCAwhyi+nMgOCwZxc4gxJrvMzDY7v////9uhJjXfgaGjUCdXDsRYhoWDAyC3AwMJ3YWJBYlgoWYgZgpLY2B4dNyBgbeSAYG4QtAPdHFacZGYHlGHicGBtZ7//9/VmNgYJ/MwPB3wv//vxf9//93MVDzHQaGA3kAFSFl7jXH0fsAAACKZVhJZk1NACoAAAAIAAQBGgAFAAAAAQAAAD4BGwAFAAAAAQAAAEYBKAADAAAAAQACAACHaQAEAAAAAQAAAE4AAAAAAAAAkAAAAAEAAACQAAAAAQADkoYABwAAABIAAAB4oAIABAAAAAEAAAb0oAMABAAAAAEAAABwAAAAAEFTQ0lJAAAAU2NyZWVuc2hvdLy+HCMAAAAJcEhZcwAAFiUAABYlAUlSJPAAAAHXaVRYdFhNTDpjb20uYWRvYmUueG1wAAAAAAA8eDp4bXBtZXRhIHhtbG5zOng9ImFkb2JlOm5zOm1ldGEvIiB4OnhtcHRrPSJYTVAgQ29yZSA2LjAuMCI+CiAgIDxyZGY6UkRGIHhtbG5zOnJkZj0iaHR0cDovL3d3dy53My5vcmcvMTk5OS8wMi8yMi1yZGYtc3ludGF4LW5zIyI+CiAgICAgIDxyZGY6RGVzY3JpcHRpb24gcmRmOmFib3V0PSIiCiAgICAgICAgICAgIHhtbG5zOmV4aWY9Imh0dHA6Ly9ucy5hZG9iZS5jb20vZXhpZi8xLjAvIj4KICAgICAgICAgPGV4aWY6UGl4ZWxZRGltZW5zaW9uPjExMjwvZXhpZjpQaXhlbFlEaW1lbnNpb24+CiAgICAgICAgIDxleGlmOlBpeGVsWERpbWVuc2lvbj4xNzgwPC9leGlmOlBpeGVsWERpbWVuc2lvbj4KICAgICAgICAgPGV4aWY6VXNlckNvbW1lbnQ+U2NyZWVuc2hvdDwvZXhpZjpVc2VyQ29tbWVudD4KICAgICAgPC9yZGY6RGVzY3JpcHRpb24+CiAgIDwvcmRmOlJERj4KPC94OnhtcG1ldGE+CmYJ+IEAAAAcaURPVAAAAAIAAAAAAAAAOAAAACgAAAA4AAAAOAAAFGsUma0EAAAUN0lEQVR4Aezdd3Qd1YEH4CvLlptsYxscbKoxLC2hBAIEcCgLAUzvbQkklNAM7LLsZtnyV8ohewKEDqEmwbTQmymhJMvSe92AbQwG9ypXycI7d8x7KtZ7erIs/Pzmm3NkzZu5c2fmuyNZZ35z71Q1NDQsCyYCBAgQIECAAAECBAgQIECAAAECBAgQIECAAAECBMpSoGr8+PECvbJsGgdFgAABAgQIECBAgAABAgQIECBAgAABAgQIECBAIISqcePGCfRcCQQIECBAgAABAgQIECBAgAABAgQIECBAgAABAgTKVKBqWTKV6bE5LAIECBAgQIAAAQIECBAgQIAAAQIECBAgQIAAAQKZFxDoZf4SAECAAAECBAgQIECAAAECBAgQIECAAAECBAgQIFDOAgK9cm4dx0aAAAECBAgQIECAAAECBAgQIECAAAECBAgQIJB5AYFe5i8BAAQIECBAgAABAgQIECBAgAABAgQIECBAgAABAuUsINAr59ZxbAQIECBAgAABAgQIECBAgAABAgQIECBAgAABApkXEOhl/hIAQIAAAQIECBAgQIAAAQIECBAgQIAAAQIECBAgUM4CAr1ybh3HRoAAAQIECBAgQIAAAQIECBAgQIAAAQIECBAgkHkBgV7mLwEABAgQIECAAAECBAgQIECAAAECBAgQIECAAAEC5Swg0Cvn1nFsBAgQIECAAAECBAgQIECAAAECBAgQIECAAAECmRcQ6GX+EgBAgAABAgQIECBAgAABAgQIECBAgAABAgQIECBQzgICvXJuHcdGgAABAgQIECBAgAABAgQIECBAgAABAgQIECCQeQGBXuYvAQAECBAgQIAAAQIECBAgQIAAAQIECBAgQIAAAQLlLCDQK+fWcWwECBAgQIAAAQIECBAgQIAAAQIECBAgQIAAAQKZFxDoZf4SAECAAAECBAgQIECAAAECBAgQIECAAAECBAgQIFDOAgK9cm4dx0aAAAECBAgQIECAAAECBAgQIECAAAECBAgQIJB5AYFe5i8BAAQIECBAgAABAgQIECBAgAABAgQIECBAgAABAuUsINAr59ZxbAQIECBAgAABAgQIECBAgAABAgQIECBAgAABApkXEOhl/hIAQIAAAQIECBAgQIAAAQIECBAgQIAAAQIECBAgUM4CAr1ybh3HRoAAAQIECBAgQIAAAQIECBAgQIAAAQIECBAgkHkBgV7mLwEABAgQIECAAAECBAgQIECAAAECBAgQIECAAAEC5Swg0Cvn1nFsBAgQIECAAAECBAgQIECAAAECBAgQIECAAAECmRcQ6GX+EgBAgAABAgQIECBAgAABAgQIECBAgAABAgQIECBQzgICvXJuHcdGgAABAgQIECBAgAABAgQIECBAgAABAgQIECCQeQGBXuYvAQAECBAgQIAAAQIECBAgQIAAAQIECBAgQIAAAQLlLCDQK+fWcWwECBAgQIAAAQIECBAgQIAAAQIECBAgQIAAAQKZFxDoZf4SAECAAAECBAgQIECAAAECBAgQIECAAAECBAgQIFDOAgK9cm4dx0aAAAECBAgQINBpgaVLl4YlS5aExsbG9KvTFa6GCqqrq0P86tmzZ+jevftqOAK7JECAAAECBAgQIECAAAECBFangEBvderbNwECBAgQIECAQJcKLFiwINTX13fpPr7pymtqakLfvn2/6d3aHwECBAgQIECAAAECBAgQILAaBQR6qxHfrgkQIECAAAECBLpOYP78+aGhoSHdwcLn3wiL3/k4NE6eEZY1ftV1O+2Cmququ4XqoWuHXttsFvrs8d10Dz169Ai1tbVdsDdVEiBAgAABAgQIECBAgAABAuUoINArx1ZxTAQIECBAgAABAp0SyPXMa5w5N8wdMzYsnTStU/WVy8bd1x8SBpywf6gePCDoqVcureI4CBAgQIAAAQIECBAgQIBA1wsI9Lre2B4IECBAgAABAgS+QYH4zry6urp0j7OuvKtiwrwcYQz1Bo0+Nv3Yr18/79TLwfhOgAABAgQIECBAgAABAgQqWECgV8GN69QIECBAgAABAlkUyPXOi8Nszn/shYokqB21Wzr8pl56Fdm8TooAAQIECBAgQIAAAQIECKwgINBbgcQCAgQIECBAgACBNVlg3rx5obGxMVRi77xcu+R66VVXV4f+/fvnFvtOgAABAgQIECBAgAABAgQIVKiAQK9CG9ZpESBAgAABAgSyKjB79uz01KdffHVY1vhVRTJUVXcL6/zynPTcBg4cWJHn6KQIECBAgAABAgQIECBAgACBJgGBXpOFOQIECBAgQIAAgQoQyAV60/71ygo4m8KnMOSS0elKgV5hI2sIECBAgAABAgQIECBAgEClCAj0KqUlnQcBAgQIECBAgEAqINBzIRAgQIAAAQIECBAgQIAAAQKVJiDQq7QWdT4ECBAgQIAAgYwLCPQyfgE4fQIECBAgQIAAAQIECBAgUIECAr0KbFSnRIAAAQIECBDIsoBAL8ut79wJECBAgAABAgQIECBAgEBlCgj0KrNdnRUBAgQIECBAILMCAr3MNr0TJ0CAAAECBAgQIECAAAECFSsg0KvYpnViBAgQIECAAIFsCgj0stnuzpoAAQIECBAgQIAAAQIECFSygECvklvXuREgQIAAAQIEMigg0MtgoztlAgQIECBAgAABAgQIECBQ4QICvQpvYKdHgAABAgQIEMiagEAvay3ufAkQIECAAAECBAgQIECAQOULCPQqv42dIQECBAgQIEAgUwICvUw1t5MlQIAAAQIECBAgQIAAAQKZEBDoZaKZnSQBAgQIECBAIDsCAr3stLUzJUCAAAECBAgQIECAAAECWREQ6GWlpZ0nAQIECBAgQCAjAgK9jDS00yRAgAABAgQIECBAgAABAhkSWOMDvWXLloWlS5eGbt26herq6pKbbvqMGWHa1Olh3aHfCoMHDSq6XWNjY/jqq6+Klmlv/7NmzQ6Tp0wJPXr0CIMGDgyDBw8KVVVVReu0kgABAq0F4u+8efPmtV5c4ueq9PdkbW3fguW7uv7Jk6eEF/73pYL7b2/FBhusH3beaceCxRoaGsLChQsLri++oir07FkTevXqVbDYokWLQ339koLri62Iv/N79+6d/j9QrJx1BAh0XkCg13lDNRAgQIAAAQIECBAgQCBLAkuWLAmffT4pzRk2TO4/xfv4HZ1ihhCzhFKnmGfEXKH1FO/PTZ06LcQMY2CSJayz9uDknlXP1sXa/DxnzpzwZXL/Ld6DWm/Y0FBTU9NmuUILc+dQ6NgKbReXx/tycVoZu3RD/7QrsMYGep999nl474MPw4cffhQWLFgYttpqi3DUEYe1e8IfJOUfH/tkuk2ucL9+teHQgw8Km2yycW5Ri+933HlP+PiTcS2Wtf6w/fbbhoMPPKDF4njxxxvXL770Sli8eHGLdd8aMiTss89eYcQmw1ss94EAAQLFBOrq5ofLfntVsSJF1/Xu3StcdOEFBct0df1/+/iTcOddfyq4//ZWfHvrrcIRhx9SsNh7730Q7nvgoYLr21ux5Rabh6OPOrxgsUceHRveePOtguvbW7H/fvuGnb63Q3vFrCdAoJMCAr1OAtqcAAECBAgQIECAAAECGRGor68P9973YPhk3PgQg7Q4xZAt3iM67NCDOtSJ6H9eeDE88+zzJcv9cN+9wy4775QvP3/+gvDY40+E8RM+TR4or88vj+HayN13Dbvv9v02A8BYcO7cueHe+x8KkyZ9kd8uPly+6YhNwuGHHVz0AfbYYSrmH++//2GI9+7i51EH7Bd23GH7fF2FZmbMnJluF7eN83379gkX/uN5hYpb3kmBNS7QW7RoUbjuhptDXV1di1MvJdB7PwkA73/g4bS33ZAh64QN1l8vfDrxszBz5qzQvXv3cNwxR7UZ6t1y6x/C58kPQvwBKNSrbvvttgkHjto/f0zx4r3//ofTXnnxF8DQoeuG9dcbFj5PUv6YkMcp1nXi8ce2uc98RWYIECDQTCA+HPDkU880W1LabNzuo//7W/J0TvFAr6vrjw86LFnS9AdJaUcf0hDtz888F9oL9L744svw+hsdD9ziE09x2/YCvbffeTdMnPh5qYedLzfh04npH1YCvTyJGQJdKtCRQK/XxsPC0NOOWKnjaZy3IHz261sKbjv85+cWXNfeikmX/TE0zJxTtNiQS0an6+MTmyYCBAgQIECAAAECBAgQ6JhADM1uH3NXeu8/9mSL4Ve8dxXDvRhqbbbpiHDM0UeUHOrFzj3PPveXogcRQ8NccBgfKo/3ouL05ZeTw1333JfmHrGH28YbbRhqa2tDHO1qytSpaZmttkw6NR15WDrf/J84OuCNN9+WdiqKoxFuttmmYfGSxWFCEgzOnTsvrD14cDjh+KPDWmut1XyzdD6Gh3cn+20eIMYVpQR6Y+64O7VqXqlAr7nGqp9f4wK92Bvvj2PuzEvMnj0nvdjaC/TidrFXS/yB/P4uO4V999k7X8eDDz0a4k3a2G31ny44d4Uuoddc97swY8bMNJHf5jvfzm9XbCYOiRd/iPr16xeOPPzQMGhQ042WeOP4nnvu/zqx7psk1stvxhSrzzoCBAh0RmDqtGnh+uRhiL59u+Z3TlfX/8qrr4exTzzVbqC3skavvPpaUv/TYeuttgxHHnHoylZTcLv4h1EMVA9Mnm7aoYSnmwpWZAUBAiUJdCTQ673ZRmHDi04uqd7WhZbOqQvj/uWy1ovznze//r+SJ7jyHzs0M+E/rgr102YV3UagV5THSgIECBAgQIAAAQIECBQViPeC4j2hODzl6aeekgReA9Ly06fPSO/txyEk995rj7RnXNGKOrAy3t+K97liWHj8cUenW8b9XH3tDclrdurS+0b7/3CfFiFiHAHwqaeXP+B/3LFHhb9LArvm0+133BXGjZuQdhw69ugj8/lGDOliSBiDveHDNw4nnXhc883S+dgzr3mvwjjUZ5xKCfTiKFxzv3410IIFC0LsYSjQS/m67J81LtBrLRHDvfHjP213yM3cRR+Hujzj9B+36GkX0/b4AxPT6tiNtnVod+nlV6YXY+xNN2JE6UNkxmR8wID+LX74cscfb+zGG7xxOvfsn7YI/HJlfCdAgMCqEoj/GV//u5uTcbfXCqPPOXNVVZuvp6vr7+pA7+VXXgtPPPl02C7pbX3IQaPy57WqZnKBXlv/x6yqfaiHAIEmgY4EelU9uofua/Vr2riEucGjRoYBu20X2gv0eqzT9EBXCdWGPlsMD+uedFBaVKBXipgyBAgQIECAAAECBAgQWDmB+K67Sy+/KsQRAWOvt9j7rfn02utvpsNfrsp7aZOnTAk33nRb+l67s888Le0MlNvntOnTk+BtYth5px1zi1p8v/X3t4f4GrKtt04eRk86EOWmOOLUTbf8Ps07zjnrjBVyhjga1+VXXJN2ijrt1FPCsGQkwWLTz3/567RTVCmBXvN6csONCvSaq6z6+cwEetded2P6Esk99xgZfjBytxUkc2l87Mr6o5NOaLH+F7/67/RllqefdkoYum7xC77FhkU+zJw1K1x9zQ1piRNPSIJC79IromUVAQKdFYhD/d54060hDjd85hmndra6FbYvtf5FixaHSV80jeW9QkUFFsTxu19P/pBqb8jNApu3u/jFl15OnnR6Nn2/XRwWc1VPuXexNh9KYVXvQ30ECDQJdCTQa9qq9Lkhx+wXBu6zc7uBXuk1Li9Zu93mYb2zj00/CPQ6qqc8AQIECBAgQIAAAQIEShf44MOPwp/ufSDtzXbRheenr+RqvvXChYvCby67Ih0e8+QkL9goyQ06M8VhNmPwFofWPOTgUWG7bbfpUHV/+esL4bnn/xpih6WfnvGT/LZvJK+eeeSxsWlQFwO7tqZc9lHKyFQCvbYEy2dZJgK92FX18iuuTtULhXKxS2rsmhqni3/2z/kf4Njd9VeX/CZdfsF554T+/Tv2BHe6YRv/xJvTsUtqnM4+6/R0HNs2illEgACBggLx91P8qq9Pvi9NvuL3+Pnr5cvXL02W1SfvCp2dvocuvsvzJz/+UcE6m6/oivonJu8tve0PY5rvpkPzpQZ68Y+kOKxAQ0M8/7ZcWnrFoQfimOG77bpL+Pu992z3mOJTXLl64z7qE+N0XwXa4s233g5xiOiO9vRu90AUIECgTYEuD/SOPyAM3Ot7oWHW3DD+Z79t8xhWZmG/724Zhp25fMiV8RdfERpmeIfeyjjahgABAgQIECBAgAABAu0JPPzI4yHer4nDV8ZhLNuabk4CuElJD7hS7xe1VUduWa7H34YbrB9OOfkfcotL/p57XcyAAQPC+aPPym/35FN/Di+9/Graw7Ct9+vFgrksIo4meP7os/PbtjUj0GtLpXyWZSLQi6l3fJ9dnJqHdc2bIb7zLnY9jdN5556VHy+3rq4ueffe8jDw3//tonT4zGnTpqeBX+xuW1XV8RejxPf4jbnz7nSo0NjjL4aMJgIECJQi8MijY8M7776Xvpi3lPKtywwf3vZ42blyXV1/LtDr06dP2GPkir2lc8dR6PugwYOK9miO7zyNwVkM3FZm2mvPH4SRu+/a5qax3htuvCUN8uLv8ZWZ4h9s8Q83EwECXSvQkUCvx6ABoVuvmlBV0yN0S76avndf/jl5GXlueVXN8mV9Nt841Ky7dqifOjNM+M/lfye2PqPq2j6hul+fFeroltTRtI+k7mTIz9znmmHrhFh3nMZddGlYOnd+Ol/oH+/QKyRjOQECBAgQIECAAAECBIoL5EZTKhbWPfTIY+Gtt94J227znXDoIQcWr7DI2vjg+RVXXZu+8mtlR2968OFHw9tvvxs2HbFJOOH4Y/J7i732Yu+91svzBZKZ+Gqwq665PnTr1i3EjKNYpiHQay5XfvP/DwAA///23elQAAAZ00lEQVTt3Xd4VFXewPFfSCOkUEJCArpSBOkiimJblA6CXaqsoMIqIOradn39Z593XxVXLKusiAJiQVBEQIqiKHaa0gSlg3QSpKSQAInv/R2440xyZ+YmzDwwyfc8D8yd0+69n5sZwv3dc07U71aSCE5vT5kqW7Zsk+bNm8qtN9/oeCYbNm6SqdOmS0xMjDz+94cd6xw7dkyefuY5U3bnkL/IOfXqmu39WVky7tUJUqVKFWnW9ALZum275OfnmzLtr1WrFtKl07VStWpVx369M5V669bt8t33i2XL1m2SkFBVbh/YTzIzMryrsY0AAgj4FVi8ZJks/+FHiY+Ll7j4OOvV+hNvb8db2/pe80/lWWVaZ9PmLfLlV9/IBU0aS98+t5yx/rdv/1UmvzVFatWqKSOH/9XvcZS3YPqMmbJv335joi567sbp1Lad94fZSb9FX34tGzdtlq5dOkn7y9o57l6/w1/+76vm3xJ//ah9nGV/8jpY18Bcnzh5+51p5t+OYXcPkYyMOo79k4kAAqETOHjwoOls/2MvBe30T48NkYRG5wat51ShYOsu2f7UBKciqX1jR0nteZVjmZvMDSOelN+PnwhYNX30faa8Zs2aAetRiAACCCCAAAIIIIAAAggg4Cvw2utvyJ69e6VTx2vkyiva+xaeevfpZ5/L94uXSqNGDWRg/76Oddxk2vGJlJRkGTXyXhNrcNPOu84rr74uWVnZcsXl7aVzp2s8RatWr5FZs+dKjRrVTd+eAq+NAwd+k7GvjDc5D94/QpKTk71KfTf/9eQzUlxcLD17dJNLLr7ItzDAu2++/V4+/+JLSUysJg89OCpATYpORyCqMgT0VqxYJR/NnW/9oCbJg/eP9Otl/7DqzW696a1p585dMvGNt8x2SkqKnHtuPRO80xvGWqYpMTFRht092O8HYf2GjTJv/gLJy8szHwZt07xZU+l4bQdzU1vfkxBAAIFwCny2cJHowwTtLmkrPbp3Dfmu3PYf7oBeeU9swsTJsmv3Hrn1lhvN93N5+3Fqd/z4cXlq9BhT9PDf7pdq1RKcqpGHAAIhFChLQK/OgJ6SfHEzKTpaKMUF1h/7teCY73srv8iUH5O0WztLXHotyV21XnaNneZ45CmXtpT0/j1K9VFs9euzr0J7n8dE2yRd1NS02ThqtGO/3pkE9Lw12EYAAQQQQAABBBBAAAEE3As8/+JYycnJkV7XdZe2F7VxbGgHqTLq1JFhQ4c41nGTOeXd98zD9tde82e5+qor3DTxqbPNekD+TesBeU16HHo8dtJg3X/HvSb6IHqf226Wphc0sYvM68GDh8zD9UeOHDHv777zDqlbN9OnjvcbO0ZCQM9b5ezZrhQBPY2iazQ92IiQZ559QQoKCuSG66+TC1u38lyldet+kYLCAmlzYWuf6LlG1md8OFt0dF+gUS+rVllR8o/mevqLioqSJo3Pl0svvUQa1D/Pk88GAgggUF4BfXKmqKjIfEdFR0eX6mbaex+IPlzQrWtnucz67ilrClX/ZyqgpzZ6DmqjI65LptH/fl4KrZvqfx16p9Spk16yOOj7EydOmF+cdOS2fsd7p7379sn41yaZh0EeffgB7yK2EUAgTAJlCeiV5xDOf+FRia5WVQ5+sUz2vzu/PF04tql3bx8T0CvctV+2/XOcYx3vTAJ63hpsI4AAAggggAACCCCAAALuBXS2Pr2vf/ON10vLls0dGy5Zulw+WfBZwNFvjg29Mg8fPiwvvvSKyRk18h6rrxpepe427dGEOoPgbbfeVKrRR3Pmy4qVq8xMUd27dZbG5zeyzu24aPxCYyNVq8bL/v1Zpp3OmKVxEn+JgJ4/mbMjv1IE9OyAmo6ke+jBk1MTOfH/7/+NNjdk+/e7zfzQO9Upmfftd4tl4eeLTPbwe4dK7dTUklVMnzpNZ641Qk9H9q20AnzbrKk7NZU3Kl9qJ2QggEClFlj+wwprJPAncn6jhjKgf59SFvqkTnb2ASnL95t3J6Hq3w7oaWAtLa229y5cb9980/WO37WBOtCpOPXhjE4dS0+jkJeXL2Oe/49p/o/HHpLY2NhAXTmWaXvt5y5ryuZ6p6ZstivqfnX/+vSTPgVFQgCB8AucbkAvOqmaJDZvaA40/5etcuJInuego5MT5fwxD5n3+6xg3iErqFeWlNyuhQn8F+7OksKd+3yaNvjncInLrC05P6yT3a9O9ylzekNAz0mFPAQQQAABBBBAAAEEEEAguIAG2TTYdp01teTFfqaW/Orrb0WXaambmSF33zU4eKcONezYREJCgjzy0P0ONQJnrVy5WmbPmWf+H6kPoqenp5VqcPToUZkxc7Zs3ry1VJkOLNIlZnQZGU3/849HzAPvpSqeyiCg50/m7MivFAE9XTtKh7XqDWT9gXVKOjJDR2hoGnrXYMm0PqRukn5Y/j3mRVPVaUirvz7s6L6WD7LW0WvQoL61RUIAAQTKJxAo4KZD7p98+lkzgi/YUzj+9h6q/nWq4mnvz3DcjU5NqU9G6Xd1oHVJ9TvT6ZcXx05PZQYK6P366w554813gk7LHKj/QAE9+5c/fdpLn/oiIYBA+AVON6Cna+rp2nqadjz/tuT/vMVz0AmNz5M/PXIyOL/jubdEA35lSU1eeUKioqvIgXlfS/bMLzxNo6zRw43HPn6ybO5Xkj1rkafM3wYBPX8y5COAAAIIIIAAAggggAACgQUmTHpTdu3abZbFuurKyx0rL/h0oSxesszMttev762OdYJlzpn3sfz448pyrcO3Z89ec89K75np8l3+jtM+hrVrf5Zfd+6U36xpONPT06Vhw/rSsEF92W0tM6PnG2zAk/ZDQM/WPDtfK0VAz57uTC+Bv9EXhw4dlv+8fHLo6wOjRoguUOk22VN16mKUuiil2zTZuoG83bqRfLqLarrdH/UQQKDiCgQKuOmDB+9/MFN0ruzh9wx1nHIymEy4+9f9L1/+o8z7eIHoVMSDbu8f7JDKVB4ooKfzkOuivSnWgsC6hl55UqCA3tJly2XVqp+s6RuayeXtLytP97RBAIEyCoQzoFf96raSMaiXOaLNjzwnJw7nluno/AX0dE2+Bv86udbzntdnyJGlPwXtl4BeUCIqIIAAAggggAACCCCAAAKOAvbyNHqvpkvnax3rzJo9V1atXiMXtblQevfq4VgnWOa48RPMdJe6dp7O1uc26fp+r0+cbK3zl3taAUXd37qfrdmjrHuDbmaPIqDn9gqdmXqVIqDnPZ3akMGD5Nxz6pXS/mX9BnnPGjWiays9/veHXd/w1pEvT40eI7p+UqAFNEvt0MrQqTp1ys5k6ybyg/ePcKpCHgIIIOBKIFDAzVUHQSqFu3/d/ZkK6AU5dVfFgQJ6rjqgEgIIhFQgnAG9KvFxEmsF32Jrpkju6g1lPm5/AT0dtRebZvVbq7oU7NgjRTn5QfsmoBeUiAoIIIAAAggggAACCCCAgKOAPlSu96J0FNvtA/o51nn1tYlmCa0/X32lXNPhasc6gTJ1JiqdFVBjCPoQefNmTQNV95TpiLxJk9+WvXv3Sc2aNcyMgoFms/I09LNhjxJs2cKaPcpayiZQIqAXSOfMl1WKgJ4yT3rjLdlhTfXmLxI+Z6419HXFSrmgSWPp2+cW11fmgDV8dewr4039O61g4TkOwUJ/nc3/5FNZtuwHSa1VS0YMH+avGvkIIIBAUIFwB9zC3b+eIAG9oJeZCggg4FIgnAE9l4fgt5q/gJ7fBgEKCOgFwKEIAQQQQAABBBBAAAEEEAggsGXLNnl7ylSz9MujDz8gsbGxPrV1hNzzL441ecPuHiIZGXV8yt288Z450N9Ao5L96NJgU6a+Lzt27DSzCA7+y0CpUaNGyWqu32t/z73wsmiQ0E1QkYCea9ozUrHSBPRWrFwlH82ZL6mpteSeYXf5LPyoP9QalMvNzTPBPA3qaSouLhZd+6j9Ze38ruf0wYxZsnbdzxIfH29G2cXFxZm2GzZusqa3y5FL/CyoqR8gHW578OAhadGimdxy0w2mHX8hgAAC5REId8At3P3rORPQK8+Vpw0CCDgJENBzUiEPAQQQQAABBBBAAAEEEEDAFtBRc7oE1+HDR+SG3tfJhRe2sovM63ffL5bPFi6SjDp1ZNjQk2use1fYt2+/pKXVDjjT36bNW2TKu++ZZjqgRwf2BEr5+UdNkFFH5iUlJcodVjAvWBu7Pz2fqKgo+63n9YtFX8nX33xn+hs18l6JiYnxlDltENBzUjl78ipNQE+Ht2pEXYN3bdu2kV49u3uuwvvTP5Sff1lv/VAnyQOjhns+hF9+9Y3oH11Pr9d1PaRRwwaeD0VRUZFZc+n7xUtNP9f36ilt2rQ227oP/TI4erRAmjW9QLp26STVq6d49peXlyc6InD9ho2mv9sH9JUGDep7ytlAAAEESgrMnjPPWodtTclsz3v9R9tOTv9422Xer127dJTLLm1nssLd/8zZc6TA+k4MlHQt0/1ZWZKQkOA4NXLJtjrVgf101Etjx4m295fK4zP0rsGm/8OHdY3Vcf66Nvl2/27t9SEQffqLhAAC4RFwE9BL7d1BanS42PEAoqKjJToxwZQV5R2V363f+4KlrU+8LMUFxySxeUPJuNP/epwxKUmmq+LC41Js/c4YLO2dNEvy1m52rMYIPUcWMhFAAAEEEEAAAQQQQAABVwL2/X8dpKP3gXQwkKbdu/eYKS81BtCje1dpd0lbk2//NePD2fLT2nVSq1ZNGX7PUE88wS63X3X9PV2HT5PeBwo0baaOCHzrnamSnX1AqlVLkDsGDZTatVPNUl/2fSe7X73/5D2iUIOPmzZvlZtvvN4E7rSettHBSnqOmrSsZcvmZjvQXwT0Aumc+bKIC+jpnLO6Xp2d9EOlSX+Idf07O+mN3iuvaG+/Na/bt/9qhqvq6LgaNapbN4zPkW1Wnn5Y9MM0aGA/yczM8LTRtffmzvtYdH09Tfoh0fLY2BjZs2evaMRcU6tWLeSmG3qbbfuvzdYHaNZHc8yoP83TdfLqWm2PHj0qe6wIux6DJj1OnYOXhAACCAQS0PU29ameUKZ2F7eV5s1Pzt0d7v51aH9ubm4oD18GWg9D6IMWmnS0dK71sEQoU2/rQQ79xUwfwphu9R/KFGs9DTWgf59QdklfCCDgJeAmoJd2Wxep1eVyr1ant7lx1GgroFcoSa2bSL2R/U6vM6/Wu8ZOk9xV671y/tgkoPeHBVsIIIAAAggggAACCCCAQFkFdIa+6R/MNPf/o60HOxvUP8/M2qcxAy1r3bqlGb3n/QC3xiOeGj3GlOv+Ak2lqffbFn6+yMQtnnj8Ub+Hp4ORxo2faD2sfsjU0QCj7lMHDjklnYJz1Mh7TJG2Hf/6JPntt4NmVsI66WlWQLCa6PJj2l776d6tS6mgpDa2A5fe+/AXb7lj0ACf5camTpsum7ds9TRVLzvwqJZ2UlPugdkap/8acQG9J59+1ieg54+g47Ud5KorS9+k0Q/j/PkLJCs729M03foh722NsKtXN9OT572xes1PsmTJcjNyxP6B1vLk5CTp1qWz54a4dxvdzs/PlwWffm6ChkeOHPEp1n126dzRczPap5A3CCCAQAUT8H4QI1Snpr8ceP9CFap+6QcBBCJfwE1AT0fgValWNWQnezzb+o+X9QRklbhYia5+chReKDovOpwrxcdOPghWsj8CeiVFeI8AAggggAACCCCAAAIIlE1AA1FzrEE969b9Ihoc06SDf3QQT/eunR3vPb1rrXG3cdNmSUxMNDP+eQewvPf+yYKFsmTpMjNq7m8P3Odd5LPtvV6fT4GfN94BPa2ix/3JpwtlzZq1PrETHeHXzToH+4H4kt3tskYiTpg4uWS24/uSgUudStTN4IOGDevL7QNC99Cr48FVosyIC+iF6troiIu91jy3mRkZZgirm371w52VlS051iiT9LQ0MxWnm3ZaR0fm6dy3+uFOTU21PuzV3DalHgIIIIAAAggggEAZBNwE9MrQ3VlblYDeWXtpODAEEEAAAQQQQAABBBCIMAG996+z8kVZswBmZtRxDOTZp6Qj0Xbu2m2tr5fuM/WlXX6mXvW4dCBTTk6uNVtgprWsTegeYj1T58R+fQUqbUDPl4F3CCCAAAIIIIAAAhVFgIBeRbmSnAcCCCCAAAIIIIAAAggggAACCNgCBPRsCV4RQAABBBBAAAEEKoQAAb0KcRk5CQQQQAABBBBAAAEEEEAAAQQQ8BIgoOeFwSYCCCCAAAIIIIBA5AsQ0Iv8a8gZIIAAAggggAACCCCAAAIIIICArwABPV8P3iGAAAIIIIAAAghEuAABvQi/gBw+AggggAACCCCAAAIIIIAAAgiUEiCgV4qEDAQQQAABBBBAAIFIFiCgF8lXj2NHAAEEEEAAAQQQQAABBBBAAAEnAQJ6TirkIYAAAggggAACCESsAAG9iL10HDgCCCCAAAIIIIAAAggggAACCPgRIKDnB4ZsBBBAAAEEEEAAgcgUIKAXmdeNo0YAAQQQQAABBBBAAAEEEEAAAf8CBPT821CCAAIIIIAAAgggEIECBPQi8KJxyAgggAACCCCAAAIIIIAAAgggEFCAgF5AHgoRQAABBBBAAAEEIk2AgF6kXTGOFwEEEEAAAQQQQAABBBBAAAEEggkQ0AsmRDkCCCCAAAIIIIBARAkQ0Iuoy8XBIoAAAggggAACCCCAAAIIIICACwECei6QqIIAAggggAACCCAQOQIE9CLnWnGkCCCAAAIIIIAAAggggAACCCDgToCAnjsnaiGAAAIIIIAAAghEiAABvQi5UBwmAggggAACCCCAAAIIIIAAAgi4FiCg55qKiggggAACCCCAAAKRIGAH9LIeHyu/FxVHwiGX+RijoqtI2pMjTLuaNWuWuT0NEEAAAQQQQAABBBBAAAEEEEAgsgQI6EXW9eJoEUAAAQQQQAABBIIIHDlyRIqKiuS3l6bJiZ37g9SOzOKYc9Kl1n19JTo6WlJSUiLzJDhqBBBAAAEEEEAAAQQQQAABBBBwLUBAzzUVFRFAAAEEEEAAAQQiQSAvL0+OHTsm+V/+KLnzvo2EQy7zMSb1vFKqdWgrcXFxkpiYWOb2NEAAAQQQQAABBBBAAAEEEEAAgcgSIKAXWdeLo0UAAQQQQAABBBAIInDixAnJyckxtSriKD17dJ6eYHJyssTExAQRoRgBBBBAAAEEEEAAAQQQQAABBCJdgIBepF9Bjh8BBBBAAAEEEECglIA9Sq/owGE5POXjCjP1pgbzqg/oLtGp1RmdV+qqk4EAAggggAACCCCAAAIIIIBAxRUgoFdxry1nhgACCCCAAAIIVGqB3NxcOX78uDHQ6TcLVm+Uoj3Z8ntRcUS5REVXkejM2lK1dWMzzaYefGxsrCQlJUXUeXCwCCCAAAIIIIAAAggggAACCCBQfgECeuW3oyUCCCCAAAIIIIDAWS5gj9Q7yw+zTIfHunll4qIyAggggAACCCCAAAIIIIAAAhVCgIBehbiMnAQCCCCAAAIIIICAPwFdU6+wsFCKiorMH3/1zub86Oho0T/x8fGsmXc2XyiODQEEEEAAAQQQQAABBBBAAIEwCRDQCxMs3SKAAAIIIIAAAggggAACCCCAAAIIIIAAAggggAACCCAQCgECeqFQpA8EEEAAAQQQQAABBBBAAAEEEEAAAQQQQAABBBBAAAEEwiRAQC9MsHSLAAIIIIAAAggggAACCCCAAAIIIIAAAggggAACCCCAQCgECOiFQpE+EEAAAQQQQAABBBBAAAEEEEAAAQQQQAABBBBAAAEEEAiTAAG9MMHSLQIIIIAAAggggAACCCCAAAIIIIAAAggggAACCCCAAAKhECCgFwpF+kAAAQQQQAABBBBAAAEEEEAAAQQQQAABBBBAAAEEEEAgTAIE9MIES7cIIIAAAggggAACCCCAAAIIIIAAAggggAACCCCAAAIIhEKAgF4oFOkDAQQQQAABBBBAAAEEEEAAAQQQQAABBBBAAAEEEEAAgTAJENALEyzdIoAAAggggAACCCCAAAIIIIAAAggggAACCCCAAAIIIBAKAQJ6oVCkDwQQQAABBBBAAAEEEEAAAQQQQAABBBBAAAEEEEAAAQTCJEBAL0ywdIsAAggggAACCCCAAAIIIIAAAggggAACCCCAAAIIIIBAKAQI6IVCkT4QQAABBBBAAAEEEEAAAQQQQAABBBBAAAEEEEAAAQQQCJMAAb0wwdItAggggAACCCCAAAIIIIAAAggggAACCCCAAAIIIIAAAqEQIKAXCkX6QAABBBBAAAEEEEAAAQQQQAABBBBAAAEEEEAAAQQQQCBMAgT0wgRLtwgggAACCCCAAAIIIIAAAggggAACCCCAAAIIIIAAAgiEQoCAXigU6QMBBBBAAAEEEEAAAQQQQAABBBBAAAEEEEAAAQQQQACBMAkQ0AsTLN0igAACCCCAAAIIIIAAAggggAACCCCAAAIIIIAAAgggEAoBAnqhUKQPBBBAAAEEEEAAAQQQQAABBBBAAAEEEEAAAQQQQAABBMIkQEAvTLB0iwACCCCAAAIIIIAAAggggAACCCCAAAIIIIAAAggggEAoBAjohUKRPhBAAAEEEEAAAQQQQAABBBBAAAEEEEAAAQQQQAABBBAIkwABvTDB0i0CCCCAAAIIIIAAAggggAACCCCAAAIIIIAAAggggAACoRAgoBcKRfpAAAEEEEAAAQQQQAABBBBAAAEEEEAAAQQQQAABBBBAIEwCBPTCBEu3CCCAAAIIIIAAAggggAACCCCAAAIIIIAAAggggAACCIRC4P8ByNEAzKSHQ+wAAAAASUVORK5CYII=)"
      ],
      "metadata": {
        "id": "mpeFFxfFVS6H"
      }
    },
    {
      "cell_type": "markdown",
      "source": [
        "#### 객실에 대한 데이터가 부실했으니 없이 ..?"
      ],
      "metadata": {
        "id": "x3dgHDKkV9QA"
      }
    },
    {
      "cell_type": "code",
      "source": [
        "X_train.columns"
      ],
      "metadata": {
        "colab": {
          "base_uri": "https://localhost:8080/"
        },
        "id": "MZpNIsnhWVfP",
        "outputId": "0827a121-54bb-4f18-b1fe-82d80b948de0"
      },
      "execution_count": null,
      "outputs": [
        {
          "output_type": "execute_result",
          "data": {
            "text/plain": [
              "Index(['Pclass', 'Sex', 'Age', 'SibSp', 'Parch', 'Fare', 'Embarked',\n",
              "       'divName_keyword2', 'divCabin'],\n",
              "      dtype='object')"
            ]
          },
          "metadata": {},
          "execution_count": 457
        }
      ]
    },
    {
      "cell_type": "code",
      "source": [
        "X = train_df_modify.drop(['Survived','divCabin'], axis=1)\n",
        "y = train_df_modify['Survived']\n",
        "\n",
        "X_train, X_test, y_train, y_test = train_test_split(X, y, test_size=0.2, random_state=52)\n",
        "\n",
        "tree = DecisionTreeClassifier()\n",
        "rf = RandomForestClassifier()\n",
        "xgb = XGBClassifier()\n",
        "logi = LogisticRegression()\n",
        "\n",
        "tree.fit(X_train, y_train)\n",
        "rf.fit(X_train, y_train)\n",
        "xgb.fit(X_train, y_train)\n",
        "logi.fit(X_train, y_train)\n",
        "\n",
        "tree_pred = tree.predict(test2_df.drop('divCabin', axis=1))\n",
        "rf_pred = rf.predict(test2_df.drop('divCabin', axis=1))\n",
        "xgb_pred = xgb.predict(test2_df.drop('divCabin', axis=1))\n",
        "logi_pred = logi.predict(test2_df.drop('divCabin', axis=1))\n",
        "\n",
        "print(\"DecisionTree : {:.2f}%\" .format(tree.score(X_test, y_test)*100))\n",
        "print(\"RandomForest : {:.2f}%\" .format(rf.score(X_test, y_test)*100))\n",
        "print(\"XGBoost : {:.2f}%\" .format(xgb.score(X_test, y_test)*100))\n",
        "print(\"Logisitc : {:.2f}%\" .format(logi.score(X_test, y_test)*100))"
      ],
      "metadata": {
        "colab": {
          "base_uri": "https://localhost:8080/"
        },
        "id": "TYkpSa5LWGd7",
        "outputId": "b8a5c482-c00c-4511-cb92-1f3add723409"
      },
      "execution_count": null,
      "outputs": [
        {
          "output_type": "stream",
          "name": "stdout",
          "text": [
            "DecisionTree : 75.42%\n",
            "RandomForest : 81.01%\n",
            "XGBoost : 82.12%\n",
            "Logisitc : 81.01%\n"
          ]
        }
      ]
    },
    {
      "cell_type": "code",
      "source": [
        "submission['Survived'] = xgb_pred\n",
        "submission.to_csv('/content/drive/MyDrive/ds_study/ML/02.titanic/submission2.csv', index=False)"
      ],
      "metadata": {
        "id": "ztgLUMzkWLKu"
      },
      "execution_count": null,
      "outputs": []
    },
    {
      "cell_type": "markdown",
      "source": [
        "#### 훈련, 테스트 모두 큰 변화는 없었음 최종 데이터에는 0.2% 하락.. 의미있는 분류는 아니었음\n",
        "\n",
        "![스크린샷 2023-03-12 오후 7.27.32.png](data:image/png;base64,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)"
      ],
      "metadata": {
        "id": "uw6NX_ltWkCN"
      }
    },
    {
      "cell_type": "markdown",
      "source": [
        "## 다시 전처리"
      ],
      "metadata": {
        "id": "J5PIXRgfXDo1"
      }
    },
    {
      "cell_type": "markdown",
      "source": [
        "### 수정해 볼 부분\n",
        "- 별칭 구분을 생각한 기준대로 잘 분리되지 않았음을 알 수 있었음\n",
        "- 나이를 먼저 확인하고 구분해주는 방식으로 처리\n",
        "- 나이를 확인할때 나이를 유아, 청소년, 성인1, 성인2, 노인 5가지 그룹으로 나누기로함\n",
        "  - 유아 : ~ 7세\n",
        "  - 청소년 : ~17세\n",
        "  - 성인1 : ~ 30세\n",
        "  - 성인2 : ~ 59세\n",
        "  - 노인 : 60세 ~"
      ],
      "metadata": {
        "id": "jsTNZHe2KAEo"
      }
    },
    {
      "cell_type": "code",
      "source": [
        "train_3 = train_df.copy()\n",
        "test_3 = test_df.copy()"
      ],
      "metadata": {
        "id": "NEd3m3TKKmGi"
      },
      "execution_count": 234,
      "outputs": []
    },
    {
      "cell_type": "code",
      "source": [
        "train_3['divName'] = train_3['Name'].apply(divName)\n",
        "test_3['divName'] = test_3['Name'].apply(divName)"
      ],
      "metadata": {
        "id": "Z_i3wfhMlYXx"
      },
      "execution_count": 235,
      "outputs": []
    },
    {
      "cell_type": "code",
      "source": [
        "# 나이는 177개의 결측치가 있음. 이를 제외하고 우선 분류 진행\n",
        "import numpy as np\n",
        "def divAge(age):\n",
        "  if age <= 5:\n",
        "    return \"child\"\n",
        "  elif age <= 17:\n",
        "    return \"Teenager\"\n",
        "  elif age <= 30:\n",
        "    return 'Adult1'\n",
        "  elif age <= 59:\n",
        "    return \"Adult2\"\n",
        "  elif age >= 60:\n",
        "    return \"Old man\"\n",
        "  else:\n",
        "    return ''"
      ],
      "metadata": {
        "id": "35pMcf5AK7LA"
      },
      "execution_count": 236,
      "outputs": []
    },
    {
      "cell_type": "code",
      "source": [
        "train_3['divAge'] = train_3['Age'].apply(divAge)\n",
        "test_3['divAge'] = test_3['Age'].apply(divAge)"
      ],
      "metadata": {
        "id": "gNFHugwDLVSq"
      },
      "execution_count": 237,
      "outputs": []
    },
    {
      "cell_type": "code",
      "source": [
        "def divName3(name, age, sex):\n",
        "  \n",
        "  text_Mr = ['Mr', 'Sir']\n",
        "  text_Mrs = ['Mrs', 'Mme']\n",
        "  text_Master = ['Master', 'Mlle']\n",
        "  text_Miss = ['Miss', 'Lady', 'Ms']\n",
        "\n",
        "  if name in text_Mr:\n",
        "    if age <= 18:\n",
        "      return 'Master'\n",
        "    elif age >18:\n",
        "      return 'Mr'\n",
        "    else:\n",
        "      return ''\n",
        "\n",
        "  elif name in text_Mrs:\n",
        "    if age <= 18:\n",
        "      return 'Miss'\n",
        "    elif age > 18:\n",
        "      return 'Mrs'\n",
        "    else:\n",
        "      return ''\n",
        "  \n",
        "  elif name in text_Master:\n",
        "    if age > 18:\n",
        "      return 'Mr'\n",
        "    elif age <= 18:\n",
        "      return 'Master'\n",
        "    else:\n",
        "      return ''\n",
        "    \n",
        "  elif name in text_Miss:\n",
        "    if age <= 18:\n",
        "      return 'Miss'\n",
        "    elif age > 18:\n",
        "      return 'Ms'\n",
        "    else:\n",
        "      return ''\n",
        "  \n",
        "  elif name == 'Major':\n",
        "    if sex == 'male':\n",
        "      return 'Master'\n",
        "    else:\n",
        "      return 'Miss'\n",
        "\n",
        "  else:\n",
        "    return 'Unknown'\n",
        "    "
      ],
      "metadata": {
        "id": "h0rwlnfNMdmK"
      },
      "execution_count": 295,
      "outputs": []
    },
    {
      "cell_type": "code",
      "source": [
        "train_3['divName2'] = train_3.apply(lambda x : divName3(x['divName'], x['Age'], x['Sex']), axis=1)\n",
        "test_3['divName2'] = test_3.apply(lambda x : divName3(x['divName'], x['Age'], x['Sex']), axis=1)\n"
      ],
      "metadata": {
        "id": "oZStuCJLMecw"
      },
      "execution_count": 239,
      "outputs": []
    },
    {
      "cell_type": "code",
      "source": [
        "train_3[train_3['Age'].isnull()][train_3[train_3['Age'].isnull()]['divName2'] == 'Unknown']"
      ],
      "metadata": {
        "colab": {
          "base_uri": "https://localhost:8080/",
          "height": 424
        },
        "id": "oHkmrVyiOAb0",
        "outputId": "23a023c4-f526-4a63-d343-a07382fde250"
      },
      "execution_count": 230,
      "outputs": [
        {
          "output_type": "execute_result",
          "data": {
            "text/plain": [
              "     PassengerId  Survived  Pclass                                      Name  \\\n",
              "5              6         0       3                          Moran, Mr. James   \n",
              "17            18         1       2              Williams, Mr. Charles Eugene   \n",
              "19            20         1       3                   Masselmani, Mrs. Fatima   \n",
              "26            27         0       3                   Emir, Mr. Farred Chehab   \n",
              "28            29         1       3             O'Dwyer, Miss. Ellen \"Nellie\"   \n",
              "..           ...       ...     ...                                       ...   \n",
              "859          860         0       3                          Razi, Mr. Raihed   \n",
              "863          864         0       3         Sage, Miss. Dorothy Edith \"Dolly\"   \n",
              "868          869         0       3               van Melkebeke, Mr. Philemon   \n",
              "878          879         0       3                        Laleff, Mr. Kristo   \n",
              "888          889         0       3  Johnston, Miss. Catherine Helen \"Carrie\"   \n",
              "\n",
              "        Sex  Age  SibSp  Parch      Ticket     Fare Cabin Embarked divName  \\\n",
              "5      male  NaN      0      0      330877   8.4583   NaN        Q      Mr   \n",
              "17     male  NaN      0      0      244373  13.0000   NaN        S      Mr   \n",
              "19   female  NaN      0      0        2649   7.2250   NaN        C     Mrs   \n",
              "26     male  NaN      0      0        2631   7.2250   NaN        C      Mr   \n",
              "28   female  NaN      0      0      330959   7.8792   NaN        Q    Miss   \n",
              "..      ...  ...    ...    ...         ...      ...   ...      ...     ...   \n",
              "859    male  NaN      0      0        2629   7.2292   NaN        C      Mr   \n",
              "863  female  NaN      8      2    CA. 2343  69.5500   NaN        S    Miss   \n",
              "868    male  NaN      0      0      345777   9.5000   NaN        S      Mr   \n",
              "878    male  NaN      0      0      349217   7.8958   NaN        S      Mr   \n",
              "888  female  NaN      1      2  W./C. 6607  23.4500   NaN        S    Miss   \n",
              "\n",
              "    divAge divName2  \n",
              "5           Unknown  \n",
              "17          Unknown  \n",
              "19          Unknown  \n",
              "26          Unknown  \n",
              "28          Unknown  \n",
              "..     ...      ...  \n",
              "859         Unknown  \n",
              "863         Unknown  \n",
              "868         Unknown  \n",
              "878         Unknown  \n",
              "888         Unknown  \n",
              "\n",
              "[177 rows x 15 columns]"
            ],
            "text/html": [
              "\n",
              "  <div id=\"df-03853133-eacf-4136-af5e-7580a0f6cfe3\">\n",
              "    <div class=\"colab-df-container\">\n",
              "      <div>\n",
              "<style scoped>\n",
              "    .dataframe tbody tr th:only-of-type {\n",
              "        vertical-align: middle;\n",
              "    }\n",
              "\n",
              "    .dataframe tbody tr th {\n",
              "        vertical-align: top;\n",
              "    }\n",
              "\n",
              "    .dataframe thead th {\n",
              "        text-align: right;\n",
              "    }\n",
              "</style>\n",
              "<table border=\"1\" class=\"dataframe\">\n",
              "  <thead>\n",
              "    <tr style=\"text-align: right;\">\n",
              "      <th></th>\n",
              "      <th>PassengerId</th>\n",
              "      <th>Survived</th>\n",
              "      <th>Pclass</th>\n",
              "      <th>Name</th>\n",
              "      <th>Sex</th>\n",
              "      <th>Age</th>\n",
              "      <th>SibSp</th>\n",
              "      <th>Parch</th>\n",
              "      <th>Ticket</th>\n",
              "      <th>Fare</th>\n",
              "      <th>Cabin</th>\n",
              "      <th>Embarked</th>\n",
              "      <th>divName</th>\n",
              "      <th>divAge</th>\n",
              "      <th>divName2</th>\n",
              "    </tr>\n",
              "  </thead>\n",
              "  <tbody>\n",
              "    <tr>\n",
              "      <th>5</th>\n",
              "      <td>6</td>\n",
              "      <td>0</td>\n",
              "      <td>3</td>\n",
              "      <td>Moran, Mr. James</td>\n",
              "      <td>male</td>\n",
              "      <td>NaN</td>\n",
              "      <td>0</td>\n",
              "      <td>0</td>\n",
              "      <td>330877</td>\n",
              "      <td>8.4583</td>\n",
              "      <td>NaN</td>\n",
              "      <td>Q</td>\n",
              "      <td>Mr</td>\n",
              "      <td></td>\n",
              "      <td>Unknown</td>\n",
              "    </tr>\n",
              "    <tr>\n",
              "      <th>17</th>\n",
              "      <td>18</td>\n",
              "      <td>1</td>\n",
              "      <td>2</td>\n",
              "      <td>Williams, Mr. Charles Eugene</td>\n",
              "      <td>male</td>\n",
              "      <td>NaN</td>\n",
              "      <td>0</td>\n",
              "      <td>0</td>\n",
              "      <td>244373</td>\n",
              "      <td>13.0000</td>\n",
              "      <td>NaN</td>\n",
              "      <td>S</td>\n",
              "      <td>Mr</td>\n",
              "      <td></td>\n",
              "      <td>Unknown</td>\n",
              "    </tr>\n",
              "    <tr>\n",
              "      <th>19</th>\n",
              "      <td>20</td>\n",
              "      <td>1</td>\n",
              "      <td>3</td>\n",
              "      <td>Masselmani, Mrs. Fatima</td>\n",
              "      <td>female</td>\n",
              "      <td>NaN</td>\n",
              "      <td>0</td>\n",
              "      <td>0</td>\n",
              "      <td>2649</td>\n",
              "      <td>7.2250</td>\n",
              "      <td>NaN</td>\n",
              "      <td>C</td>\n",
              "      <td>Mrs</td>\n",
              "      <td></td>\n",
              "      <td>Unknown</td>\n",
              "    </tr>\n",
              "    <tr>\n",
              "      <th>26</th>\n",
              "      <td>27</td>\n",
              "      <td>0</td>\n",
              "      <td>3</td>\n",
              "      <td>Emir, Mr. Farred Chehab</td>\n",
              "      <td>male</td>\n",
              "      <td>NaN</td>\n",
              "      <td>0</td>\n",
              "      <td>0</td>\n",
              "      <td>2631</td>\n",
              "      <td>7.2250</td>\n",
              "      <td>NaN</td>\n",
              "      <td>C</td>\n",
              "      <td>Mr</td>\n",
              "      <td></td>\n",
              "      <td>Unknown</td>\n",
              "    </tr>\n",
              "    <tr>\n",
              "      <th>28</th>\n",
              "      <td>29</td>\n",
              "      <td>1</td>\n",
              "      <td>3</td>\n",
              "      <td>O'Dwyer, Miss. Ellen \"Nellie\"</td>\n",
              "      <td>female</td>\n",
              "      <td>NaN</td>\n",
              "      <td>0</td>\n",
              "      <td>0</td>\n",
              "      <td>330959</td>\n",
              "      <td>7.8792</td>\n",
              "      <td>NaN</td>\n",
              "      <td>Q</td>\n",
              "      <td>Miss</td>\n",
              "      <td></td>\n",
              "      <td>Unknown</td>\n",
              "    </tr>\n",
              "    <tr>\n",
              "      <th>...</th>\n",
              "      <td>...</td>\n",
              "      <td>...</td>\n",
              "      <td>...</td>\n",
              "      <td>...</td>\n",
              "      <td>...</td>\n",
              "      <td>...</td>\n",
              "      <td>...</td>\n",
              "      <td>...</td>\n",
              "      <td>...</td>\n",
              "      <td>...</td>\n",
              "      <td>...</td>\n",
              "      <td>...</td>\n",
              "      <td>...</td>\n",
              "      <td>...</td>\n",
              "      <td>...</td>\n",
              "    </tr>\n",
              "    <tr>\n",
              "      <th>859</th>\n",
              "      <td>860</td>\n",
              "      <td>0</td>\n",
              "      <td>3</td>\n",
              "      <td>Razi, Mr. Raihed</td>\n",
              "      <td>male</td>\n",
              "      <td>NaN</td>\n",
              "      <td>0</td>\n",
              "      <td>0</td>\n",
              "      <td>2629</td>\n",
              "      <td>7.2292</td>\n",
              "      <td>NaN</td>\n",
              "      <td>C</td>\n",
              "      <td>Mr</td>\n",
              "      <td></td>\n",
              "      <td>Unknown</td>\n",
              "    </tr>\n",
              "    <tr>\n",
              "      <th>863</th>\n",
              "      <td>864</td>\n",
              "      <td>0</td>\n",
              "      <td>3</td>\n",
              "      <td>Sage, Miss. Dorothy Edith \"Dolly\"</td>\n",
              "      <td>female</td>\n",
              "      <td>NaN</td>\n",
              "      <td>8</td>\n",
              "      <td>2</td>\n",
              "      <td>CA. 2343</td>\n",
              "      <td>69.5500</td>\n",
              "      <td>NaN</td>\n",
              "      <td>S</td>\n",
              "      <td>Miss</td>\n",
              "      <td></td>\n",
              "      <td>Unknown</td>\n",
              "    </tr>\n",
              "    <tr>\n",
              "      <th>868</th>\n",
              "      <td>869</td>\n",
              "      <td>0</td>\n",
              "      <td>3</td>\n",
              "      <td>van Melkebeke, Mr. Philemon</td>\n",
              "      <td>male</td>\n",
              "      <td>NaN</td>\n",
              "      <td>0</td>\n",
              "      <td>0</td>\n",
              "      <td>345777</td>\n",
              "      <td>9.5000</td>\n",
              "      <td>NaN</td>\n",
              "      <td>S</td>\n",
              "      <td>Mr</td>\n",
              "      <td></td>\n",
              "      <td>Unknown</td>\n",
              "    </tr>\n",
              "    <tr>\n",
              "      <th>878</th>\n",
              "      <td>879</td>\n",
              "      <td>0</td>\n",
              "      <td>3</td>\n",
              "      <td>Laleff, Mr. Kristo</td>\n",
              "      <td>male</td>\n",
              "      <td>NaN</td>\n",
              "      <td>0</td>\n",
              "      <td>0</td>\n",
              "      <td>349217</td>\n",
              "      <td>7.8958</td>\n",
              "      <td>NaN</td>\n",
              "      <td>S</td>\n",
              "      <td>Mr</td>\n",
              "      <td></td>\n",
              "      <td>Unknown</td>\n",
              "    </tr>\n",
              "    <tr>\n",
              "      <th>888</th>\n",
              "      <td>889</td>\n",
              "      <td>0</td>\n",
              "      <td>3</td>\n",
              "      <td>Johnston, Miss. Catherine Helen \"Carrie\"</td>\n",
              "      <td>female</td>\n",
              "      <td>NaN</td>\n",
              "      <td>1</td>\n",
              "      <td>2</td>\n",
              "      <td>W./C. 6607</td>\n",
              "      <td>23.4500</td>\n",
              "      <td>NaN</td>\n",
              "      <td>S</td>\n",
              "      <td>Miss</td>\n",
              "      <td></td>\n",
              "      <td>Unknown</td>\n",
              "    </tr>\n",
              "  </tbody>\n",
              "</table>\n",
              "<p>177 rows × 15 columns</p>\n",
              "</div>\n",
              "      <button class=\"colab-df-convert\" onclick=\"convertToInteractive('df-03853133-eacf-4136-af5e-7580a0f6cfe3')\"\n",
              "              title=\"Convert this dataframe to an interactive table.\"\n",
              "              style=\"display:none;\">\n",
              "        \n",
              "  <svg xmlns=\"http://www.w3.org/2000/svg\" height=\"24px\"viewBox=\"0 0 24 24\"\n",
              "       width=\"24px\">\n",
              "    <path d=\"M0 0h24v24H0V0z\" fill=\"none\"/>\n",
              "    <path d=\"M18.56 5.44l.94 2.06.94-2.06 2.06-.94-2.06-.94-.94-2.06-.94 2.06-2.06.94zm-11 1L8.5 8.5l.94-2.06 2.06-.94-2.06-.94L8.5 2.5l-.94 2.06-2.06.94zm10 10l.94 2.06.94-2.06 2.06-.94-2.06-.94-.94-2.06-.94 2.06-2.06.94z\"/><path d=\"M17.41 7.96l-1.37-1.37c-.4-.4-.92-.59-1.43-.59-.52 0-1.04.2-1.43.59L10.3 9.45l-7.72 7.72c-.78.78-.78 2.05 0 2.83L4 21.41c.39.39.9.59 1.41.59.51 0 1.02-.2 1.41-.59l7.78-7.78 2.81-2.81c.8-.78.8-2.07 0-2.86zM5.41 20L4 18.59l7.72-7.72 1.47 1.35L5.41 20z\"/>\n",
              "  </svg>\n",
              "      </button>\n",
              "      \n",
              "  <style>\n",
              "    .colab-df-container {\n",
              "      display:flex;\n",
              "      flex-wrap:wrap;\n",
              "      gap: 12px;\n",
              "    }\n",
              "\n",
              "    .colab-df-convert {\n",
              "      background-color: #E8F0FE;\n",
              "      border: none;\n",
              "      border-radius: 50%;\n",
              "      cursor: pointer;\n",
              "      display: none;\n",
              "      fill: #1967D2;\n",
              "      height: 32px;\n",
              "      padding: 0 0 0 0;\n",
              "      width: 32px;\n",
              "    }\n",
              "\n",
              "    .colab-df-convert:hover {\n",
              "      background-color: #E2EBFA;\n",
              "      box-shadow: 0px 1px 2px rgba(60, 64, 67, 0.3), 0px 1px 3px 1px rgba(60, 64, 67, 0.15);\n",
              "      fill: #174EA6;\n",
              "    }\n",
              "\n",
              "    [theme=dark] .colab-df-convert {\n",
              "      background-color: #3B4455;\n",
              "      fill: #D2E3FC;\n",
              "    }\n",
              "\n",
              "    [theme=dark] .colab-df-convert:hover {\n",
              "      background-color: #434B5C;\n",
              "      box-shadow: 0px 1px 3px 1px rgba(0, 0, 0, 0.15);\n",
              "      filter: drop-shadow(0px 1px 2px rgba(0, 0, 0, 0.3));\n",
              "      fill: #FFFFFF;\n",
              "    }\n",
              "  </style>\n",
              "\n",
              "      <script>\n",
              "        const buttonEl =\n",
              "          document.querySelector('#df-03853133-eacf-4136-af5e-7580a0f6cfe3 button.colab-df-convert');\n",
              "        buttonEl.style.display =\n",
              "          google.colab.kernel.accessAllowed ? 'block' : 'none';\n",
              "\n",
              "        async function convertToInteractive(key) {\n",
              "          const element = document.querySelector('#df-03853133-eacf-4136-af5e-7580a0f6cfe3');\n",
              "          const dataTable =\n",
              "            await google.colab.kernel.invokeFunction('convertToInteractive',\n",
              "                                                     [key], {});\n",
              "          if (!dataTable) return;\n",
              "\n",
              "          const docLinkHtml = 'Like what you see? Visit the ' +\n",
              "            '<a target=\"_blank\" href=https://colab.research.google.com/notebooks/data_table.ipynb>data table notebook</a>'\n",
              "            + ' to learn more about interactive tables.';\n",
              "          element.innerHTML = '';\n",
              "          dataTable['output_type'] = 'display_data';\n",
              "          await google.colab.output.renderOutput(dataTable, element);\n",
              "          const docLink = document.createElement('div');\n",
              "          docLink.innerHTML = docLinkHtml;\n",
              "          element.appendChild(docLink);\n",
              "        }\n",
              "      </script>\n",
              "    </div>\n",
              "  </div>\n",
              "  "
            ]
          },
          "metadata": {},
          "execution_count": 230
        }
      ]
    },
    {
      "cell_type": "markdown",
      "source": [
        "Dr 의사일 것을 추정 30세 이상의 남자일것으로 보고'Audult2'로 분류 하기로 함\n",
        "\n",
        "나이에 대한 결측값은 평균과 중앙값이 크게 차이가 없고 나이대 분류에 영향을 주는 분류는 없기에 평균을 사용"
      ],
      "metadata": {
        "id": "It4hCMrPQNzL"
      }
    },
    {
      "cell_type": "code",
      "source": [
        "import numpy as np\n",
        "\n",
        "for key in train_3['divName2'].unique():\n",
        "  traget = train_3[~train_3['Age'].isnull()]\n",
        "  target = traget[traget['divName2'] == key]\n",
        "  print(key , ' Avg Age : ', target['Age'].mean())\n",
        "  print(key , ' Median Age : ', np.median(target['Age']))\n",
        "  print('-----')\n"
      ],
      "metadata": {
        "colab": {
          "base_uri": "https://localhost:8080/"
        },
        "id": "WyPcWOyUPZLw",
        "outputId": "31a39b89-2ff9-4f2c-e6b3-8d81746a5e6f"
      },
      "execution_count": 231,
      "outputs": [
        {
          "output_type": "stream",
          "name": "stdout",
          "text": [
            "Mr  Avg Age :  33.937974683544304\n",
            "Mr  Median Age :  31.0\n",
            "-----\n",
            "Mrs  Avg Age :  40.74561403508772\n",
            "Mrs  Median Age :  39.0\n",
            "-----\n",
            "Miss  Avg Age :  23.184782608695652\n",
            "Miss  Median Age :  23.5\n",
            "-----\n",
            "Unknown  Avg Age :  nan\n",
            "Unknown  Median Age :  nan\n",
            "-----\n",
            "Master  Avg Age :  8.85637931034483\n",
            "Master  Median Age :  9.0\n",
            "-----\n",
            "Girl  Avg Age :  9.236363636363636\n",
            "Girl  Median Age :  9.0\n",
            "-----\n"
          ]
        }
      ]
    },
    {
      "cell_type": "code",
      "source": [
        "def divAgeNull(divName):\n",
        "  if divName == 'Mr':\n",
        "    return 'Adult2'\n",
        "  elif divName == 'Mrs':\n",
        "    return 'Adult2'\n",
        "  elif divName == 'Miss':\n",
        "    return 'Adult1'\n",
        "  elif divName in ['Master', 'Girl']:\n",
        "    return 'Teenager'\n",
        "  else:\n",
        "    return 'Adult2'"
      ],
      "metadata": {
        "id": "cp-OqNYfQ4le"
      },
      "execution_count": 232,
      "outputs": []
    },
    {
      "cell_type": "code",
      "source": [
        "diff_idx = [idx for idx, row in train_3.iterrows() if row['divName']!= row['divName2']]\n",
        "train_3.loc[diff_idx]"
      ],
      "metadata": {
        "id": "uotB2p4XmG0n"
      },
      "execution_count": null,
      "outputs": []
    },
    {
      "cell_type": "code",
      "source": [
        "test_3[test_3['Age'].isnull()]['divName2'].unique() # 테스트 셋은 알 수 없는 사람이 없음"
      ],
      "metadata": {
        "colab": {
          "base_uri": "https://localhost:8080/"
        },
        "id": "a7MrXiInSXRg",
        "outputId": "3328aef2-0ad2-40e2-c127-7e0665cdedcf"
      },
      "execution_count": 240,
      "outputs": [
        {
          "output_type": "execute_result",
          "data": {
            "text/plain": [
              "array(['Unknown'], dtype=object)"
            ]
          },
          "metadata": {},
          "execution_count": 240
        }
      ]
    },
    {
      "cell_type": "code",
      "source": [
        "train_age_index = train_3[train_3['Age'].isnull()].index\n",
        "test_age_index = test_3[test_3['Age'].isnull()].index"
      ],
      "metadata": {
        "id": "U9lKZXmMSeUM"
      },
      "execution_count": 186,
      "outputs": []
    },
    {
      "cell_type": "code",
      "source": [
        "train_3['divAge'].loc[train_age_index] = train_3['divName2'].loc[train_age_index].apply(divAgeNull)\n",
        "test_3['divAge'].loc[test_age_index] = test_3['divName2'].loc[test_age_index].apply(divAgeNull)"
      ],
      "metadata": {
        "id": "kZMTVDnNS5oX"
      },
      "execution_count": 187,
      "outputs": []
    },
    {
      "cell_type": "code",
      "source": [
        "len(train_3[train_3['divName2']=='']), len(test_3[test_3['divName2']==''])"
      ],
      "metadata": {
        "colab": {
          "base_uri": "https://localhost:8080/"
        },
        "id": "FkTW0Vg9S7Sm",
        "outputId": "3e885242-d36b-4a36-df66-8dabd67ccf4a"
      },
      "execution_count": 188,
      "outputs": [
        {
          "output_type": "execute_result",
          "data": {
            "text/plain": [
              "(0, 0)"
            ]
          },
          "metadata": {},
          "execution_count": 188
        }
      ]
    },
    {
      "cell_type": "markdown",
      "source": [
        "### 새로운 분류 동승자(passenger)\n",
        "SipSp + Prach\n",
        "\n",
        "- 0 : Solo\n",
        "- 1 : Duo\n",
        "- 2 ~ 3 : Family\n",
        "- 4 ~ : Group\n",
        "\n"
      ],
      "metadata": {
        "id": "Dg3L9wYtTJFN"
      }
    },
    {
      "cell_type": "code",
      "source": [
        "def divPassenger(sibsp, parch):\n",
        "  cnt = sibsp + parch\n",
        "\n",
        "  if cnt ==0:\n",
        "    return 'Solo'\n",
        "  elif cnt == 1:\n",
        "    return 'Duo'\n",
        "  elif cnt < 4:\n",
        "    return 'Family'\n",
        "  else:\n",
        "    return 'Group'\n"
      ],
      "metadata": {
        "id": "HiiiaPjvTYIz"
      },
      "execution_count": 189,
      "outputs": []
    },
    {
      "cell_type": "code",
      "source": [
        "train_3.head(1)"
      ],
      "metadata": {
        "colab": {
          "base_uri": "https://localhost:8080/",
          "height": 81
        },
        "id": "SSjK9tjJUXL4",
        "outputId": "11228a93-83e5-4883-a5d6-e4bc5315fdbd"
      },
      "execution_count": 190,
      "outputs": [
        {
          "output_type": "execute_result",
          "data": {
            "text/plain": [
              "   PassengerId  Survived  Pclass                     Name   Sex   Age  SibSp  \\\n",
              "0            1         0       3  Braund, Mr. Owen Harris  male  22.0      1   \n",
              "\n",
              "   Parch     Ticket  Fare Cabin Embarked divName  divAge divName2  \n",
              "0      0  A/5 21171  7.25   NaN        S      Mr  Adult1       Mr  "
            ],
            "text/html": [
              "\n",
              "  <div id=\"df-c2a441ad-e85d-44f6-a6e8-8c386b38d503\">\n",
              "    <div class=\"colab-df-container\">\n",
              "      <div>\n",
              "<style scoped>\n",
              "    .dataframe tbody tr th:only-of-type {\n",
              "        vertical-align: middle;\n",
              "    }\n",
              "\n",
              "    .dataframe tbody tr th {\n",
              "        vertical-align: top;\n",
              "    }\n",
              "\n",
              "    .dataframe thead th {\n",
              "        text-align: right;\n",
              "    }\n",
              "</style>\n",
              "<table border=\"1\" class=\"dataframe\">\n",
              "  <thead>\n",
              "    <tr style=\"text-align: right;\">\n",
              "      <th></th>\n",
              "      <th>PassengerId</th>\n",
              "      <th>Survived</th>\n",
              "      <th>Pclass</th>\n",
              "      <th>Name</th>\n",
              "      <th>Sex</th>\n",
              "      <th>Age</th>\n",
              "      <th>SibSp</th>\n",
              "      <th>Parch</th>\n",
              "      <th>Ticket</th>\n",
              "      <th>Fare</th>\n",
              "      <th>Cabin</th>\n",
              "      <th>Embarked</th>\n",
              "      <th>divName</th>\n",
              "      <th>divAge</th>\n",
              "      <th>divName2</th>\n",
              "    </tr>\n",
              "  </thead>\n",
              "  <tbody>\n",
              "    <tr>\n",
              "      <th>0</th>\n",
              "      <td>1</td>\n",
              "      <td>0</td>\n",
              "      <td>3</td>\n",
              "      <td>Braund, Mr. Owen Harris</td>\n",
              "      <td>male</td>\n",
              "      <td>22.0</td>\n",
              "      <td>1</td>\n",
              "      <td>0</td>\n",
              "      <td>A/5 21171</td>\n",
              "      <td>7.25</td>\n",
              "      <td>NaN</td>\n",
              "      <td>S</td>\n",
              "      <td>Mr</td>\n",
              "      <td>Adult1</td>\n",
              "      <td>Mr</td>\n",
              "    </tr>\n",
              "  </tbody>\n",
              "</table>\n",
              "</div>\n",
              "      <button class=\"colab-df-convert\" onclick=\"convertToInteractive('df-c2a441ad-e85d-44f6-a6e8-8c386b38d503')\"\n",
              "              title=\"Convert this dataframe to an interactive table.\"\n",
              "              style=\"display:none;\">\n",
              "        \n",
              "  <svg xmlns=\"http://www.w3.org/2000/svg\" height=\"24px\"viewBox=\"0 0 24 24\"\n",
              "       width=\"24px\">\n",
              "    <path d=\"M0 0h24v24H0V0z\" fill=\"none\"/>\n",
              "    <path d=\"M18.56 5.44l.94 2.06.94-2.06 2.06-.94-2.06-.94-.94-2.06-.94 2.06-2.06.94zm-11 1L8.5 8.5l.94-2.06 2.06-.94-2.06-.94L8.5 2.5l-.94 2.06-2.06.94zm10 10l.94 2.06.94-2.06 2.06-.94-2.06-.94-.94-2.06-.94 2.06-2.06.94z\"/><path d=\"M17.41 7.96l-1.37-1.37c-.4-.4-.92-.59-1.43-.59-.52 0-1.04.2-1.43.59L10.3 9.45l-7.72 7.72c-.78.78-.78 2.05 0 2.83L4 21.41c.39.39.9.59 1.41.59.51 0 1.02-.2 1.41-.59l7.78-7.78 2.81-2.81c.8-.78.8-2.07 0-2.86zM5.41 20L4 18.59l7.72-7.72 1.47 1.35L5.41 20z\"/>\n",
              "  </svg>\n",
              "      </button>\n",
              "      \n",
              "  <style>\n",
              "    .colab-df-container {\n",
              "      display:flex;\n",
              "      flex-wrap:wrap;\n",
              "      gap: 12px;\n",
              "    }\n",
              "\n",
              "    .colab-df-convert {\n",
              "      background-color: #E8F0FE;\n",
              "      border: none;\n",
              "      border-radius: 50%;\n",
              "      cursor: pointer;\n",
              "      display: none;\n",
              "      fill: #1967D2;\n",
              "      height: 32px;\n",
              "      padding: 0 0 0 0;\n",
              "      width: 32px;\n",
              "    }\n",
              "\n",
              "    .colab-df-convert:hover {\n",
              "      background-color: #E2EBFA;\n",
              "      box-shadow: 0px 1px 2px rgba(60, 64, 67, 0.3), 0px 1px 3px 1px rgba(60, 64, 67, 0.15);\n",
              "      fill: #174EA6;\n",
              "    }\n",
              "\n",
              "    [theme=dark] .colab-df-convert {\n",
              "      background-color: #3B4455;\n",
              "      fill: #D2E3FC;\n",
              "    }\n",
              "\n",
              "    [theme=dark] .colab-df-convert:hover {\n",
              "      background-color: #434B5C;\n",
              "      box-shadow: 0px 1px 3px 1px rgba(0, 0, 0, 0.15);\n",
              "      filter: drop-shadow(0px 1px 2px rgba(0, 0, 0, 0.3));\n",
              "      fill: #FFFFFF;\n",
              "    }\n",
              "  </style>\n",
              "\n",
              "      <script>\n",
              "        const buttonEl =\n",
              "          document.querySelector('#df-c2a441ad-e85d-44f6-a6e8-8c386b38d503 button.colab-df-convert');\n",
              "        buttonEl.style.display =\n",
              "          google.colab.kernel.accessAllowed ? 'block' : 'none';\n",
              "\n",
              "        async function convertToInteractive(key) {\n",
              "          const element = document.querySelector('#df-c2a441ad-e85d-44f6-a6e8-8c386b38d503');\n",
              "          const dataTable =\n",
              "            await google.colab.kernel.invokeFunction('convertToInteractive',\n",
              "                                                     [key], {});\n",
              "          if (!dataTable) return;\n",
              "\n",
              "          const docLinkHtml = 'Like what you see? Visit the ' +\n",
              "            '<a target=\"_blank\" href=https://colab.research.google.com/notebooks/data_table.ipynb>data table notebook</a>'\n",
              "            + ' to learn more about interactive tables.';\n",
              "          element.innerHTML = '';\n",
              "          dataTable['output_type'] = 'display_data';\n",
              "          await google.colab.output.renderOutput(dataTable, element);\n",
              "          const docLink = document.createElement('div');\n",
              "          docLink.innerHTML = docLinkHtml;\n",
              "          element.appendChild(docLink);\n",
              "        }\n",
              "      </script>\n",
              "    </div>\n",
              "  </div>\n",
              "  "
            ]
          },
          "metadata": {},
          "execution_count": 190
        }
      ]
    },
    {
      "cell_type": "code",
      "source": [
        "train_3['Passenger'] = train_3.apply(lambda x : divPassenger(x['SibSp'], x['Parch']),axis=1)\n",
        "test_3['Passenger'] = test_3.apply(lambda x : divPassenger(x['SibSp'], x['Parch']),axis=1)"
      ],
      "metadata": {
        "id": "Tj5gyMoBUOuq"
      },
      "execution_count": 191,
      "outputs": []
    },
    {
      "cell_type": "code",
      "source": [
        "sns.histplot(data = train_3, x= 'Fare', hue='Survived', multiple='fill')"
      ],
      "metadata": {
        "colab": {
          "base_uri": "https://localhost:8080/",
          "height": 631
        },
        "id": "c7Jyx1rYVXuu",
        "outputId": "105552aa-8fc2-4bd3-c79a-22ad0b57cb25"
      },
      "execution_count": 192,
      "outputs": [
        {
          "output_type": "execute_result",
          "data": {
            "text/plain": [
              "<AxesSubplot:xlabel='Fare', ylabel='Count'>"
            ]
          },
          "metadata": {},
          "execution_count": 192
        },
        {
          "output_type": "display_data",
          "data": {
            "text/plain": [
              "<Figure size 1080x720 with 1 Axes>"
            ],
            "image/png": "[encoded data removed]"
          },
          "metadata": {}
        }
      ]
    },
    {
      "cell_type": "markdown",
      "source": [
        "분류하기가 애매하긴하지만 요금이 100 이하 구간에서 확실히 돈을 많이 지불할수록 생존율이 더 높은게 눈에 보이므로 분류해보기로함. 특히나 100 이하에서 유독 차이가 나므로 저소득층은 2가지로 세부분류\n",
        "\n",
        "- 저소득(~100)\n",
        "  - 저소득1(~50)\n",
        "  - 저소득2(~100)\n",
        "- 중소득(~300)\n",
        "- 고소득(300~)"
      ],
      "metadata": {
        "id": "VAsOO8wfV5AD"
      }
    },
    {
      "cell_type": "code",
      "source": [
        "train_3['Fare'].isnull().sum()"
      ],
      "metadata": {
        "colab": {
          "base_uri": "https://localhost:8080/"
        },
        "id": "hWcn4bamWT1_",
        "outputId": "661822fc-960c-4882-b666-4c792c57ca13"
      },
      "execution_count": 193,
      "outputs": [
        {
          "output_type": "execute_result",
          "data": {
            "text/plain": [
              "0"
            ]
          },
          "metadata": {},
          "execution_count": 193
        }
      ]
    },
    {
      "cell_type": "code",
      "source": [
        "def divFareGrade(value):\n",
        "  if value <= 50:\n",
        "    return 'low1'\n",
        "  elif value <= 100:\n",
        "    return 'low2'\n",
        "  elif value <= 300:\n",
        "    return 'middle'\n",
        "  else:\n",
        "    return 'high'"
      ],
      "metadata": {
        "id": "QzuPAkvTWZxu"
      },
      "execution_count": 194,
      "outputs": []
    },
    {
      "cell_type": "code",
      "source": [
        "train_3['FareGrade'] = train_3['Fare'].apply(divFareGrade)\n",
        "test_3['FareGrade'] = test_3['Fare'].apply(divFareGrade)"
      ],
      "metadata": {
        "id": "kyJvPLaFWXxX"
      },
      "execution_count": 195,
      "outputs": []
    },
    {
      "cell_type": "markdown",
      "source": [
        "### 모델 적용"
      ],
      "metadata": {
        "id": "eDwkauUaU1Wb"
      }
    },
    {
      "cell_type": "code",
      "source": [
        "drop_cols = ['PassengerId', 'Name', 'Age', 'SibSp', 'Parch', 'Ticket', 'Fare', 'Cabin', 'divName']\n",
        "\n",
        "# train_3.drop(drop_cols, axis=1)\n",
        "train_3 = train_3.drop(drop_cols, axis=1)\n",
        "test_3 = test_3.drop(drop_cols, axis=1)\n"
      ],
      "metadata": {
        "id": "Se7enTwuUyyD"
      },
      "execution_count": 196,
      "outputs": []
    },
    {
      "cell_type": "code",
      "source": [
        "label_col = ['Sex','Embarked', 'divAge', 'divName2', 'Passenger', 'FareGrade']\n",
        "les = []\n",
        "\n",
        "for col in label_col:\n",
        "  le = LabelEncoder()\n",
        "  train_3[col] = le.fit_transform(train_3[col])\n",
        "  test_3[col] = le.transform(test_3[col])\n",
        "  les.append(le)\n",
        "\n"
      ],
      "metadata": {
        "id": "ozTX1M4rVQLK"
      },
      "execution_count": 197,
      "outputs": []
    },
    {
      "cell_type": "code",
      "source": [
        "train_3.head(1)"
      ],
      "metadata": {
        "colab": {
          "base_uri": "https://localhost:8080/",
          "height": 81
        },
        "id": "luIzt0poXpOc",
        "outputId": "1ed35e05-c755-4413-8241-bf482b5ccff9"
      },
      "execution_count": 198,
      "outputs": [
        {
          "output_type": "execute_result",
          "data": {
            "text/plain": [
              "   Survived  Pclass  Sex  Embarked  divAge  divName2  Passenger  FareGrade\n",
              "0         0       3    1         2       0         2          0          1"
            ],
            "text/html": [
              "\n",
              "  <div id=\"df-c61bb15b-4957-4b78-8b3b-6208dbe71371\">\n",
              "    <div class=\"colab-df-container\">\n",
              "      <div>\n",
              "<style scoped>\n",
              "    .dataframe tbody tr th:only-of-type {\n",
              "        vertical-align: middle;\n",
              "    }\n",
              "\n",
              "    .dataframe tbody tr th {\n",
              "        vertical-align: top;\n",
              "    }\n",
              "\n",
              "    .dataframe thead th {\n",
              "        text-align: right;\n",
              "    }\n",
              "</style>\n",
              "<table border=\"1\" class=\"dataframe\">\n",
              "  <thead>\n",
              "    <tr style=\"text-align: right;\">\n",
              "      <th></th>\n",
              "      <th>Survived</th>\n",
              "      <th>Pclass</th>\n",
              "      <th>Sex</th>\n",
              "      <th>Embarked</th>\n",
              "      <th>divAge</th>\n",
              "      <th>divName2</th>\n",
              "      <th>Passenger</th>\n",
              "      <th>FareGrade</th>\n",
              "    </tr>\n",
              "  </thead>\n",
              "  <tbody>\n",
              "    <tr>\n",
              "      <th>0</th>\n",
              "      <td>0</td>\n",
              "      <td>3</td>\n",
              "      <td>1</td>\n",
              "      <td>2</td>\n",
              "      <td>0</td>\n",
              "      <td>2</td>\n",
              "      <td>0</td>\n",
              "      <td>1</td>\n",
              "    </tr>\n",
              "  </tbody>\n",
              "</table>\n",
              "</div>\n",
              "      <button class=\"colab-df-convert\" onclick=\"convertToInteractive('df-c61bb15b-4957-4b78-8b3b-6208dbe71371')\"\n",
              "              title=\"Convert this dataframe to an interactive table.\"\n",
              "              style=\"display:none;\">\n",
              "        \n",
              "  <svg xmlns=\"http://www.w3.org/2000/svg\" height=\"24px\"viewBox=\"0 0 24 24\"\n",
              "       width=\"24px\">\n",
              "    <path d=\"M0 0h24v24H0V0z\" fill=\"none\"/>\n",
              "    <path d=\"M18.56 5.44l.94 2.06.94-2.06 2.06-.94-2.06-.94-.94-2.06-.94 2.06-2.06.94zm-11 1L8.5 8.5l.94-2.06 2.06-.94-2.06-.94L8.5 2.5l-.94 2.06-2.06.94zm10 10l.94 2.06.94-2.06 2.06-.94-2.06-.94-.94-2.06-.94 2.06-2.06.94z\"/><path d=\"M17.41 7.96l-1.37-1.37c-.4-.4-.92-.59-1.43-.59-.52 0-1.04.2-1.43.59L10.3 9.45l-7.72 7.72c-.78.78-.78 2.05 0 2.83L4 21.41c.39.39.9.59 1.41.59.51 0 1.02-.2 1.41-.59l7.78-7.78 2.81-2.81c.8-.78.8-2.07 0-2.86zM5.41 20L4 18.59l7.72-7.72 1.47 1.35L5.41 20z\"/>\n",
              "  </svg>\n",
              "      </button>\n",
              "      \n",
              "  <style>\n",
              "    .colab-df-container {\n",
              "      display:flex;\n",
              "      flex-wrap:wrap;\n",
              "      gap: 12px;\n",
              "    }\n",
              "\n",
              "    .colab-df-convert {\n",
              "      background-color: #E8F0FE;\n",
              "      border: none;\n",
              "      border-radius: 50%;\n",
              "      cursor: pointer;\n",
              "      display: none;\n",
              "      fill: #1967D2;\n",
              "      height: 32px;\n",
              "      padding: 0 0 0 0;\n",
              "      width: 32px;\n",
              "    }\n",
              "\n",
              "    .colab-df-convert:hover {\n",
              "      background-color: #E2EBFA;\n",
              "      box-shadow: 0px 1px 2px rgba(60, 64, 67, 0.3), 0px 1px 3px 1px rgba(60, 64, 67, 0.15);\n",
              "      fill: #174EA6;\n",
              "    }\n",
              "\n",
              "    [theme=dark] .colab-df-convert {\n",
              "      background-color: #3B4455;\n",
              "      fill: #D2E3FC;\n",
              "    }\n",
              "\n",
              "    [theme=dark] .colab-df-convert:hover {\n",
              "      background-color: #434B5C;\n",
              "      box-shadow: 0px 1px 3px 1px rgba(0, 0, 0, 0.15);\n",
              "      filter: drop-shadow(0px 1px 2px rgba(0, 0, 0, 0.3));\n",
              "      fill: #FFFFFF;\n",
              "    }\n",
              "  </style>\n",
              "\n",
              "      <script>\n",
              "        const buttonEl =\n",
              "          document.querySelector('#df-c61bb15b-4957-4b78-8b3b-6208dbe71371 button.colab-df-convert');\n",
              "        buttonEl.style.display =\n",
              "          google.colab.kernel.accessAllowed ? 'block' : 'none';\n",
              "\n",
              "        async function convertToInteractive(key) {\n",
              "          const element = document.querySelector('#df-c61bb15b-4957-4b78-8b3b-6208dbe71371');\n",
              "          const dataTable =\n",
              "            await google.colab.kernel.invokeFunction('convertToInteractive',\n",
              "                                                     [key], {});\n",
              "          if (!dataTable) return;\n",
              "\n",
              "          const docLinkHtml = 'Like what you see? Visit the ' +\n",
              "            '<a target=\"_blank\" href=https://colab.research.google.com/notebooks/data_table.ipynb>data table notebook</a>'\n",
              "            + ' to learn more about interactive tables.';\n",
              "          element.innerHTML = '';\n",
              "          dataTable['output_type'] = 'display_data';\n",
              "          await google.colab.output.renderOutput(dataTable, element);\n",
              "          const docLink = document.createElement('div');\n",
              "          docLink.innerHTML = docLinkHtml;\n",
              "          element.appendChild(docLink);\n",
              "        }\n",
              "      </script>\n",
              "    </div>\n",
              "  </div>\n",
              "  "
            ]
          },
          "metadata": {},
          "execution_count": 198
        }
      ]
    },
    {
      "cell_type": "code",
      "source": [
        "X = train_3.drop(['Survived'], axis=1)\n",
        "y = train_3['Survived']\n",
        "\n",
        "X_train, X_test, y_train, y_test = train_test_split(X, y, test_size=0.2, random_state=52)\n",
        "\n",
        "tree = DecisionTreeClassifier()\n",
        "rf = RandomForestClassifier()\n",
        "xgb = XGBClassifier()\n",
        "logi = LogisticRegression()\n",
        "\n",
        "tree.fit(X_train, y_train)\n",
        "rf.fit(X_train, y_train)\n",
        "xgb.fit(X_train, y_train)\n",
        "logi.fit(X_train, y_train)\n",
        "\n",
        "tree_pred = tree.predict(test_3)\n",
        "rf_pred = rf.predict(test_3)\n",
        "xgb_pred = xgb.predict(test_3)\n",
        "logi_pred = logi.predict(test_3)\n",
        "\n",
        "print(\"DecisionTree : {:.2f}%\" .format(tree.score(X_test, y_test)*100))\n",
        "print(\"RandomForest : {:.2f}%\" .format(rf.score(X_test, y_test)*100))\n",
        "print(\"XGBoost : {:.2f}%\" .format(xgb.score(X_test, y_test)*100))\n",
        "print(\"Logisitc : {:.2f}%\" .format(logi.score(X_test, y_test)*100))\n"
      ],
      "metadata": {
        "colab": {
          "base_uri": "https://localhost:8080/"
        },
        "id": "e7V0HSslXVgV",
        "outputId": "11f275e7-de86-49a4-c5d2-5a8ba6433011"
      },
      "execution_count": 199,
      "outputs": [
        {
          "output_type": "stream",
          "name": "stdout",
          "text": [
            "DecisionTree : 81.56%\n",
            "RandomForest : 82.12%\n",
            "XGBoost : 82.68%\n",
            "Logisitc : 78.77%\n"
          ]
        }
      ]
    },
    {
      "cell_type": "code",
      "source": [
        "submission = pd.read_csv('/content/drive/MyDrive/ds_study/ML/02.titanic/submission.csv')\n",
        "submission['Survived'] = xgb_pred\n",
        "submission.to_csv('/content/drive/MyDrive/ds_study/ML/02.titanic/submission3.csv', index=False)\n",
        "submission['Survived'] = rf_pred\n",
        "submission.to_csv('/content/drive/MyDrive/ds_study/ML/02.titanic/submission3.csv', index=False)"
      ],
      "metadata": {
        "id": "-wMUOb9BXx9c"
      },
      "execution_count": 201,
      "outputs": []
    },
    {
      "cell_type": "markdown",
      "source": [
        "### 결과\n",
        "\n",
        "- submission2 - XGB / submission3 - RandForest</br>\n",
        "랜덤 포레스트가 76%로 소폭 상승한 결과 보여줌\n",
        "\n",
        "![스크린샷 2023-03-13 오후 2.13.34.png](data:image/png;base64,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)\n",
        "\n"
      ],
      "metadata": {
        "id": "_h2bxr9IX8zI"
      }
    },
    {
      "cell_type": "code",
      "source": [
        "train_df[train_df['Cabin'].isnull()]['Fare'].hist()"
      ],
      "metadata": {
        "colab": {
          "base_uri": "https://localhost:8080/",
          "height": 610
        },
        "id": "S3HJ76yMbHFT",
        "outputId": "0a7d6d07-8b6a-4896-9e8f-9fb91d075b1a"
      },
      "execution_count": 116,
      "outputs": [
        {
          "output_type": "execute_result",
          "data": {
            "text/plain": [
              "<AxesSubplot:>"
            ]
          },
          "metadata": {},
          "execution_count": 116
        },
        {
          "output_type": "display_data",
          "data": {
            "text/plain": [
              "<Figure size 1080x720 with 1 Axes>"
            ],
            "image/png": "[encoded data removed]"
          },
          "metadata": {}
        }
      ]
    },
    {
      "cell_type": "code",
      "source": [
        "train_df[~train_df['Cabin'].isnull()]['Fare'].hist()"
      ],
      "metadata": {
        "colab": {
          "base_uri": "https://localhost:8080/",
          "height": 610
        },
        "id": "ztFa7uz2bZvL",
        "outputId": "3da7f1e9-c4d9-4b7b-bac4-b8c33e4db60f"
      },
      "execution_count": 117,
      "outputs": [
        {
          "output_type": "execute_result",
          "data": {
            "text/plain": [
              "<AxesSubplot:>"
            ]
          },
          "metadata": {},
          "execution_count": 117
        },
        {
          "output_type": "display_data",
          "data": {
            "text/plain": [
              "<Figure size 1080x720 with 1 Axes>"
            ],
            "image/png": "[encoded data removed]"
          },
          "metadata": {}
        }
      ]
    },
    {
      "cell_type": "markdown",
      "source": [
        "객실이 있는 승객이 돈을 많이 쓰긴함. 이런점에서 다시 객실에 대한 분류도 추가해서 적용해보기로 함."
      ],
      "metadata": {
        "id": "8hwN2msFbpjw"
      }
    },
    {
      "cell_type": "code",
      "source": [
        "def divCabin(value):\n",
        "  try:\n",
        "    if re.search('^[A-z]*', value).group(0):\n",
        "      return str(re.search('^[A-z]*', value).group(0))\n",
        "    else:\n",
        "      return 'None'\n",
        "  except:\n",
        "    return 'None'\n",
        "    \n",
        "train_3['divCabin'] = train_df['Cabin'].apply(divCabin)\n",
        "test_3['divCabin'] = test_df['Cabin'].apply(divCabin)"
      ],
      "metadata": {
        "id": "FgP6NnUPbxK9"
      },
      "execution_count": 139,
      "outputs": []
    },
    {
      "cell_type": "code",
      "source": [
        "X = train_3.drop(['Survived'], axis=1)\n",
        "y = train_3['Survived']\n",
        "\n",
        "X_train, X_test, y_train, y_test = train_test_split(X, y, test_size=0.2, random_state=52)\n",
        "\n",
        "tree = DecisionTreeClassifier()\n",
        "rf = RandomForestClassifier()\n",
        "xgb = XGBClassifier()\n",
        "logi = LogisticRegression()\n",
        "\n",
        "tree.fit(X_train, y_train)\n",
        "rf.fit(X_train, y_train)\n",
        "xgb.fit(X_train, y_train)\n",
        "logi.fit(X_train, y_train)\n",
        "\n",
        "tree_pred = tree.predict(test_3)\n",
        "rf_pred = rf.predict(test_3)\n",
        "xgb_pred = xgb.predict(test_3)\n",
        "logi_pred = logi.predict(test_3)\n",
        "\n",
        "print(\"DecisionTree : {:.2f}%\" .format(tree.score(X_test, y_test)*100))\n",
        "print(\"RandomForest : {:.2f}%\" .format(rf.score(X_test, y_test)*100))\n",
        "print(\"XGBoost : {:.2f}%\" .format(xgb.score(X_test, y_test)*100))\n",
        "print(\"Logisitc : {:.2f}%\" .format(logi.score(X_test, y_test)*100))"
      ],
      "metadata": {
        "colab": {
          "base_uri": "https://localhost:8080/"
        },
        "id": "zmdWdId9b55c",
        "outputId": "d9bbc3d8-15f0-4e5c-e0b3-f5372fdba83a"
      },
      "execution_count": 144,
      "outputs": [
        {
          "output_type": "stream",
          "name": "stdout",
          "text": [
            "DecisionTree : 81.01%\n",
            "RandomForest : 84.36%\n",
            "XGBoost : 84.36%\n",
            "Logisitc : 78.77%\n"
          ]
        }
      ]
    },
    {
      "cell_type": "markdown",
      "source": [
        "객실에 대한 정보가 없을때 보다 XGB, RF 둘 다 2%정도 상승함"
      ],
      "metadata": {
        "id": "XA8S1iVbcCi1"
      }
    },
    {
      "cell_type": "code",
      "source": [
        "submission = pd.read_csv('/content/drive/MyDrive/ds_study/ML/02.titanic/submission.csv')\n",
        "submission['Survived'] = xgb_pred\n",
        "submission.to_csv('/content/drive/MyDrive/ds_study/ML/02.titanic/submission4.csv', index=False)\n",
        "submission['Survived'] = rf_pred\n",
        "submission.to_csv('/content/drive/MyDrive/ds_study/ML/02.titanic/submission5.csv', index=False)"
      ],
      "metadata": {
        "id": "KyEDHdrCcJu2"
      },
      "execution_count": 145,
      "outputs": []
    },
    {
      "cell_type": "markdown",
      "source": [
        "#### 결과\n",
        "\n",
        "최종 테스트에서는 XGB는 상승했지만 RF 오히려 기존 모델보다 좋지 못한 결과를 보임\n",
        "\n",
        "![스크린샷 2023-03-13 오후 2.31.38.png](data:image/png;base64,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)\n",
        "\n"
      ],
      "metadata": {
        "id": "TmS6mFF6cQOv"
      }
    },
    {
      "cell_type": "code",
      "source": [
        "train_df.head()"
      ],
      "metadata": {
        "colab": {
          "base_uri": "https://localhost:8080/",
          "height": 302
        },
        "id": "Z2fFGK3bdMgT",
        "outputId": "0885fa49-011d-4e26-9e78-db00f749f9f2"
      },
      "execution_count": 146,
      "outputs": [
        {
          "output_type": "execute_result",
          "data": {
            "text/plain": [
              "   PassengerId  Survived  Pclass  \\\n",
              "0            1         0       3   \n",
              "1            2         1       1   \n",
              "2            3         1       3   \n",
              "3            4         1       1   \n",
              "4            5         0       3   \n",
              "\n",
              "                                                Name     Sex   Age  SibSp  \\\n",
              "0                            Braund, Mr. Owen Harris    male  22.0      1   \n",
              "1  Cumings, Mrs. John Bradley (Florence Briggs Th...  female  38.0      1   \n",
              "2                             Heikkinen, Miss. Laina  female  26.0      0   \n",
              "3       Futrelle, Mrs. Jacques Heath (Lily May Peel)  female  35.0      1   \n",
              "4                           Allen, Mr. William Henry    male  35.0      0   \n",
              "\n",
              "   Parch            Ticket     Fare Cabin Embarked  \n",
              "0      0         A/5 21171   7.2500   NaN        S  \n",
              "1      0          PC 17599  71.2833   C85        C  \n",
              "2      0  STON/O2. 3101282   7.9250   NaN        S  \n",
              "3      0            113803  53.1000  C123        S  \n",
              "4      0            373450   8.0500   NaN        S  "
            ],
            "text/html": [
              "\n",
              "  <div id=\"df-a592dd2a-051d-457a-8a7e-c3b3447c0b3a\">\n",
              "    <div class=\"colab-df-container\">\n",
              "      <div>\n",
              "<style scoped>\n",
              "    .dataframe tbody tr th:only-of-type {\n",
              "        vertical-align: middle;\n",
              "    }\n",
              "\n",
              "    .dataframe tbody tr th {\n",
              "        vertical-align: top;\n",
              "    }\n",
              "\n",
              "    .dataframe thead th {\n",
              "        text-align: right;\n",
              "    }\n",
              "</style>\n",
              "<table border=\"1\" class=\"dataframe\">\n",
              "  <thead>\n",
              "    <tr style=\"text-align: right;\">\n",
              "      <th></th>\n",
              "      <th>PassengerId</th>\n",
              "      <th>Survived</th>\n",
              "      <th>Pclass</th>\n",
              "      <th>Name</th>\n",
              "      <th>Sex</th>\n",
              "      <th>Age</th>\n",
              "      <th>SibSp</th>\n",
              "      <th>Parch</th>\n",
              "      <th>Ticket</th>\n",
              "      <th>Fare</th>\n",
              "      <th>Cabin</th>\n",
              "      <th>Embarked</th>\n",
              "    </tr>\n",
              "  </thead>\n",
              "  <tbody>\n",
              "    <tr>\n",
              "      <th>0</th>\n",
              "      <td>1</td>\n",
              "      <td>0</td>\n",
              "      <td>3</td>\n",
              "      <td>Braund, Mr. Owen Harris</td>\n",
              "      <td>male</td>\n",
              "      <td>22.0</td>\n",
              "      <td>1</td>\n",
              "      <td>0</td>\n",
              "      <td>A/5 21171</td>\n",
              "      <td>7.2500</td>\n",
              "      <td>NaN</td>\n",
              "      <td>S</td>\n",
              "    </tr>\n",
              "    <tr>\n",
              "      <th>1</th>\n",
              "      <td>2</td>\n",
              "      <td>1</td>\n",
              "      <td>1</td>\n",
              "      <td>Cumings, Mrs. John Bradley (Florence Briggs Th...</td>\n",
              "      <td>female</td>\n",
              "      <td>38.0</td>\n",
              "      <td>1</td>\n",
              "      <td>0</td>\n",
              "      <td>PC 17599</td>\n",
              "      <td>71.2833</td>\n",
              "      <td>C85</td>\n",
              "      <td>C</td>\n",
              "    </tr>\n",
              "    <tr>\n",
              "      <th>2</th>\n",
              "      <td>3</td>\n",
              "      <td>1</td>\n",
              "      <td>3</td>\n",
              "      <td>Heikkinen, Miss. Laina</td>\n",
              "      <td>female</td>\n",
              "      <td>26.0</td>\n",
              "      <td>0</td>\n",
              "      <td>0</td>\n",
              "      <td>STON/O2. 3101282</td>\n",
              "      <td>7.9250</td>\n",
              "      <td>NaN</td>\n",
              "      <td>S</td>\n",
              "    </tr>\n",
              "    <tr>\n",
              "      <th>3</th>\n",
              "      <td>4</td>\n",
              "      <td>1</td>\n",
              "      <td>1</td>\n",
              "      <td>Futrelle, Mrs. Jacques Heath (Lily May Peel)</td>\n",
              "      <td>female</td>\n",
              "      <td>35.0</td>\n",
              "      <td>1</td>\n",
              "      <td>0</td>\n",
              "      <td>113803</td>\n",
              "      <td>53.1000</td>\n",
              "      <td>C123</td>\n",
              "      <td>S</td>\n",
              "    </tr>\n",
              "    <tr>\n",
              "      <th>4</th>\n",
              "      <td>5</td>\n",
              "      <td>0</td>\n",
              "      <td>3</td>\n",
              "      <td>Allen, Mr. William Henry</td>\n",
              "      <td>male</td>\n",
              "      <td>35.0</td>\n",
              "      <td>0</td>\n",
              "      <td>0</td>\n",
              "      <td>373450</td>\n",
              "      <td>8.0500</td>\n",
              "      <td>NaN</td>\n",
              "      <td>S</td>\n",
              "    </tr>\n",
              "  </tbody>\n",
              "</table>\n",
              "</div>\n",
              "      <button class=\"colab-df-convert\" onclick=\"convertToInteractive('df-a592dd2a-051d-457a-8a7e-c3b3447c0b3a')\"\n",
              "              title=\"Convert this dataframe to an interactive table.\"\n",
              "              style=\"display:none;\">\n",
              "        \n",
              "  <svg xmlns=\"http://www.w3.org/2000/svg\" height=\"24px\"viewBox=\"0 0 24 24\"\n",
              "       width=\"24px\">\n",
              "    <path d=\"M0 0h24v24H0V0z\" fill=\"none\"/>\n",
              "    <path d=\"M18.56 5.44l.94 2.06.94-2.06 2.06-.94-2.06-.94-.94-2.06-.94 2.06-2.06.94zm-11 1L8.5 8.5l.94-2.06 2.06-.94-2.06-.94L8.5 2.5l-.94 2.06-2.06.94zm10 10l.94 2.06.94-2.06 2.06-.94-2.06-.94-.94-2.06-.94 2.06-2.06.94z\"/><path d=\"M17.41 7.96l-1.37-1.37c-.4-.4-.92-.59-1.43-.59-.52 0-1.04.2-1.43.59L10.3 9.45l-7.72 7.72c-.78.78-.78 2.05 0 2.83L4 21.41c.39.39.9.59 1.41.59.51 0 1.02-.2 1.41-.59l7.78-7.78 2.81-2.81c.8-.78.8-2.07 0-2.86zM5.41 20L4 18.59l7.72-7.72 1.47 1.35L5.41 20z\"/>\n",
              "  </svg>\n",
              "      </button>\n",
              "      \n",
              "  <style>\n",
              "    .colab-df-container {\n",
              "      display:flex;\n",
              "      flex-wrap:wrap;\n",
              "      gap: 12px;\n",
              "    }\n",
              "\n",
              "    .colab-df-convert {\n",
              "      background-color: #E8F0FE;\n",
              "      border: none;\n",
              "      border-radius: 50%;\n",
              "      cursor: pointer;\n",
              "      display: none;\n",
              "      fill: #1967D2;\n",
              "      height: 32px;\n",
              "      padding: 0 0 0 0;\n",
              "      width: 32px;\n",
              "    }\n",
              "\n",
              "    .colab-df-convert:hover {\n",
              "      background-color: #E2EBFA;\n",
              "      box-shadow: 0px 1px 2px rgba(60, 64, 67, 0.3), 0px 1px 3px 1px rgba(60, 64, 67, 0.15);\n",
              "      fill: #174EA6;\n",
              "    }\n",
              "\n",
              "    [theme=dark] .colab-df-convert {\n",
              "      background-color: #3B4455;\n",
              "      fill: #D2E3FC;\n",
              "    }\n",
              "\n",
              "    [theme=dark] .colab-df-convert:hover {\n",
              "      background-color: #434B5C;\n",
              "      box-shadow: 0px 1px 3px 1px rgba(0, 0, 0, 0.15);\n",
              "      filter: drop-shadow(0px 1px 2px rgba(0, 0, 0, 0.3));\n",
              "      fill: #FFFFFF;\n",
              "    }\n",
              "  </style>\n",
              "\n",
              "      <script>\n",
              "        const buttonEl =\n",
              "          document.querySelector('#df-a592dd2a-051d-457a-8a7e-c3b3447c0b3a button.colab-df-convert');\n",
              "        buttonEl.style.display =\n",
              "          google.colab.kernel.accessAllowed ? 'block' : 'none';\n",
              "\n",
              "        async function convertToInteractive(key) {\n",
              "          const element = document.querySelector('#df-a592dd2a-051d-457a-8a7e-c3b3447c0b3a');\n",
              "          const dataTable =\n",
              "            await google.colab.kernel.invokeFunction('convertToInteractive',\n",
              "                                                     [key], {});\n",
              "          if (!dataTable) return;\n",
              "\n",
              "          const docLinkHtml = 'Like what you see? Visit the ' +\n",
              "            '<a target=\"_blank\" href=https://colab.research.google.com/notebooks/data_table.ipynb>data table notebook</a>'\n",
              "            + ' to learn more about interactive tables.';\n",
              "          element.innerHTML = '';\n",
              "          dataTable['output_type'] = 'display_data';\n",
              "          await google.colab.output.renderOutput(dataTable, element);\n",
              "          const docLink = document.createElement('div');\n",
              "          docLink.innerHTML = docLinkHtml;\n",
              "          element.appendChild(docLink);\n",
              "        }\n",
              "      </script>\n",
              "    </div>\n",
              "  </div>\n",
              "  "
            ]
          },
          "metadata": {},
          "execution_count": 146
        }
      ]
    },
    {
      "cell_type": "markdown",
      "source": [
        "## 다시 전처리\n",
        "분류를 좀 더 세부 분류해보기로함\n",
        "\n",
        "- 나이\n",
        "  - 유아1 : ~ 5세\n",
        "  - 유아2 : ~ 10세\n",
        "  - 청소년 : ~17세\n",
        "  - 성인1 : ~ 30세\n",
        "  - 성인2 : ~ 50세\n",
        "  - 노인1 : ~ 60세\n",
        "  - 노인2 : 60세 ~\n",
        "\n",
        "- 동승객(Famil, Group만 수정)\n",
        "  - 0 : Solo\n",
        "  - 1 : Duo\n",
        "  - 2 ~ 4 : Family\n",
        "  - 5 ~ : Group\n",
        "\n",
        "\n",
        "- 요금\n",
        "  - 저소득(~100)\n",
        "    - 저소득1(~30)\n",
        "    - 저소득2(~60)\n",
        "    - 저소득3(~100)\n",
        "  - 중소득(~300)\n",
        "    - 중소득1(~200)\n",
        "    - 중소득2(~300)\n",
        "  - 고소득(300~)"
      ],
      "metadata": {
        "id": "lUbdVoxKdhQ1"
      }
    },
    {
      "cell_type": "code",
      "source": [
        "train_4 = train_df.copy()\n",
        "test_4 = test_df.copy()\n",
        "\n",
        "train_4['divName'] = train_4['Name'].apply(divName)\n",
        "test_4['divName'] = test_4['Name'].apply(divName)"
      ],
      "metadata": {
        "id": "tP-MTF9JemrP"
      },
      "execution_count": 354,
      "outputs": []
    },
    {
      "cell_type": "code",
      "source": [
        "def divAge2(age):\n",
        "  if age <= 5:\n",
        "    return \"child1\"\n",
        "  elif age <= 10:\n",
        "    return \"child2\"\n",
        "  elif age <= 17:\n",
        "    return \"Teenager\"\n",
        "  elif age <= 30:\n",
        "    return 'Adult1'\n",
        "  elif age <= 50:\n",
        "    return \"Adult2\"\n",
        "  elif age <= 60:\n",
        "    return \"Old man1\"\n",
        "  elif age > 60:\n",
        "    return \"Old man2\"\n",
        "  else:\n",
        "    return ''"
      ],
      "metadata": {
        "id": "sgM1UMg2d1fg"
      },
      "execution_count": 355,
      "outputs": []
    },
    {
      "cell_type": "code",
      "source": [
        "train_4['divAge'] = train_4['Age'].apply(divAge2)\n",
        "test_4['divAge'] = test_4['Age'].apply(divAge2)\n"
      ],
      "metadata": {
        "id": "0w5DfhBnhlPL"
      },
      "execution_count": 356,
      "outputs": []
    },
    {
      "cell_type": "code",
      "source": [
        "train_4['divName2'] = train_4.apply(lambda x : divName3(x['divName'], x['Age'], x['Sex']), axis=1)\n",
        "test_4['divName2'] = test_4.apply(lambda x : divName3(x['divName'], x['Age'], x['Sex']), axis=1)"
      ],
      "metadata": {
        "id": "18dt8Oa9hnOr"
      },
      "execution_count": 357,
      "outputs": []
    },
    {
      "cell_type": "code",
      "source": [
        "train_4['divAge'].unique()"
      ],
      "metadata": {
        "colab": {
          "base_uri": "https://localhost:8080/"
        },
        "id": "9WX1YGrZkBpA",
        "outputId": "5306cecc-025e-4413-fa57-ad8ea7430064"
      },
      "execution_count": 358,
      "outputs": [
        {
          "output_type": "execute_result",
          "data": {
            "text/plain": [
              "array(['Adult1', 'Adult2', '', 'Old man1', 'child1', 'Teenager', 'child2',\n",
              "       'Old man2'], dtype=object)"
            ]
          },
          "metadata": {},
          "execution_count": 358
        }
      ]
    },
    {
      "cell_type": "code",
      "source": [
        "def fin_divName(divname, divage, sex):\n",
        "  if 'child' in divage:\n",
        "    if divname in ['Boy', 'Girl']:\n",
        "      return divname\n",
        "    else:\n",
        "      if sex == 'male':\n",
        "        return 'Boy'\n",
        "      else:\n",
        "        return 'Girl'\n",
        "\n",
        "  elif 'Teenager' in divage:\n",
        "    if divname in ['Master', 'Miss']:\n",
        "      return divname\n",
        "    else:\n",
        "      if sex == 'male':\n",
        "        return 'Master'\n",
        "      else:\n",
        "        return 'Miss'\n",
        "\n",
        "  elif 'Adult' in divage:\n",
        "    if divname in ['Mr', 'Ms','Mrs']:\n",
        "      return divname\n",
        "    else:\n",
        "      if sex == 'male':\n",
        "        return 'Mr'\n",
        "      else:\n",
        "        return 'Ms'\n",
        "    \n",
        "  elif 'Old man' in divage:\n",
        "    if divname in ['Mr', 'Ms','Mrs']:\n",
        "      return divname\n",
        "    else:\n",
        "      if sex == 'male':\n",
        "        return 'Mr'\n",
        "      else:\n",
        "        return 'Mrs'\n",
        "  \n",
        "  else:\n",
        "    return ''"
      ],
      "metadata": {
        "id": "oh-R_x0SoUCS"
      },
      "execution_count": 359,
      "outputs": []
    },
    {
      "cell_type": "code",
      "source": [
        "train_4['finDivName'] = train_4.apply(lambda x : fin_divName(x['divName2'], x['divAge'], x['Sex']), axis=1)\n",
        "test_4['finDivName'] = test_4.apply(lambda x : fin_divName(x['divName2'], x['divAge'], x['Sex']), axis=1)"
      ],
      "metadata": {
        "id": "MYX-FoHdr5GY"
      },
      "execution_count": 360,
      "outputs": []
    },
    {
      "cell_type": "code",
      "source": [
        "import numpy as np\n",
        "\n",
        "for key in train_4['finDivName'].unique():\n",
        "  traget = train_4[~train_3['Age'].isnull()]\n",
        "  target = traget[traget['finDivName'] == key]\n",
        "  print(key , ' Avg Age : ', target['Age'].mean())\n",
        "  print(key , ' Median Age : ', np.median(target['Age']))\n",
        "  print('-----')\n"
      ],
      "metadata": {
        "colab": {
          "base_uri": "https://localhost:8080/"
        },
        "id": "egxdEdjPvc8k",
        "outputId": "8007da38-7528-46e3-de15-fc8844bbb644"
      },
      "execution_count": 361,
      "outputs": [
        {
          "output_type": "stream",
          "name": "stdout",
          "text": [
            "Mr  Avg Age :  33.887909319899244\n",
            "Mr  Median Age :  31.0\n",
            "-----\n",
            "Mrs  Avg Age :  37.09803921568628\n",
            "Mrs  Median Age :  35.5\n",
            "-----\n",
            "Ms  Avg Age :  28.88235294117647\n",
            "Ms  Median Age :  26.0\n",
            "-----\n",
            "  Avg Age :  nan\n",
            "  Median Age :  nan\n",
            "-----\n",
            "Boy  Avg Age :  3.9596969696969704\n",
            "Boy  Median Age :  3.0\n",
            "-----\n",
            "Miss  Avg Age :  15.229166666666666\n",
            "Miss  Median Age :  15.5\n",
            "-----\n",
            "Girl  Avg Age :  4.596774193548387\n",
            "Girl  Median Age :  4.0\n",
            "-----\n",
            "Master  Avg Age :  15.32\n",
            "Master  Median Age :  16.0\n",
            "-----\n"
          ]
        }
      ]
    },
    {
      "cell_type": "code",
      "source": [
        "train_4['Age'].isnull().sum(), test_4['Age'].isnull().sum()"
      ],
      "metadata": {
        "colab": {
          "base_uri": "https://localhost:8080/"
        },
        "id": "rhy3mzRz0NgT",
        "outputId": "13f82b56-1152-4bad-9947-1161083e3b04"
      },
      "execution_count": 362,
      "outputs": [
        {
          "output_type": "execute_result",
          "data": {
            "text/plain": [
              "(177, 86)"
            ]
          },
          "metadata": {},
          "execution_count": 362
        }
      ]
    },
    {
      "cell_type": "code",
      "source": [
        "def nullAge(divname):\n",
        "  if divname == 'Mr':\n",
        "    return 33\n",
        "  elif divname == 'Mrs':\n",
        "    return 37\n",
        "  elif divname == 'Miss':\n",
        "    return 15\n",
        "  elif divname == ' Master':\n",
        "    return 15\n",
        "  else: # Dr\n",
        "    return 33"
      ],
      "metadata": {
        "id": "__PudWjXyvLl"
      },
      "execution_count": 363,
      "outputs": []
    },
    {
      "cell_type": "code",
      "source": [
        "train_age_null_idx = train_4[train_4['Age'].isnull()].index\n",
        "test_age_null_idx = test_4[test_4['Age'].isnull()].index\n",
        "\n",
        "\n",
        "train_4['Age'].loc[train_age_null_idx] = train_4['divName'].loc[train_age_null_idx].apply(nullAge)\n",
        "test_4['Age'].loc[test_age_null_idx] = test_4['divName'].loc[test_age_null_idx].apply(nullAge)"
      ],
      "metadata": {
        "id": "5w-uMpGxxgGg"
      },
      "execution_count": 364,
      "outputs": []
    },
    {
      "cell_type": "code",
      "source": [
        "train_4['Age'].isnull().sum(), test_4['Age'].isnull().sum()"
      ],
      "metadata": {
        "colab": {
          "base_uri": "https://localhost:8080/"
        },
        "id": "JXmuQArhxgM1",
        "outputId": "069c9015-c751-439b-c98c-ab47028cbca8"
      },
      "execution_count": 365,
      "outputs": [
        {
          "output_type": "execute_result",
          "data": {
            "text/plain": [
              "(0, 0)"
            ]
          },
          "metadata": {},
          "execution_count": 365
        }
      ]
    },
    {
      "cell_type": "code",
      "source": [
        "train_4['divAge'].loc[train_age_null_idx] = train_4['Age'].loc[train_age_null_idx].apply(divAge2)\n",
        "test_4['divAge'].loc[test_age_null_idx] = test_4['Age'].loc[test_age_null_idx].apply(divAge2)\n",
        "\n",
        "train_4['divName2'].loc[train_age_null_idx] = train_4.loc[train_age_null_idx].apply(lambda x : divName3(x['divName'], x['Age'], x['Sex']), axis=1)\n",
        "test_4['divName2'].loc[test_age_null_idx] = test_4.loc[test_age_null_idx].apply(lambda x : divName3(x['divName'], x['Age'], x['Sex']), axis=1)\n",
        "\n",
        "train_4['finDivName'].loc[train_age_null_idx] = train_4.loc[train_age_null_idx].apply(lambda x : fin_divName(x['divName2'], x['divAge'], x['Sex']), axis=1)\n",
        "test_4['finDivName'].loc[test_age_null_idx] = test_4.loc[test_age_null_idx].apply(lambda x : fin_divName(x['divName2'], x['divAge'], x['Sex']), axis=1)"
      ],
      "metadata": {
        "id": "7_QbE6IO0T2s"
      },
      "execution_count": 366,
      "outputs": []
    },
    {
      "cell_type": "code",
      "source": [
        "def divFareGrade2(value):\n",
        "  if value <= 30:\n",
        "    return 'low1'\n",
        "  elif value <= 60:\n",
        "    return 'low2'\n",
        "  elif value <= 100:\n",
        "    return 'low3'\n",
        "  elif value <= 200:\n",
        "    return 'middle1'\n",
        "  elif value <= 300:\n",
        "    return 'middle2'\n",
        "  else:\n",
        "    return 'high'"
      ],
      "metadata": {
        "id": "YmGofy2PtVn2"
      },
      "execution_count": 367,
      "outputs": []
    },
    {
      "cell_type": "code",
      "source": [
        "train_4['FareGrade'] = train_4['Fare'].apply(divFareGrade2)\n",
        "test_4['FareGrade'] = test_4['Fare'].apply(divFareGrade2)"
      ],
      "metadata": {
        "id": "FIftseKftFxe"
      },
      "execution_count": 368,
      "outputs": []
    },
    {
      "cell_type": "code",
      "source": [
        "def divPassenger2(sibsp, parch):\n",
        "  cnt = sibsp + parch\n",
        "\n",
        "  if cnt == 0:\n",
        "    return 'Solo'\n",
        "  elif cnt == 1:\n",
        "    return 'Duo'\n",
        "  elif cnt < 5:\n",
        "    return 'Family'\n",
        "  else:\n",
        "    return 'Group'"
      ],
      "metadata": {
        "id": "dXjh_jQ2tSS-"
      },
      "execution_count": 369,
      "outputs": []
    },
    {
      "cell_type": "code",
      "source": [
        "train_4['Passenger'] = train_4.apply(lambda x : divPassenger2(x['SibSp'], x['Parch']),axis=1)\n",
        "test_4['Passenger'] = test_4.apply(lambda x : divPassenger2(x['SibSp'], x['Parch']),axis=1)"
      ],
      "metadata": {
        "id": "MZ6T2Kc6tqAD"
      },
      "execution_count": 370,
      "outputs": []
    },
    {
      "cell_type": "markdown",
      "source": [
        "### 모델 적용"
      ],
      "metadata": {
        "id": "nkCUGrAttxro"
      }
    },
    {
      "cell_type": "code",
      "source": [
        "train_4.head(1)"
      ],
      "metadata": {
        "colab": {
          "base_uri": "https://localhost:8080/",
          "height": 142
        },
        "id": "Ns43AJxC01zF",
        "outputId": "cc7b1643-17ab-41a1-f94e-9f3369c2a02a"
      },
      "execution_count": 371,
      "outputs": [
        {
          "output_type": "execute_result",
          "data": {
            "text/plain": [
              "   PassengerId  Survived  Pclass                     Name   Sex   Age  SibSp  \\\n",
              "0            1         0       3  Braund, Mr. Owen Harris  male  22.0      1   \n",
              "\n",
              "   Parch     Ticket  Fare Cabin Embarked divName  divAge divName2 finDivName  \\\n",
              "0      0  A/5 21171  7.25   NaN        S      Mr  Adult1       Mr         Mr   \n",
              "\n",
              "  FareGrade Passenger  \n",
              "0      low1       Duo  "
            ],
            "text/html": [
              "\n",
              "  <div id=\"df-75a620f2-c25d-4a76-b6e7-9e6e6ddb7db3\">\n",
              "    <div class=\"colab-df-container\">\n",
              "      <div>\n",
              "<style scoped>\n",
              "    .dataframe tbody tr th:only-of-type {\n",
              "        vertical-align: middle;\n",
              "    }\n",
              "\n",
              "    .dataframe tbody tr th {\n",
              "        vertical-align: top;\n",
              "    }\n",
              "\n",
              "    .dataframe thead th {\n",
              "        text-align: right;\n",
              "    }\n",
              "</style>\n",
              "<table border=\"1\" class=\"dataframe\">\n",
              "  <thead>\n",
              "    <tr style=\"text-align: right;\">\n",
              "      <th></th>\n",
              "      <th>PassengerId</th>\n",
              "      <th>Survived</th>\n",
              "      <th>Pclass</th>\n",
              "      <th>Name</th>\n",
              "      <th>Sex</th>\n",
              "      <th>Age</th>\n",
              "      <th>SibSp</th>\n",
              "      <th>Parch</th>\n",
              "      <th>Ticket</th>\n",
              "      <th>Fare</th>\n",
              "      <th>Cabin</th>\n",
              "      <th>Embarked</th>\n",
              "      <th>divName</th>\n",
              "      <th>divAge</th>\n",
              "      <th>divName2</th>\n",
              "      <th>finDivName</th>\n",
              "      <th>FareGrade</th>\n",
              "      <th>Passenger</th>\n",
              "    </tr>\n",
              "  </thead>\n",
              "  <tbody>\n",
              "    <tr>\n",
              "      <th>0</th>\n",
              "      <td>1</td>\n",
              "      <td>0</td>\n",
              "      <td>3</td>\n",
              "      <td>Braund, Mr. Owen Harris</td>\n",
              "      <td>male</td>\n",
              "      <td>22.0</td>\n",
              "      <td>1</td>\n",
              "      <td>0</td>\n",
              "      <td>A/5 21171</td>\n",
              "      <td>7.25</td>\n",
              "      <td>NaN</td>\n",
              "      <td>S</td>\n",
              "      <td>Mr</td>\n",
              "      <td>Adult1</td>\n",
              "      <td>Mr</td>\n",
              "      <td>Mr</td>\n",
              "      <td>low1</td>\n",
              "      <td>Duo</td>\n",
              "    </tr>\n",
              "  </tbody>\n",
              "</table>\n",
              "</div>\n",
              "      <button class=\"colab-df-convert\" onclick=\"convertToInteractive('df-75a620f2-c25d-4a76-b6e7-9e6e6ddb7db3')\"\n",
              "              title=\"Convert this dataframe to an interactive table.\"\n",
              "              style=\"display:none;\">\n",
              "        \n",
              "  <svg xmlns=\"http://www.w3.org/2000/svg\" height=\"24px\"viewBox=\"0 0 24 24\"\n",
              "       width=\"24px\">\n",
              "    <path d=\"M0 0h24v24H0V0z\" fill=\"none\"/>\n",
              "    <path d=\"M18.56 5.44l.94 2.06.94-2.06 2.06-.94-2.06-.94-.94-2.06-.94 2.06-2.06.94zm-11 1L8.5 8.5l.94-2.06 2.06-.94-2.06-.94L8.5 2.5l-.94 2.06-2.06.94zm10 10l.94 2.06.94-2.06 2.06-.94-2.06-.94-.94-2.06-.94 2.06-2.06.94z\"/><path d=\"M17.41 7.96l-1.37-1.37c-.4-.4-.92-.59-1.43-.59-.52 0-1.04.2-1.43.59L10.3 9.45l-7.72 7.72c-.78.78-.78 2.05 0 2.83L4 21.41c.39.39.9.59 1.41.59.51 0 1.02-.2 1.41-.59l7.78-7.78 2.81-2.81c.8-.78.8-2.07 0-2.86zM5.41 20L4 18.59l7.72-7.72 1.47 1.35L5.41 20z\"/>\n",
              "  </svg>\n",
              "      </button>\n",
              "      \n",
              "  <style>\n",
              "    .colab-df-container {\n",
              "      display:flex;\n",
              "      flex-wrap:wrap;\n",
              "      gap: 12px;\n",
              "    }\n",
              "\n",
              "    .colab-df-convert {\n",
              "      background-color: #E8F0FE;\n",
              "      border: none;\n",
              "      border-radius: 50%;\n",
              "      cursor: pointer;\n",
              "      display: none;\n",
              "      fill: #1967D2;\n",
              "      height: 32px;\n",
              "      padding: 0 0 0 0;\n",
              "      width: 32px;\n",
              "    }\n",
              "\n",
              "    .colab-df-convert:hover {\n",
              "      background-color: #E2EBFA;\n",
              "      box-shadow: 0px 1px 2px rgba(60, 64, 67, 0.3), 0px 1px 3px 1px rgba(60, 64, 67, 0.15);\n",
              "      fill: #174EA6;\n",
              "    }\n",
              "\n",
              "    [theme=dark] .colab-df-convert {\n",
              "      background-color: #3B4455;\n",
              "      fill: #D2E3FC;\n",
              "    }\n",
              "\n",
              "    [theme=dark] .colab-df-convert:hover {\n",
              "      background-color: #434B5C;\n",
              "      box-shadow: 0px 1px 3px 1px rgba(0, 0, 0, 0.15);\n",
              "      filter: drop-shadow(0px 1px 2px rgba(0, 0, 0, 0.3));\n",
              "      fill: #FFFFFF;\n",
              "    }\n",
              "  </style>\n",
              "\n",
              "      <script>\n",
              "        const buttonEl =\n",
              "          document.querySelector('#df-75a620f2-c25d-4a76-b6e7-9e6e6ddb7db3 button.colab-df-convert');\n",
              "        buttonEl.style.display =\n",
              "          google.colab.kernel.accessAllowed ? 'block' : 'none';\n",
              "\n",
              "        async function convertToInteractive(key) {\n",
              "          const element = document.querySelector('#df-75a620f2-c25d-4a76-b6e7-9e6e6ddb7db3');\n",
              "          const dataTable =\n",
              "            await google.colab.kernel.invokeFunction('convertToInteractive',\n",
              "                                                     [key], {});\n",
              "          if (!dataTable) return;\n",
              "\n",
              "          const docLinkHtml = 'Like what you see? Visit the ' +\n",
              "            '<a target=\"_blank\" href=https://colab.research.google.com/notebooks/data_table.ipynb>data table notebook</a>'\n",
              "            + ' to learn more about interactive tables.';\n",
              "          element.innerHTML = '';\n",
              "          dataTable['output_type'] = 'display_data';\n",
              "          await google.colab.output.renderOutput(dataTable, element);\n",
              "          const docLink = document.createElement('div');\n",
              "          docLink.innerHTML = docLinkHtml;\n",
              "          element.appendChild(docLink);\n",
              "        }\n",
              "      </script>\n",
              "    </div>\n",
              "  </div>\n",
              "  "
            ]
          },
          "metadata": {},
          "execution_count": 371
        }
      ]
    },
    {
      "cell_type": "code",
      "source": [
        "drop_cols = ['PassengerId', 'Name', 'Age', 'SibSp', 'Parch', 'Ticket', 'Fare', 'Cabin', 'divName', 'divName2']\n",
        "\n",
        "# train_3.drop(drop_cols, axis=1)\n",
        "train_4 = train_4.drop(drop_cols, axis=1)\n",
        "test_4 = test_4.drop(drop_cols, axis=1)\n",
        "\n",
        "label_col = ['Sex','Embarked', 'divAge', 'finDivName', 'Passenger', 'FareGrade']\n",
        "les = []\n",
        "\n",
        "for col in label_col:\n",
        "  le = LabelEncoder()\n",
        "  train_4[col] = le.fit_transform(train_4[col])\n",
        "  test_4[col] = le.transform(test_4[col])\n",
        "  les.append(le)\n",
        "\n"
      ],
      "metadata": {
        "id": "W73hyRQXt0u5"
      },
      "execution_count": 372,
      "outputs": []
    },
    {
      "cell_type": "code",
      "source": [
        "train_4.head(1)"
      ],
      "metadata": {
        "colab": {
          "base_uri": "https://localhost:8080/",
          "height": 81
        },
        "id": "7Lpsbrl91D0j",
        "outputId": "641c5336-c649-4c07-e159-5a90f6fbbfce"
      },
      "execution_count": 373,
      "outputs": [
        {
          "output_type": "execute_result",
          "data": {
            "text/plain": [
              "   Survived  Pclass  Sex  Embarked  divAge  finDivName  FareGrade  Passenger\n",
              "0         0       3    1         2       0           4          1          0"
            ],
            "text/html": [
              "\n",
              "  <div id=\"df-7050c2a1-8a5b-4b6a-aaf5-c35bdca58a41\">\n",
              "    <div class=\"colab-df-container\">\n",
              "      <div>\n",
              "<style scoped>\n",
              "    .dataframe tbody tr th:only-of-type {\n",
              "        vertical-align: middle;\n",
              "    }\n",
              "\n",
              "    .dataframe tbody tr th {\n",
              "        vertical-align: top;\n",
              "    }\n",
              "\n",
              "    .dataframe thead th {\n",
              "        text-align: right;\n",
              "    }\n",
              "</style>\n",
              "<table border=\"1\" class=\"dataframe\">\n",
              "  <thead>\n",
              "    <tr style=\"text-align: right;\">\n",
              "      <th></th>\n",
              "      <th>Survived</th>\n",
              "      <th>Pclass</th>\n",
              "      <th>Sex</th>\n",
              "      <th>Embarked</th>\n",
              "      <th>divAge</th>\n",
              "      <th>finDivName</th>\n",
              "      <th>FareGrade</th>\n",
              "      <th>Passenger</th>\n",
              "    </tr>\n",
              "  </thead>\n",
              "  <tbody>\n",
              "    <tr>\n",
              "      <th>0</th>\n",
              "      <td>0</td>\n",
              "      <td>3</td>\n",
              "      <td>1</td>\n",
              "      <td>2</td>\n",
              "      <td>0</td>\n",
              "      <td>4</td>\n",
              "      <td>1</td>\n",
              "      <td>0</td>\n",
              "    </tr>\n",
              "  </tbody>\n",
              "</table>\n",
              "</div>\n",
              "      <button class=\"colab-df-convert\" onclick=\"convertToInteractive('df-7050c2a1-8a5b-4b6a-aaf5-c35bdca58a41')\"\n",
              "              title=\"Convert this dataframe to an interactive table.\"\n",
              "              style=\"display:none;\">\n",
              "        \n",
              "  <svg xmlns=\"http://www.w3.org/2000/svg\" height=\"24px\"viewBox=\"0 0 24 24\"\n",
              "       width=\"24px\">\n",
              "    <path d=\"M0 0h24v24H0V0z\" fill=\"none\"/>\n",
              "    <path d=\"M18.56 5.44l.94 2.06.94-2.06 2.06-.94-2.06-.94-.94-2.06-.94 2.06-2.06.94zm-11 1L8.5 8.5l.94-2.06 2.06-.94-2.06-.94L8.5 2.5l-.94 2.06-2.06.94zm10 10l.94 2.06.94-2.06 2.06-.94-2.06-.94-.94-2.06-.94 2.06-2.06.94z\"/><path d=\"M17.41 7.96l-1.37-1.37c-.4-.4-.92-.59-1.43-.59-.52 0-1.04.2-1.43.59L10.3 9.45l-7.72 7.72c-.78.78-.78 2.05 0 2.83L4 21.41c.39.39.9.59 1.41.59.51 0 1.02-.2 1.41-.59l7.78-7.78 2.81-2.81c.8-.78.8-2.07 0-2.86zM5.41 20L4 18.59l7.72-7.72 1.47 1.35L5.41 20z\"/>\n",
              "  </svg>\n",
              "      </button>\n",
              "      \n",
              "  <style>\n",
              "    .colab-df-container {\n",
              "      display:flex;\n",
              "      flex-wrap:wrap;\n",
              "      gap: 12px;\n",
              "    }\n",
              "\n",
              "    .colab-df-convert {\n",
              "      background-color: #E8F0FE;\n",
              "      border: none;\n",
              "      border-radius: 50%;\n",
              "      cursor: pointer;\n",
              "      display: none;\n",
              "      fill: #1967D2;\n",
              "      height: 32px;\n",
              "      padding: 0 0 0 0;\n",
              "      width: 32px;\n",
              "    }\n",
              "\n",
              "    .colab-df-convert:hover {\n",
              "      background-color: #E2EBFA;\n",
              "      box-shadow: 0px 1px 2px rgba(60, 64, 67, 0.3), 0px 1px 3px 1px rgba(60, 64, 67, 0.15);\n",
              "      fill: #174EA6;\n",
              "    }\n",
              "\n",
              "    [theme=dark] .colab-df-convert {\n",
              "      background-color: #3B4455;\n",
              "      fill: #D2E3FC;\n",
              "    }\n",
              "\n",
              "    [theme=dark] .colab-df-convert:hover {\n",
              "      background-color: #434B5C;\n",
              "      box-shadow: 0px 1px 3px 1px rgba(0, 0, 0, 0.15);\n",
              "      filter: drop-shadow(0px 1px 2px rgba(0, 0, 0, 0.3));\n",
              "      fill: #FFFFFF;\n",
              "    }\n",
              "  </style>\n",
              "\n",
              "      <script>\n",
              "        const buttonEl =\n",
              "          document.querySelector('#df-7050c2a1-8a5b-4b6a-aaf5-c35bdca58a41 button.colab-df-convert');\n",
              "        buttonEl.style.display =\n",
              "          google.colab.kernel.accessAllowed ? 'block' : 'none';\n",
              "\n",
              "        async function convertToInteractive(key) {\n",
              "          const element = document.querySelector('#df-7050c2a1-8a5b-4b6a-aaf5-c35bdca58a41');\n",
              "          const dataTable =\n",
              "            await google.colab.kernel.invokeFunction('convertToInteractive',\n",
              "                                                     [key], {});\n",
              "          if (!dataTable) return;\n",
              "\n",
              "          const docLinkHtml = 'Like what you see? Visit the ' +\n",
              "            '<a target=\"_blank\" href=https://colab.research.google.com/notebooks/data_table.ipynb>data table notebook</a>'\n",
              "            + ' to learn more about interactive tables.';\n",
              "          element.innerHTML = '';\n",
              "          dataTable['output_type'] = 'display_data';\n",
              "          await google.colab.output.renderOutput(dataTable, element);\n",
              "          const docLink = document.createElement('div');\n",
              "          docLink.innerHTML = docLinkHtml;\n",
              "          element.appendChild(docLink);\n",
              "        }\n",
              "      </script>\n",
              "    </div>\n",
              "  </div>\n",
              "  "
            ]
          },
          "metadata": {},
          "execution_count": 373
        }
      ]
    },
    {
      "cell_type": "code",
      "source": [
        "X = train_4.drop(['Survived'], axis=1)\n",
        "y = train_4['Survived']\n",
        "\n",
        "X_train, X_test, y_train, y_test = train_test_split(X, y, test_size=0.2, random_state=52)\n",
        "\n",
        "tree = DecisionTreeClassifier()\n",
        "rf = RandomForestClassifier()\n",
        "xgb = XGBClassifier()\n",
        "logi = LogisticRegression()\n",
        "\n",
        "tree.fit(X_train, y_train)\n",
        "rf.fit(X_train, y_train)\n",
        "xgb.fit(X_train, y_train)\n",
        "logi.fit(X_train, y_train)\n",
        "\n",
        "tree_pred = tree.predict(test_4)\n",
        "rf_pred = rf.predict(test_4)\n",
        "xgb_pred = xgb.predict(test_4)\n",
        "logi_pred = logi.predict(test_4)\n",
        "\n",
        "print(\"DecisionTree : {:.2f}%\" .format(tree.score(X_test, y_test)*100))\n",
        "print(\"RandomForest : {:.2f}%\" .format(rf.score(X_test, y_test)*100))\n",
        "print(\"XGBoost : {:.2f}%\" .format(xgb.score(X_test, y_test)*100))\n",
        "print(\"Logisitc : {:.2f}%\" .format(logi.score(X_test, y_test)*100))\n"
      ],
      "metadata": {
        "colab": {
          "base_uri": "https://localhost:8080/"
        },
        "id": "6xrF-rYzuKME",
        "outputId": "7e7bea46-e2c8-4759-b2f8-46e68eda9f10"
      },
      "execution_count": 374,
      "outputs": [
        {
          "output_type": "stream",
          "name": "stdout",
          "text": [
            "DecisionTree : 82.68%\n",
            "RandomForest : 82.68%\n",
            "XGBoost : 82.68%\n",
            "Logisitc : 81.01%\n"
          ]
        }
      ]
    },
    {
      "cell_type": "code",
      "source": [
        "submission = pd.read_csv('/content/drive/MyDrive/ds_study/ML/02.titanic/submission.csv')\n",
        "submission['Survived'] = xgb_pred\n",
        "submission.to_csv('/content/drive/MyDrive/ds_study/ML/02.titanic/submission7.csv', index=False)\n",
        "submission['Survived'] = rf_pred\n",
        "submission.to_csv('/content/drive/MyDrive/ds_study/ML/02.titanic/submission8.csv', index=False)\n",
        "submission['Survived'] = tree_pred\n",
        "submission.to_csv('/content/drive/MyDrive/ds_study/ML/02.titanic/submission9.csv', index=False)\n",
        "submission['Survived'] = logi_pred\n",
        "submission.to_csv('/content/drive/MyDrive/ds_study/ML/02.titanic/submission10.csv', index=False)"
      ],
      "metadata": {
        "id": "3k9HmREGuOnK"
      },
      "execution_count": 375,
      "outputs": []
    },
    {
      "cell_type": "markdown",
      "source": [
        "### 결과\n",
        "\n",
        " 4개의 모델이 대부분 비슷한 성능을 보여서 4개 모두 확인해본 결과 로지스틱회귀 모델이 테스트때와 달리 근소하지만 가장 좋은 결과를 보였음.\n",
        "\n",
        " ![스크린샷 2023-03-13 오후 4.22.05.png](data:image/png;base64,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)"
      ],
      "metadata": {
        "id": "jusPC0M-uYaI"
      }
    },
    {
      "cell_type": "code",
      "source": [],
      "metadata": {
        "id": "2xgEGF4U2izp"
      },
      "execution_count": null,
      "outputs": []
    }
  ],
  "metadata": {
    "colab": {
      "provenance": []
    },
    "kernelspec": {
      "display_name": "Python 3",
      "name": "python3"
    },
    "language_info": {
      "codemirror_mode": {
        "name": "ipython",
        "version": 3
      },
      "file_extension": ".py",
      "mimetype": "text/x-python",
      "name": "python",
      "nbconvert_exporter": "python",
      "pygments_lexer": "ipython3",
      "version": "3.7.16"
    }
  },
  "nbformat": 4,
  "nbformat_minor": 0
}